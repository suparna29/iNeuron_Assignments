{
  "nbformat": 4,
  "nbformat_minor": 0,
  "metadata": {
    "colab": {
      "name": "Basic_Programming_Assignment_10.ipynb",
      "provenance": []
    },
    "kernelspec": {
      "name": "python3",
      "display_name": "Python 3"
    },
    "language_info": {
      "name": "python"
    }
  },
  "cells": [
    {
      "cell_type": "code",
      "metadata": {
        "colab": {
          "base_uri": "https://localhost:8080/"
        },
        "id": "j0Z6SsTL6u_y",
        "outputId": "544809e1-a3f0-443a-c25e-3a456525eeb7"
      },
      "source": [
        "# 1. Write a Python program to find sum of elements in list?\n",
        "total = 0\n",
        "list = [1,3,4,5]\n",
        "for element in range(0, len(list)):\n",
        "  total = total + list[element]\n",
        "print(\"Sum of elements in \\'list\\' = \",total)\n"
      ],
      "execution_count": 4,
      "outputs": [
        {
          "output_type": "stream",
          "text": [
            "Sum of elements in 'list' =  13\n"
          ],
          "name": "stdout"
        }
      ]
    },
    {
      "cell_type": "code",
      "metadata": {
        "colab": {
          "base_uri": "https://localhost:8080/"
        },
        "id": "xOIuYuai6vCJ",
        "outputId": "02f52b2e-cfad-4cfb-cf47-10f89d927465"
      },
      "source": [
        "# 2. Write a Python program to Multiply all numbers in the list?\n",
        "multi = 1\n",
        "list1 = [1,2,3,4]\n",
        "for ele in range (0, len(list1)):\n",
        "  multi = multi * list1[ele]\n",
        "print(\"Multiply all elements in \\'list1\\' =\", multi)"
      ],
      "execution_count": 6,
      "outputs": [
        {
          "output_type": "stream",
          "text": [
            "Multiply all elements in 'list1' = 24\n"
          ],
          "name": "stdout"
        }
      ]
    },
    {
      "cell_type": "code",
      "metadata": {
        "colab": {
          "base_uri": "https://localhost:8080/"
        },
        "id": "vZKv5zyC6vEK",
        "outputId": "f445e4c9-0120-4360-f7d1-8c54b9d9ee77"
      },
      "source": [
        "# 3. Write a Python program to find smallest number in a list?\n",
        "lst1 = [5,2,3,4]\n",
        "lst1.sort()\n",
        "#printing the first element from the sorted list\n",
        "print(\"The smallest number of the list is:\", lst1[0])\n"
      ],
      "execution_count": 11,
      "outputs": [
        {
          "output_type": "stream",
          "text": [
            "The smallest number of the list is: 2\n"
          ],
          "name": "stdout"
        }
      ]
    },
    {
      "cell_type": "code",
      "metadata": {
        "colab": {
          "base_uri": "https://localhost:8080/"
        },
        "id": "xo-OB2qW6vGU",
        "outputId": "1699d51e-ecb7-43ce-f225-efda003ba0dc"
      },
      "source": [
        "# 4. Write a Python program to find largest number in a list?\n",
        "lst2 = [9,2,13,4]\n",
        "lst2.sort()\n",
        "#printing the last element from the sorted list\n",
        "print(\"The largest number of the list is:\", lst2[-1])"
      ],
      "execution_count": 15,
      "outputs": [
        {
          "output_type": "stream",
          "text": [
            "The largest number of the list is: 13\n"
          ],
          "name": "stdout"
        }
      ]
    },
    {
      "cell_type": "code",
      "metadata": {
        "colab": {
          "base_uri": "https://localhost:8080/"
        },
        "id": "Vg-UswKA6vIx",
        "outputId": "a0b745a6-8713-4a28-b8b1-1b2d74445429"
      },
      "source": [
        "# 5. Write a Python program to find second largest number in a list?\n",
        "lst3 = [5,7,17,16,37,280,9]\n",
        "lst3.sort()\n",
        "#printing the second last element from the sorted list\n",
        "print(\"The second largerst number is = \", lst3[-2])"
      ],
      "execution_count": 17,
      "outputs": [
        {
          "output_type": "stream",
          "text": [
            "The second largerst number is =  37\n"
          ],
          "name": "stdout"
        }
      ]
    },
    {
      "cell_type": "code",
      "metadata": {
        "colab": {
          "base_uri": "https://localhost:8080/"
        },
        "id": "ScT91SnlQYeU",
        "outputId": "932be2ea-c554-4919-cad9-c96731eb79ae"
      },
      "source": [
        "# 6. Write a Python program to find N largest elements from a list?\n",
        "def Nmaxelements(listt1, N):\n",
        "    final_list = []\n",
        "  \n",
        "    for i in range(0, N): \n",
        "        max1 = 0\n",
        "          \n",
        "        for j in range(len(listt1)):     \n",
        "            if listt1[j] > max1:\n",
        "                max1 = listt1[j];\n",
        "                  \n",
        "        listt1.remove(max1);\n",
        "        final_list.append(max1)\n",
        "          \n",
        "    print(final_list)\n",
        "  \n",
        "# Driver code\n",
        "listt1 = [2, 6, 41, 85, 0, 3, 7, 6, 10]\n",
        "N = 2\n",
        "  \n",
        "# Calling the function\n",
        "Nmaxelements(listt1, N)"
      ],
      "execution_count": 18,
      "outputs": [
        {
          "output_type": "stream",
          "text": [
            "[85, 41]\n"
          ],
          "name": "stdout"
        }
      ]
    },
    {
      "cell_type": "code",
      "metadata": {
        "colab": {
          "base_uri": "https://localhost:8080/"
        },
        "id": "WBpQqd5zQYoZ",
        "outputId": "0fdf3edc-5b06-4fa9-f27c-522de6aee16e"
      },
      "source": [
        "# 7. Write a Python program to print even numbers in a list?\n",
        "l = [2,3,4,5,6,7,8,10]\n",
        "for i in l:\n",
        "  if i % 2 == 0:\n",
        "    print(i)"
      ],
      "execution_count": 23,
      "outputs": [
        {
          "output_type": "stream",
          "text": [
            "2\n",
            "4\n",
            "6\n",
            "8\n",
            "10\n"
          ],
          "name": "stdout"
        }
      ]
    },
    {
      "cell_type": "code",
      "metadata": {
        "colab": {
          "base_uri": "https://localhost:8080/"
        },
        "id": "9ThuvIV8QYrU",
        "outputId": "df5e0d66-9c68-4e9d-d744-0e2e23497c27"
      },
      "source": [
        "# 8. Write a Python program to print odd numbers in a List?\n",
        "l1 = [2,3,4,5,6,7,8,9]\n",
        "for i in l1:\n",
        "  if i % 2 != 0:\n",
        "    print(i)"
      ],
      "execution_count": 24,
      "outputs": [
        {
          "output_type": "stream",
          "text": [
            "3\n",
            "5\n",
            "7\n",
            "9\n"
          ],
          "name": "stdout"
        }
      ]
    },
    {
      "cell_type": "code",
      "metadata": {
        "colab": {
          "base_uri": "https://localhost:8080/"
        },
        "id": "wpmD3HmLQYt3",
        "outputId": "46bf5a78-45a9-4468-cf01-5f600313b89c"
      },
      "source": [
        "# 9. Write a Python program to Remove empty List from List?\n",
        "\n",
        "test_list = [5, 6, [], 3, [], [], 9] \n",
        "# printing original list \n",
        "print(\"The original list is : \" + str(test_list))\n",
        "\n",
        "# Remove empty List from List\n",
        "# using list comprehension\n",
        "res = [ele for ele in test_list if ele != []]\n",
        "  \n",
        "# printing result \n",
        "print (\"List after empty list removal : \" + str(res))"
      ],
      "execution_count": 25,
      "outputs": [
        {
          "output_type": "stream",
          "text": [
            "The original list is : [5, 6, [], 3, [], [], 9]\n",
            "List after empty list removal : [5, 6, 3, 9]\n"
          ],
          "name": "stdout"
        }
      ]
    },
    {
      "cell_type": "code",
      "metadata": {
        "colab": {
          "base_uri": "https://localhost:8080/"
        },
        "id": "jVngNtRsQYwf",
        "outputId": "5811b5b4-42e9-45e5-ecb5-248012036ef0"
      },
      "source": [
        "# 10. Write a Python program to Cloning or Copying a list?\n",
        "l3 = [2,3,4,5,6,7]\n",
        "l4 = l3\n",
        "print(\"original list is :\", l3)\n",
        "print(\"Copied list is :\", l4)"
      ],
      "execution_count": 28,
      "outputs": [
        {
          "output_type": "stream",
          "text": [
            "original list is : [2, 3, 4, 5, 6, 7]\n",
            "Copied list is : [2, 3, 4, 5, 6, 7]\n"
          ],
          "name": "stdout"
        }
      ]
    },
    {
      "cell_type": "code",
      "metadata": {
        "colab": {
          "base_uri": "https://localhost:8080/"
        },
        "id": "93WsVBgrQYyu",
        "outputId": "f61992cb-3e0e-4458-d3cd-0d95e725972a"
      },
      "source": [
        "# 11. Write a Python program to Count occurrences of an element in a list?\n",
        "l5 = [6, 8, 10, 8, 20, 10, 8, 8]\n",
        "x = 8\n",
        "def countX(l5, x):\n",
        "  count = 0\n",
        "  for elem in l5:\n",
        "    if(elem == x):\n",
        "      count = count +1\n",
        "  return count\n",
        "#driver code\n",
        "print('{} has occurred {} times'.format(x, countX(l5,x)))"
      ],
      "execution_count": 33,
      "outputs": [
        {
          "output_type": "stream",
          "text": [
            "8 has occurred 4 times\n"
          ],
          "name": "stdout"
        }
      ]
    }
  ]
}