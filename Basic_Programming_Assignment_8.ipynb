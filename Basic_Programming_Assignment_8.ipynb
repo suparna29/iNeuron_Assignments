{
  "nbformat": 4,
  "nbformat_minor": 0,
  "metadata": {
    "colab": {
      "name": "Untitled5.ipynb",
      "provenance": []
    },
    "kernelspec": {
      "name": "python3",
      "display_name": "Python 3"
    },
    "language_info": {
      "name": "python"
    }
  },
  "cells": [
    {
      "cell_type": "code",
      "metadata": {
        "id": "B-r5yXnkD56-"
      },
      "source": [
        "\n",
        "\n",
        "\n",
        "\n"
      ],
      "execution_count": null,
      "outputs": []
    },
    {
      "cell_type": "code",
      "metadata": {
        "colab": {
          "base_uri": "https://localhost:8080/"
        },
        "id": "fHJMNQFTD_em",
        "outputId": "43ec9c24-8c36-442b-8387-5bb0a6da8724"
      },
      "source": [
        "# 1. Write a Python Program to Add Two Matrices?\n",
        "x = [[1,3,5],\n",
        "     [2,4,6],\n",
        "     [5,5,7]]\n",
        "\n",
        "y = [[10,30,50],\n",
        "     [20,40,60],\n",
        "     [50,50,70]]\n",
        "\n",
        "output = [[0,0,0],\n",
        "          [0,0,0],\n",
        "          [0,0,0]]\n",
        "\n",
        "#iterate through rows\n",
        "for i in range(len(x)):\n",
        "  #iterate through columns\n",
        "  for j in range(len(x[0])):\n",
        "    output[i][j] = x[i][j] + y[i][j]\n",
        "for r in output:\n",
        "  print(r)\n",
        "\n",
        "\n"
      ],
      "execution_count": 3,
      "outputs": [
        {
          "output_type": "stream",
          "text": [
            "[11, 33, 55]\n",
            "[22, 44, 66]\n",
            "[55, 55, 77]\n"
          ],
          "name": "stdout"
        }
      ]
    },
    {
      "cell_type": "code",
      "metadata": {
        "colab": {
          "base_uri": "https://localhost:8080/"
        },
        "id": "gWo1zQcfD_g4",
        "outputId": "f5db5c4d-2ff7-40de-c064-a48cf5dc67e3"
      },
      "source": [
        "# 2. Write a Python Program to Multiply Two Matrices?\n",
        "x = [[1,3,5],\n",
        "     [2,4,6],\n",
        "     [5,5,7]]\n",
        "\n",
        "y = [[10,30,50],\n",
        "     [20,40,60],\n",
        "     [50,50,70]]\n",
        "\n",
        "output = [[0,0,0],\n",
        "          [0,0,0],\n",
        "          [0,0,0]]\n",
        "\n",
        "#iterate through rows\n",
        "for i in range(len(x)):\n",
        "  #iterate through columns\n",
        "  for j in range(len(x[0])):\n",
        "    output[i][j] = x[i][j] * y[i][j]\n",
        "for r in output:\n",
        "  print(r)"
      ],
      "execution_count": 4,
      "outputs": [
        {
          "output_type": "stream",
          "text": [
            "[10, 90, 250]\n",
            "[40, 160, 360]\n",
            "[250, 250, 490]\n"
          ],
          "name": "stdout"
        }
      ]
    },
    {
      "cell_type": "code",
      "metadata": {
        "colab": {
          "base_uri": "https://localhost:8080/"
        },
        "id": "3LDPe3-nD_i5",
        "outputId": "b6a64e7e-44b3-4374-d778-0afb19236428"
      },
      "source": [
        "# 3. Write a Python Program to Transpose a Matrix?\n",
        "X = [[12,7],\n",
        "    [4 ,5],\n",
        "    [3 ,8]]\n",
        "\n",
        "result = [[0,0,0],\n",
        "         [0,0,0]]\n",
        "\n",
        "# iterate through rows\n",
        "for i in range(len(X)):\n",
        "   # iterate through columns\n",
        "   for j in range(len(X[0])):\n",
        "       result[j][i] = X[i][j]\n",
        "\n",
        "for r in result:\n",
        "   print(r)"
      ],
      "execution_count": 5,
      "outputs": [
        {
          "output_type": "stream",
          "text": [
            "[12, 4, 3]\n",
            "[7, 5, 8]\n"
          ],
          "name": "stdout"
        }
      ]
    },
    {
      "cell_type": "code",
      "metadata": {
        "colab": {
          "base_uri": "https://localhost:8080/"
        },
        "id": "JSqGpgFOD_pL",
        "outputId": "e1605446-20c5-4901-b0de-384d4a96ed82"
      },
      "source": [
        "# 4. Write a Python Program to Sort Words in Alphabetic Order?\n",
        "mystr = str(input(\"Type your sentence: \"))\n",
        "# breakdown the string into a list of words\n",
        "words = [word.lower() for word in mystr.split()]\n",
        "\n",
        "# sort the list\n",
        "words.sort()\n",
        "\n",
        "# display the sorted words\n",
        "\n",
        "print(\"The sorted words are:\")\n",
        "for word in words:\n",
        "   print(word)\n"
      ],
      "execution_count": 6,
      "outputs": [
        {
          "output_type": "stream",
          "text": [
            "Type your sentence: This is an example for sorting words\n",
            "The sorted words are:\n",
            "an\n",
            "example\n",
            "for\n",
            "is\n",
            "sorting\n",
            "this\n",
            "words\n"
          ],
          "name": "stdout"
        }
      ]
    },
    {
      "cell_type": "code",
      "metadata": {
        "colab": {
          "base_uri": "https://localhost:8080/"
        },
        "id": "_QKar0qSngFD",
        "outputId": "b7c002c8-69aa-46a2-cb87-9a9740ec9481"
      },
      "source": [
        "# 5. Write a Python Program to Remove Punctuation From a String?\n",
        "\n",
        "# define all punctuations\n",
        "punctuations = '''!()-[]{};:'\"\\,<>./?@#$%^&*_~'''\n",
        " \n",
        "# take input from the user\n",
        "my_str = input(\"Enter a string: \")\n",
        " \n",
        "# remove punctuation from the string\n",
        "no_punct = \"\"\n",
        "for char in my_str:\n",
        "   if char not in punctuations:\n",
        "       no_punct = no_punct + char\n",
        " \n",
        "# display the unpunctuated string\n",
        "print(no_punct)"
      ],
      "execution_count": 7,
      "outputs": [
        {
          "output_type": "stream",
          "text": [
            "Enter a string: Hi!!!!!!!! Let's remove the punctuations & and print it----------------------\n",
            "Hi Lets remove the punctuations  and print it\n"
          ],
          "name": "stdout"
        }
      ]
    }
  ]
}