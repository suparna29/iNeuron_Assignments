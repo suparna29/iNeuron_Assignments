{
 "cells": [
  {
   "cell_type": "code",
   "execution_count": null,
   "metadata": {},
   "outputs": [],
   "source": [
    "Q1. Describe the differences between text and binary files in a single paragraph.\n",
    "Ans:\n",
    "Binary file contains the data in the form of 0 and 1(series of binary values) and text files contains the data in the \n",
    "form of stream of characters.In general binary files are identified as executable files. But binary files are not in\n",
    "readable form as like text file."
   ]
  },
  {
   "cell_type": "code",
   "execution_count": null,
   "metadata": {},
   "outputs": [],
   "source": [
    "Q2. What are some scenarios where using text files will be the better option? When would you like to use binary files \n",
    "instead of text files?\n",
    "Ans:\n",
    "\n",
    "Text File\n",
    "Bits represent character.\n",
    "Less prone to get corrupt as changes reflect as soon as the file is opened and can easily be undone.\n",
    "Can store only plain text in a file.\n",
    "Widely used file format and can be opened using any simple text editor.\n",
    "Mostly .txt and .rtf are used as extensions to text files.\n",
    "\n",
    "Binary File\n",
    "Bits represent a custom data.  \n",
    "Can easily get corrupted, even a single bit change may corrupt the file.\n",
    "Can store different types of data (image, audio, text) in a single file.\n",
    "Developed especially for an application and may not be understood by other applications.\n",
    "Can have any application defined extension."
   ]
  },
  {
   "cell_type": "code",
   "execution_count": null,
   "metadata": {},
   "outputs": [],
   "source": [
    "Q3. What are some of the issues with using binary operations to read and write a Python integer directly to disc?\n",
    "Ans:\n",
    "The Binary Number System are also ease of use in coding, fewer computations and less computational errors. \n",
    "The major disadvantage of binary number is difficult to read and write for humans because of large number of binary of a \n",
    "equivalent decimal number."
   ]
  },
  {
   "cell_type": "code",
   "execution_count": null,
   "metadata": {},
   "outputs": [],
   "source": [
    "Q4. Describe a benefit of using the with keyword instead of explicitly opening a file.\n",
    "Ans:\n",
    "Using with means that the file will be closed as soon as you leave the block. This is beneficial because closing a file is \n",
    "something that can easily be forgotten and ties up resources that you no longer need."
   ]
  },
  {
   "cell_type": "code",
   "execution_count": null,
   "metadata": {},
   "outputs": [],
   "source": [
    "Q5. Does Python have the trailing newline while reading a line of text? \n",
    "Ans:\n",
    "Python readline() is a file method that helps to read one complete line from the given file. \n",
    "It has a trailing newline (\"\\n\") at the end of the string returned. We can also make use of the size parameter to get a\n",
    "specific length of the line.\n",
    "\n",
    "Does Python append a newline when you write a line of text?\n",
    "Ans:\n",
    "This uses a backslash escape, \\n , which Python converts to a newline character in string literals. It just concatenates \n",
    "your string, name , and that newline character into a bigger string, which gets written to the file."
   ]
  },
  {
   "cell_type": "code",
   "execution_count": null,
   "metadata": {},
   "outputs": [],
   "source": [
    "Q6. What file operations enable for random-access operation?\n",
    "Ans:\n",
    "Random access files permit nonsequential, or random, access to a file's contents. To access a file randomly, you open the \n",
    "file, seek a particular location, and read from or write to that file.\n",
    "\n",
    "position – Returns the channel's current position\n",
    "position(long) – Sets the channel's position\n",
    "read(ByteBuffer) – Reads bytes into the buffer from the channel\n",
    "write(ByteBuffer) – Writes bytes from the buffer to the channel\n",
    "truncate(long) – Truncates the file (or other entity) connected to the channel"
   ]
  },
  {
   "cell_type": "code",
   "execution_count": null,
   "metadata": {},
   "outputs": [],
   "source": [
    "Q7. When do you think you'll use the struct package the most?\n",
    "Ans:\n",
    "This module performs conversions between Python values and C structs represented as Python bytes objects. This can be used \n",
    "in handling binary data stored in files or from network connections, among other sources. It uses Format Strings as \n",
    "compact descriptions of the layout of the C structs and the intended conversion to/from Python values."
   ]
  },
  {
   "cell_type": "code",
   "execution_count": null,
   "metadata": {},
   "outputs": [],
   "source": [
    "Q8. When is pickling the best option?\n",
    "Ans:\n",
    "The Python pickle module is a better choice for all the remaining use cases. If you don't need a human-readable format or \n",
    "a standard interoperable format, or if you need to serialize custom objects, then go with pickle ."
   ]
  },
  {
   "cell_type": "code",
   "execution_count": null,
   "metadata": {},
   "outputs": [],
   "source": [
    "Q9. When will it be best to use the shelve package?\n",
    "Ans:\n",
    "A “shelf” is a persistent, dictionary-like object. The difference with “dbm” databases is that the values (not the keys!) \n",
    "in a shelf can be essentially arbitrary Python objects — anything that the pickle module can handle. This includes most \n",
    "class instances, recursive data types, and objects containing lots of shared sub-objects. The keys are ordinary strings."
   ]
  },
  {
   "cell_type": "code",
   "execution_count": null,
   "metadata": {},
   "outputs": [],
   "source": [
    "Q10. What is a special restriction when using the shelve package, as opposed to using other data dictionaries?\n",
    "Ans:\n",
    "The choice of which database package will be used (such as dbm.ndbm or dbm.gnu) depends on which interface is available. \n",
    "Therefore it is not safe to open the database directly using dbm. The database is also (unfortunately) subject to the \n",
    "limitations of dbm, if it is used — this means that (the pickled representation of) the objects stored in the database \n",
    "should be fairly small, and in rare cases key collisions may cause the database to refuse updates.\n",
    "\n",
    "The shelve module does not support concurrent read/write access to shelved objects. (Multiple simultaneous read accesses \n",
    "are safe.) When a program has a shelf open for writing, no other program should have it open for reading or writing. Unix \n",
    "file locking can be used to solve this, but this differs across Unix versions and requires knowledge about the database \n",
    "implementation used."
   ]
  }
 ],
 "metadata": {
  "kernelspec": {
   "display_name": "Python 3",
   "language": "python",
   "name": "python3"
  },
  "language_info": {
   "codemirror_mode": {
    "name": "ipython",
    "version": 3
   },
   "file_extension": ".py",
   "mimetype": "text/x-python",
   "name": "python",
   "nbconvert_exporter": "python",
   "pygments_lexer": "ipython3",
   "version": "3.8.5"
  }
 },
 "nbformat": 4,
 "nbformat_minor": 4
}
