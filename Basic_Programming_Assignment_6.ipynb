{
  "nbformat": 4,
  "nbformat_minor": 0,
  "metadata": {
    "colab": {
      "name": "Basic_Programming_Assignment_6.ipynb",
      "provenance": [],
      "collapsed_sections": []
    },
    "kernelspec": {
      "name": "python3",
      "display_name": "Python 3"
    },
    "language_info": {
      "name": "python"
    }
  },
  "cells": [
    {
      "cell_type": "code",
      "metadata": {
        "colab": {
          "base_uri": "https://localhost:8080/"
        },
        "id": "zGzmEfzUMn_8",
        "outputId": "f51021b0-8790-4269-bc9a-2a2ea9e95af6"
      },
      "source": [
        "# 1. Write a Python Program to Display Fibonacci Sequence Using Recursion?\n",
        "def recur_fibo(n):\n",
        "   if n <= 1:\n",
        "       return n\n",
        "   else:\n",
        "       return(recur_fibo(n-1) + recur_fibo(n-2))\n",
        "nterms = int(input(\"Enter a number: \"))\n",
        "# check if the number of terms is valid\n",
        "if nterms <= 0:\n",
        "   print(\"Enter a positive integer:\")\n",
        "else:\n",
        "   print(\"Fibonacci sequence using recursion :\")\n",
        "   for i in range(nterms):\n",
        "       print(recur_fibo(i))\n"
      ],
      "execution_count": 5,
      "outputs": [
        {
          "output_type": "stream",
          "text": [
            "Enter a number: 7\n",
            "Fibonacci sequence using recursion :\n",
            "0\n",
            "1\n",
            "1\n",
            "2\n",
            "3\n",
            "5\n",
            "8\n"
          ],
          "name": "stdout"
        }
      ]
    },
    {
      "cell_type": "code",
      "metadata": {
        "colab": {
          "base_uri": "https://localhost:8080/"
        },
        "id": "eqA0YFA4MoE9",
        "outputId": "6ecf1797-adcd-4348-f3ad-b3bd7f58d4a8"
      },
      "source": [
        "# 2. Write a Python Program to Find Factorial of Number Using Recursion?\n",
        "def fact_rec(n):\n",
        "  if n ==1:\n",
        "    return n\n",
        "  else:\n",
        "    return n*fact_rec(n-1)\n",
        "num = int(input(\"Enter a number: \"))\n",
        "if num < 0:\n",
        "  print(\"Sorry! factorial doesn't exist for negetive number.\")\n",
        "elif num == 0:\n",
        "  print(\"Factorial of 0 is 1\")\n",
        "else:\n",
        "  print(\"The factorial of input value is: \", fact_rec(num))\n"
      ],
      "execution_count": 12,
      "outputs": [
        {
          "output_type": "stream",
          "text": [
            "Enter a number: -1\n",
            "Sorry! factorial doesn't exist for negetive number.\n"
          ],
          "name": "stdout"
        }
      ]
    },
    {
      "cell_type": "code",
      "metadata": {
        "colab": {
          "base_uri": "https://localhost:8080/"
        },
        "id": "rfQsvygAMoIz",
        "outputId": "8840f64a-51ec-4e1d-ac76-2720b53f82dd"
      },
      "source": [
        "# 3. Write a Python Program to calculate your Body Mass Index?\n",
        "# BMI = weight / (height/100)**2\n",
        "height = float(input(\"Enter your height in cm: \"))\n",
        "weight = float(input(\"Enter your weight in kg: \"))\n",
        "BMI = weight /(height/100)**2\n",
        "print(\"Your BMI is :\", BMI)\n",
        "if BMI <= 18.4:\n",
        "    print(\"You are underweight!\")\n",
        "elif BMI <= 24.9:\n",
        "    print(\"You are healthy!\")\n",
        "elif BMI <= 29.9:\n",
        "    print(\"You are over weight!\")\n",
        "elif BMI <= 34.9:\n",
        "    print(\"You are severely over weight!\")\n",
        "elif BMI <= 39.9:\n",
        "    print(\"You are obese!\")\n",
        "else:\n",
        "    print(\"You are severely obese!\")\n"
      ],
      "execution_count": 18,
      "outputs": [
        {
          "output_type": "stream",
          "text": [
            "Enter your height in cm: 175\n",
            "Enter your weight in kg: 56\n",
            "Your BMI is : 18.285714285714285\n",
            "You are underweight!\n"
          ],
          "name": "stdout"
        }
      ]
    },
    {
      "cell_type": "code",
      "metadata": {
        "colab": {
          "base_uri": "https://localhost:8080/"
        },
        "id": "u1c7hcaSMoK3",
        "outputId": "9e61ea5c-714d-4b3c-c21e-388ce796d9ac"
      },
      "source": [
        "# 4. Write a Python Program to calculate the natural logarithm of any number?\n",
        "import math\n",
        "a= float(input(\"Enter any number: \"))\n",
        "print(\"math.log(a) :\", math.log(a))\n",
        "print (\"math.log(math.pi) : \", math.log(math.pi))"
      ],
      "execution_count": 23,
      "outputs": [
        {
          "output_type": "stream",
          "text": [
            "Enter any number: 100.12\n",
            "math.log(a) : 4.6063694665635735\n",
            "math.log(math.pi) :  1.1447298858494002\n"
          ],
          "name": "stdout"
        }
      ]
    },
    {
      "cell_type": "code",
      "metadata": {
        "colab": {
          "base_uri": "https://localhost:8080/"
        },
        "id": "7t-NNb4iMoP7",
        "outputId": "e1c42549-37d2-4f9b-dfda-f9908db6df47"
      },
      "source": [
        "# 5. Write a Python Program for cube sum of first n natural numbers?\n",
        "n = int(input(\"Enter a number: \"))\n",
        "def sumOfSeries(n):\n",
        "  sum = 0\n",
        "  for i in range (1, n+1):\n",
        "    sum += i*i*i\n",
        "  return sum\n",
        "\n",
        "print(sumOfSeries(n))"
      ],
      "execution_count": 27,
      "outputs": [
        {
          "output_type": "stream",
          "text": [
            "Enter a number: 7\n",
            "784\n"
          ],
          "name": "stdout"
        }
      ]
    }
  ]
}