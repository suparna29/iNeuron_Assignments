{
  "nbformat": 4,
  "nbformat_minor": 0,
  "metadata": {
    "colab": {
      "name": "Basic_Programming_Assignment_9.ipynb",
      "provenance": [],
      "collapsed_sections": []
    },
    "kernelspec": {
      "name": "python3",
      "display_name": "Python 3"
    },
    "language_info": {
      "name": "python"
    }
  },
  "cells": [
    {
      "cell_type": "code",
      "metadata": {
        "colab": {
          "base_uri": "https://localhost:8080/"
        },
        "id": "JZCO9yAnp-T_",
        "outputId": "c9d53cd7-841b-4e4e-c2c4-c1aaf037ea93"
      },
      "source": [
        "# 1. Write a Python program to check if the given number is a Disarium Number?\n",
        "#calculateLength() will count the digits present in a number    \n",
        "def calculateLength(n):    \n",
        "    length = 0;    \n",
        "    while(n != 0):    \n",
        "        length = length + 1;    \n",
        "        n = n//10;    \n",
        "    return length;    \n",
        "     \n",
        "num = 175;    \n",
        "rem = sum = 0;    \n",
        "len = calculateLength(num);    \n",
        "     \n",
        "#Makes a copy of the original number num    \n",
        "n = num;    \n",
        "     \n",
        "#Calculates the sum of digits powered with their respective position    \n",
        "while(num > 0):    \n",
        "    rem = num%10;    \n",
        "    sum = sum + int(rem**len);    \n",
        "    num = num//10;    \n",
        "    len = len - 1;    \n",
        "     \n",
        "#Checks whether the sum is equal to the number itself    \n",
        "if(sum == n):    \n",
        "    print(str(n) + \" is a disarium number\");    \n",
        "else:    \n",
        "    print(str(n) + \" is not a disarium number\");   "
      ],
      "execution_count": 1,
      "outputs": [
        {
          "output_type": "stream",
          "text": [
            "175 is a disarium number\n"
          ],
          "name": "stdout"
        }
      ]
    },
    {
      "cell_type": "code",
      "metadata": {
        "colab": {
          "base_uri": "https://localhost:8080/"
        },
        "id": "yLfBp8iTp-Wb",
        "outputId": "d3d874d2-9366-4dce-9e5b-bdf461aa3cc4"
      },
      "source": [
        "# 2. Write a Python program to print all disarium numbers between 1 to 100?\n",
        "def calculateLength(n):    \n",
        "    length = 0    \n",
        "    while(n != 0):    \n",
        "        length = length + 1   \n",
        "        n = n//10    \n",
        "    return length   \n",
        "     \n",
        "def sumOfDigits(num):\n",
        "  rem=sum=0\n",
        "  len=calculateLength(num)\n",
        "\n",
        "     \n",
        "#Calculates the sum of digits powered with their respective position    \n",
        "  while(num > 0):\n",
        "    rem = num%10    \n",
        "    sum = sum + int(rem**len)    \n",
        "    num = num//10    \n",
        "    len = len - 1   \n",
        "  return sum\n",
        "result = 0\n",
        "print(\"Disarium numbers between 1 to 100 are: \")   \n",
        "for i in range(1,101):\n",
        "  result = sumOfDigits(i)\n",
        "  if result == i:\n",
        "    print(i)"
      ],
      "execution_count": 4,
      "outputs": [
        {
          "output_type": "stream",
          "text": [
            "Disarium numbers between 1 to 100 are: \n",
            "1\n",
            "2\n",
            "3\n",
            "4\n",
            "5\n",
            "6\n",
            "7\n",
            "8\n",
            "9\n",
            "89\n"
          ],
          "name": "stdout"
        }
      ]
    },
    {
      "cell_type": "code",
      "metadata": {
        "colab": {
          "base_uri": "https://localhost:8080/"
        },
        "id": "fUtGsgxpp-Yv",
        "outputId": "720e078f-e14e-4f64-cf9e-d71e3288c149"
      },
      "source": [
        "# 3. Write a Python program to check if the given number is Happy Number?\n",
        "def isHappyNumber(num):    \n",
        "    rem = sum = 0    \n",
        "        \n",
        "    #Calculates the sum of squares of digits    \n",
        "    while(num > 0):    \n",
        "        rem = num%10   \n",
        "        sum = sum + (rem*rem)   \n",
        "        num = num//10    \n",
        "    return sum   \n",
        "        \n",
        "num = 82    \n",
        "result = num    \n",
        "     \n",
        "while(result != 1 and result != 4):    \n",
        "    result = isHappyNumber(result)   \n",
        "     \n",
        "#Happy number always ends with 1    \n",
        "if(result == 1):    \n",
        "    print(str(num) + \" is a happy number\")    \n",
        "#Unhappy number ends in a cycle of repeating numbers which contain 4    \n",
        "elif(result == 4):    \n",
        "    print(str(num) + \" is not a happy number\")\n"
      ],
      "execution_count": 5,
      "outputs": [
        {
          "output_type": "stream",
          "text": [
            "82 is a happy number\n"
          ],
          "name": "stdout"
        }
      ]
    },
    {
      "cell_type": "code",
      "metadata": {
        "colab": {
          "base_uri": "https://localhost:8080/"
        },
        "id": "gehpdmj4p-eo",
        "outputId": "aa7125f8-94de-4350-86d0-797caef9b7dc"
      },
      "source": [
        "# 4. Write a Python program to print all happy numbers between 1 and 100?\n",
        "def isHappyNumber(num):  \n",
        "    rem = sum = 0  \n",
        "      \n",
        "    #Calculates the sum of squares of digits  \n",
        "    while(num > 0):  \n",
        "        rem = num%10  \n",
        "        sum = sum + (rem*rem) \n",
        "        num = num//10\n",
        "    return sum \n",
        "          \n",
        "#Displays all happy numbers between 1 and 100  \n",
        "print(\"List of happy numbers between 1 and 100: \")  \n",
        "for i in range(1, 101):  \n",
        "    result = i  \n",
        "      \n",
        "    #Happy number always ends with 1 and   \n",
        "    #unhappy number ends in a cycle of repeating numbers which contains 4  \n",
        "    while(result != 1 and result != 4):  \n",
        "        result = isHappyNumber(result)\n",
        "      \n",
        "    if(result == 1):  \n",
        "        print(i)\n",
        "     \n"
      ],
      "execution_count": 15,
      "outputs": [
        {
          "output_type": "stream",
          "text": [
            "List of happy numbers between 1 and 100: \n",
            "1\n",
            "7\n",
            "10\n",
            "13\n",
            "19\n",
            "23\n",
            "28\n",
            "31\n",
            "32\n",
            "44\n",
            "49\n",
            "68\n",
            "70\n",
            "79\n",
            "82\n",
            "86\n",
            "91\n",
            "94\n",
            "97\n",
            "100\n"
          ],
          "name": "stdout"
        }
      ]
    },
    {
      "cell_type": "code",
      "metadata": {
        "colab": {
          "base_uri": "https://localhost:8080/"
        },
        "id": "woPVPMRhp-kQ",
        "outputId": "e1eb3790-c880-4cff-cf84-9211292a99a0"
      },
      "source": [
        "# 5. Write a Python program to determine whether the given number is a Harshad Number?\n",
        "num = 156    \n",
        "rem = sum = 0   \n",
        "     \n",
        "#Make a copy of num and store it in variable n    \n",
        "n = num   \n",
        "     \n",
        "#Calculates sum of digits    \n",
        "while(num > 0):    \n",
        "    rem = num%10    \n",
        "    sum = sum + rem   \n",
        "    num = num//10    \n",
        "     \n",
        "#Checks whether the number is divisible by the sum of digits    \n",
        "if(n%sum == 0):    \n",
        "    print(str(n) + \" is a harshad number\")   \n",
        "else:    \n",
        "    print(str(n) + \" is not a harshad number\")  "
      ],
      "execution_count": 11,
      "outputs": [
        {
          "output_type": "stream",
          "text": [
            "156 is a harshad number\n"
          ],
          "name": "stdout"
        }
      ]
    },
    {
      "cell_type": "code",
      "metadata": {
        "colab": {
          "base_uri": "https://localhost:8080/"
        },
        "id": "dQzBhAEZp-m3",
        "outputId": "4726f8a7-ddf9-43e6-8530-8b5517b7051a"
      },
      "source": [
        "# 6. Write a Python program to print all pronic numbers between 1 and 100?\n",
        "#isPronicNumber() will determine whether a given number is a pronic number or not    \n",
        "def isPronicNumber(num):    \n",
        "    flag = False \n",
        "        \n",
        "    for j in range(1, num+1):    \n",
        "        #Checks for pronic number by multiplying consecutive numbers    \n",
        "        if((j*(j+1)) == num):    \n",
        "            flag = True   \n",
        "            break    \n",
        "    return flag   \n",
        "     \n",
        "#Displays pronic numbers between 1 and 100    \n",
        "print(\"Pronic numbers between 1 and 100: \")   \n",
        "for i in range(1, 101):    \n",
        "    if(isPronicNumber(i)):    \n",
        "        print(i)"
      ],
      "execution_count": 14,
      "outputs": [
        {
          "output_type": "stream",
          "text": [
            "Pronic numbers between 1 and 100: \n",
            "2\n",
            "6\n",
            "12\n",
            "20\n",
            "30\n",
            "42\n",
            "56\n",
            "72\n",
            "90\n"
          ],
          "name": "stdout"
        }
      ]
    }
  ]
}