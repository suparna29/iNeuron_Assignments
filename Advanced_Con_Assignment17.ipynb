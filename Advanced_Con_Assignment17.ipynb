{
 "cells": [
  {
   "cell_type": "code",
   "execution_count": null,
   "metadata": {},
   "outputs": [],
   "source": [
    "Q1. Explain the difference between greedy and non-greedy syntax with visual terms in as few words as possible. What is the \n",
    "bare minimum effort required to transform a greedy pattern into a non-greedy one? What characters or characters can you \n",
    "introduce or change?\n",
    "Ans:\n",
    "The usual rule for matching in REs is sometimes called “left-most longest“: when a pattern can be matched at more than \n",
    "one place within a string, the chosen match will be the one that starts at the earliest possible position within the \n",
    "string, and then extends as far as possible. Normally Perl pattern matching is greedy. By greedy, we mean that the \n",
    "parser tries to match as much as possible.\n"
   ]
  },
  {
   "cell_type": "code",
   "execution_count": null,
   "metadata": {},
   "outputs": [],
   "source": [
    "Q2. When exactly does greedy versus non-greedy make a difference? What if you're looking for a non-greedy match but the \n",
    "only one available is greedy?\n",
    "Ans:\n",
    "The greedy match will try to match as many repetitions of the quantified pattern as possible.\n",
    "The non-greedy match will try to match as few repetitions of the quantified pattern as possible."
   ]
  },
  {
   "cell_type": "code",
   "execution_count": null,
   "metadata": {},
   "outputs": [],
   "source": [
    "Q3. In a simple match of a string, which looks only for one match and does not do any replacement, is the use of a \n",
    "nontagged group likely to make any practical difference?\n",
    "Ans:\n",
    "The notion that regex doesn't support inverse matching is not entirely true. We can mimic this behavior by using negative \n",
    "look-arounds."
   ]
  },
  {
   "cell_type": "code",
   "execution_count": null,
   "metadata": {},
   "outputs": [],
   "source": [
    "Q4. Describe a scenario in which using a nontagged category would have a significant impact on the program's outcomes.\n",
    "Ans:"
   ]
  },
  {
   "cell_type": "code",
   "execution_count": null,
   "metadata": {},
   "outputs": [],
   "source": [
    "Q5. Unlike a normal regex pattern, a look-ahead condition does not consume the characters it examines. Describe a situation\n",
    "in which this could make a difference in the results of your programme.\n",
    "Ans:"
   ]
  },
  {
   "cell_type": "code",
   "execution_count": null,
   "metadata": {},
   "outputs": [],
   "source": [
    "Q6. In standard expressions, what is the difference between positive look-ahead and negative look- ahead?\n",
    "Ans:\n",
    "The negative lookahead construct is the pair of parentheses, with the opening parenthesis followed by a question mark and \n",
    "an exclamation point. Inside the lookahead, we have the trivial regex u. \n",
    "Positive lookahead works just the same. Any valid regular expression can be used inside the lookahead.\n"
   ]
  },
  {
   "cell_type": "code",
   "execution_count": null,
   "metadata": {},
   "outputs": [],
   "source": [
    "Q7. What is the benefit of referring to groups by name rather than by number in a standard expression?\n",
    "Ans:\n",
    "Regular Expression Reference - Named Groups and Backreferences. Captures the text matched by “regex” into the group “name”.\n",
    "The name can contain letters and numbers but must start with a letter."
   ]
  },
  {
   "cell_type": "code",
   "execution_count": 15,
   "metadata": {},
   "outputs": [
    {
     "name": "stdout",
     "output_type": "stream",
     "text": [
      "('cow', '10')\n",
      "cow\n",
      "10\n"
     ]
    }
   ],
   "source": [
    "# Q8. Can you identify repeated items within a target string using named groups, as in \"The cow jumped over the moon\"?\n",
    "\n",
    "import re\n",
    "\n",
    "target_string = \"The cow jumped over the moon at 10\"\n",
    "\n",
    "# two groups enclosed in separate ( and ) bracket\n",
    "result = re.search(r\"(\\b[a-z]+\\b).+(\\b\\d+)\", target_string)\n",
    "\n",
    "# Extract matching values of all groups\n",
    "print(result.groups())\n",
    "# Output ('cow', '10')\n",
    "\n",
    "# Extract match value of group 1\n",
    "print(result.group(1))\n",
    "# Output 'cow'\n",
    "\n",
    "# Extract match value of group 2\n",
    "print(result.group(2))\n",
    "# Output 10"
   ]
  },
  {
   "cell_type": "code",
   "execution_count": null,
   "metadata": {},
   "outputs": [],
   "source": [
    "Q9. When parsing a string, what is at least one thing that the Scanner interface does for you that the re.findall feature \n",
    "does not?\n",
    "Ans:\n",
    "re.search() method either returns None (if the pattern doesn’t match), or a re.MatchObject that contains information about \n",
    "the matching part of the string. This method stops after the first match, so this is best suited for testing a regular \n",
    "expression more than extracting data."
   ]
  },
  {
   "cell_type": "code",
   "execution_count": 16,
   "metadata": {},
   "outputs": [
    {
     "name": "stdout",
     "output_type": "stream",
     "text": [
      "Match at index 14, 21\n",
      "Full match: June 24\n",
      "Month: June\n",
      "Day: 24\n"
     ]
    }
   ],
   "source": [
    "# A Python program to demonstrate working of re.match(). \n",
    "import re \n",
    "    \n",
    "# Lets use a regular expression to match a date string \n",
    "# in the form of Month name followed by day number \n",
    "regex = r\"([a-zA-Z]+) (\\d+)\"\n",
    "    \n",
    "match = re.search(regex, \"I was born on June 24\") \n",
    "    \n",
    "if match != None: \n",
    "    \n",
    "    # We reach here when the expression \"([a-zA-Z]+) (\\d+)\" \n",
    "    # matches the date string. \n",
    "    \n",
    "    # This will print [14, 21), since it matches at index 14 \n",
    "    # and ends at 21.  \n",
    "    print(\"Match at index % s, % s\" % (match.start(), match.end()))\n",
    "    \n",
    "    # We us group() method to get all the matches and \n",
    "    # captured groups. The groups contain the matched values. \n",
    "    # In particular: \n",
    "    # match.group(0) always returns the fully matched string \n",
    "    # match.group(1) match.group(2), ... return the capture \n",
    "    # groups in order from left to right in the input string \n",
    "    # match.group() is equivalent to match.group(0) \n",
    "    \n",
    "    # So this will print \"June 24\" \n",
    "    print(\"Full match: % s\" % (match.group(0)))\n",
    "    \n",
    "    # So this will print \"June\" \n",
    "    print(\"Month: % s\" % (match.group(1)))\n",
    "    \n",
    "    # So this will print \"24\" \n",
    "    print(\"Day: % s\" % (match.group(2)))\n",
    "    \n",
    "else: \n",
    "    print(\"The regex pattern does not match.\")"
   ]
  },
  {
   "cell_type": "code",
   "execution_count": null,
   "metadata": {},
   "outputs": [],
   "source": [
    "re.findall()\n",
    "Return all non-overlapping matches of pattern in string, as a list of strings. The string is scanned left-to-right, and \n",
    "matches are returned in the order found."
   ]
  },
  {
   "cell_type": "code",
   "execution_count": 17,
   "metadata": {},
   "outputs": [
    {
     "name": "stdout",
     "output_type": "stream",
     "text": [
      "['123456789', '987654321']\n"
     ]
    }
   ],
   "source": [
    "# A Python program to demonstrate working of \n",
    "# findall() \n",
    "import re \n",
    "    \n",
    "# A sample text string where regular expression  \n",
    "# is searched. \n",
    "string = \"\"\"Hello my Number is 123456789 and \n",
    "             my friend's number is 987654321\"\"\"\n",
    "    \n",
    "# A sample regular expression to find digits. \n",
    "regex = '\\d+'             \n",
    "    \n",
    "match = re.findall(regex, string) \n",
    "print(match) "
   ]
  },
  {
   "cell_type": "code",
   "execution_count": null,
   "metadata": {},
   "outputs": [],
   "source": [
    "Q10. Does a scanner object have to be named scanner?\n",
    "Ans:\n",
    "A simple text scanner which can parse primitive types and strings using regular expressions.\n",
    "A Scanner breaks its input into tokens using a delimiter pattern, which by default matches whitespace. The resulting tokens\n",
    "may then be converted into values of different types using the various next methods."
   ]
  }
 ],
 "metadata": {
  "kernelspec": {
   "display_name": "Python 3",
   "language": "python",
   "name": "python3"
  },
  "language_info": {
   "codemirror_mode": {
    "name": "ipython",
    "version": 3
   },
   "file_extension": ".py",
   "mimetype": "text/x-python",
   "name": "python",
   "nbconvert_exporter": "python",
   "pygments_lexer": "ipython3",
   "version": "3.8.5"
  }
 },
 "nbformat": 4,
 "nbformat_minor": 4
}
