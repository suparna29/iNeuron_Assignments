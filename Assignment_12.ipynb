{
 "cells": [
  {
   "cell_type": "markdown",
   "metadata": {},
   "source": [
    "1. In what modes should the PdfFileReader() and PdfFileWriter() File objects will be opened?\n",
    "Ans: \n",
    "PdfFileReader() needs to be opened in read-binary mode by passing 'rb' as the second argument to open(). Likewise, the File object passed to PyPDF2. PdfFileWriter() needs to be opened in write-binary mode with 'wb'."
   ]
  },
  {
   "cell_type": "markdown",
   "metadata": {},
   "source": [
    "2. From a PdfFileReader object, how do you get a Page object for page 5?\n",
    "Ans:\n",
    "To extract text from a page, you need to get a Page object, which represents a single page \n",
    "of a PDF, from a PdfFileReader object. You can get a Page object by calling the getPage() method\n",
    "on a PdfFileReader object and passing it the page number of the page you are interested in"
   ]
  },
  {
   "cell_type": "code",
   "execution_count": null,
   "metadata": {},
   "outputs": [],
   "source": [
    "pip install PyPDF2\n",
    "\n",
    "import PyPDF2\n",
    "pdfFileObj = open('example.pdf', 'rb')\n",
    "pdfReader = PyPDF2.PdfFileReader(pdfFileObj)\n",
    "print(pdfReader.numPages)\n",
    "pageObj = pdfReader.getPage(0)\n",
    "print(pageObj.extractText())\n",
    "pdfFileObj.close()\n"
   ]
  },
  {
   "cell_type": "markdown",
   "metadata": {},
   "source": [
    "3. What PdfFileReader variable stores the number of pages in the PDF document?\n",
    "Ans: \n",
    "getNumPages()"
   ]
  },
  {
   "cell_type": "code",
   "execution_count": null,
   "metadata": {},
   "outputs": [],
   "source": [
    "# 4. If a PdfFileReader object’s PDF is encrypted with the password swordfish, what must you do\n",
    "# before you can obtain Page objects from it?\n",
    "\n",
    "from PyPDF2 import PdfFileWriter, PdfFileReader\n",
    "out = PdfFileWriter()\n",
    "file = PdfFileReader(\"myfile_encrypted.pdf\")\n",
    "password = \"pass\"\n",
    "if file.isEncrypted:\n",
    "    file.decrypt(password)\n",
    "    for idx in range(file.numPages):\n",
    "        page = file.getPage(idx)\n",
    "        out.addPage(page)\n",
    "    with open(\"myfile_decrypted.pdf\", \"wb\") as f:\n",
    "        out.write(f)\n",
    "    print(\"File decrypted Successfully.\")\n",
    "else:\n",
    "    print(\"File already decrypted.\")"
   ]
  },
  {
   "cell_type": "markdown",
   "metadata": {},
   "source": [
    "5. What methods do you use to rotate a page?\n",
    "Ans:\n",
    "We use rotateClockwise(90) method to rotate the page clockwise by 90-degrees. We are adding the rotated pages to the PdfFileWriter instance. Finally, the write() method of the PdfFileWriter is used to produce the rotated PDF file."
   ]
  },
  {
   "cell_type": "markdown",
   "metadata": {},
   "source": [
    "6. What is the difference between a Run object and a Paragraph object?\n",
    "Ans:\n",
    "Paragraph-level formatting, such as style, is preserved. The ParagraphFormat object provides access to the formatting properties for the paragraph, such as line spacing and indentation. \n",
    "Run Sequence of Run instances corresponds to the <w:r> elements in the paragraph."
   ]
  },
  {
   "cell_type": "code",
   "execution_count": null,
   "metadata": {},
   "outputs": [],
   "source": [
    "# 7. How do you obtain a list of Paragraph objects for a Document object that’s stored in a \n",
    "# variable named doc?\n",
    "\n",
    "import docx\n",
    "from docx import Document\n",
    "doc = Document('path_to_the_document')\n",
    "print('List of paragraph objects:->>>')\n",
    "print(doc.paragraphs)\n",
    "print('\\nList of runs objects in 1st paragraph:->>>')\n",
    "print(doc.paragraphs[0].runs)\n",
    "print('\\nText in the 1st paragraph:->>>')\n",
    "print(doc.paragraphs[0].text)\n",
    "print('\\nThe whole content of the document:->>>\\n')\n",
    "for para in doc.paragraphs:\n",
    "    print(para.text)"
   ]
  },
  {
   "cell_type": "markdown",
   "metadata": {},
   "source": [
    "8. What type of object has bold, underline, italic, strike and outline variables?\n",
    "Ans:\n",
    "Font object has bold, underline, italic, strike and outline variables."
   ]
  },
  {
   "cell_type": "markdown",
   "metadata": {},
   "source": [
    "9. What is the difference between False, True, and None for the bold variable?\n",
    "Ans:\n",
    "True and False are specific bool values.\n",
    "For example, True / False are used where the field takes a boolean value. None is used where the field takes an Optional[list] "
   ]
  },
  {
   "cell_type": "code",
   "execution_count": null,
   "metadata": {},
   "outputs": [],
   "source": [
    "# 10. How do you create a Document object for a new Word document?\n",
    "\n",
    "from docx import Document\n",
    "document = Document()\n",
    "document.save('test.docx')"
   ]
  },
  {
   "cell_type": "code",
   "execution_count": null,
   "metadata": {},
   "outputs": [],
   "source": [
    "# 11.How do you add a paragraph with the text 'Hello, there!' to a Document object stored in a\n",
    "# variable named doc?\n",
    "\n",
    "import docx\n",
    "doc = docx.Document()\n",
    "doc.add_heading('Heading for the document', 0)\n",
    "doc_para = doc.add_paragraph('Hello, there!')"
   ]
  },
  {
   "cell_type": "markdown",
   "metadata": {},
   "source": [
    "12. What integers represent the levels of headings available in Word documents?\n",
    "Ans:\n",
    "Heading 1, Heading 2, Heading 3.\n",
    "For most documents, 3 heading levels will do. We rarely need more than 4."
   ]
  }
 ],
 "metadata": {
  "kernelspec": {
   "display_name": "Python 3",
   "language": "python",
   "name": "python3"
  },
  "language_info": {
   "codemirror_mode": {
    "name": "ipython",
    "version": 3
   },
   "file_extension": ".py",
   "mimetype": "text/x-python",
   "name": "python",
   "nbconvert_exporter": "python",
   "pygments_lexer": "ipython3",
   "version": "3.8.5"
  }
 },
 "nbformat": 4,
 "nbformat_minor": 4
}
