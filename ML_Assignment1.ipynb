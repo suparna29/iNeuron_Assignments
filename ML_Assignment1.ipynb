{
 "cells": [
  {
   "cell_type": "code",
   "execution_count": null,
   "id": "03de9608",
   "metadata": {},
   "outputs": [],
   "source": [
    "1. What does one mean by the term \"machine learning\"?\n",
    "Ans:\n",
    "Machine learning (ML) is a type of artificial intelligence (AI) that allows software applications to become more \n",
    "accurate at predicting outcomes without being explicitly programmed to do so. \n",
    "Machine learning algorithms use historical data as input to predict new output values.\n"
   ]
  },
  {
   "cell_type": "code",
   "execution_count": null,
   "id": "e2634f50",
   "metadata": {},
   "outputs": [],
   "source": [
    "2. Can you think of 4 distinct types of issues where it shines?\n",
    "Ans:\n",
    "spam detection in email, \n",
    "cancer diagnosis, \n",
    "fraudulent credit card transactions,\n",
    "automatically driving vehicles"
   ]
  },
  {
   "cell_type": "code",
   "execution_count": null,
   "id": "10e60b3b",
   "metadata": {},
   "outputs": [],
   "source": [
    "3. What is a labeled training set, and how does it work?\n",
    "Ans:\n",
    "The training set is used to train the algorithm and then we use the trained model on the test set to predict the \n",
    "response variable values that are already known. Depending on the test error, we can go back to refine the model\n",
    "and repeat the process until we get satisfactory accuracy."
   ]
  },
  {
   "cell_type": "code",
   "execution_count": null,
   "id": "98fe64e9",
   "metadata": {},
   "outputs": [],
   "source": [
    "4. What are the two most important tasks that are supervised?\n",
    "Ans:\n",
    "Supervised machine learning tasks can be broadly classified into two subgroups - Regression and Classification. \n",
    "Regression is the problem of estimating or predicting a continuous quantity.\n",
    "Classification deals with assigning observations into discrete categories, rather than estimating continuous \n",
    "quantities."
   ]
  },
  {
   "cell_type": "code",
   "execution_count": null,
   "id": "598d1b26",
   "metadata": {},
   "outputs": [],
   "source": [
    "5. Can you think of four examples of unsupervised tasks?\n",
    "Ans:\n",
    "Clustering examples and use cases\n",
    "Clustering types\n",
    "K-means\n",
    "Fuzzy K-means\n",
    "Gaussian Mixture Models (GMMs)\n",
    "Hierarchical clustering"
   ]
  },
  {
   "cell_type": "code",
   "execution_count": null,
   "id": "d27aa14e",
   "metadata": {},
   "outputs": [],
   "source": [
    "6. State the machine learning model that would be best to make a robot walk through various unfamiliar terrains?\n",
    "Ans:\n",
    "The best Machine Learning algorithm to allow a robot to walk in unknown terrain is Reinforced Learning, where the \n",
    "robot can learn from response of the terrain to optimize itself.\n"
   ]
  },
  {
   "cell_type": "code",
   "execution_count": null,
   "id": "39d321f7",
   "metadata": {},
   "outputs": [],
   "source": [
    "7. What type of algorithm would you use to segment your customers into multiple groups?\n",
    "Ans:\n",
    "The best algorithm to segment customers into multiple groups is either supervised learning (if the groups have known \n",
    "labels) or unsupervised learning (if there are no group labels)."
   ]
  },
  {
   "cell_type": "code",
   "execution_count": null,
   "id": "2cab94f5",
   "metadata": {},
   "outputs": [],
   "source": [
    "8. Would you frame the problem of spam detection as a supervised learning problem or an unsupervised learning problem?\n",
    "Ans:\n",
    "Spam detection is a supervised learning problem because the labels are known (spam or no spam)."
   ]
  },
  {
   "cell_type": "code",
   "execution_count": null,
   "id": "fe14cfca",
   "metadata": {},
   "outputs": [],
   "source": [
    "9. What is an online learning system?\n",
    "Ans:\n",
    "Online learning system is a learning system in which the machine learns as data is given in small streams \n",
    "continuously."
   ]
  },
  {
   "cell_type": "code",
   "execution_count": null,
   "id": "e62f9221",
   "metadata": {},
   "outputs": [],
   "source": [
    "10. What is out-of-core learning system?\n",
    "Ans:\n",
    "Out-of-core learning system is a system that can handle data that cannot fit into your computer memory. It uses online\n",
    "learning system to feed data in small bits."
   ]
  },
  {
   "cell_type": "code",
   "execution_count": null,
   "id": "83bc232d",
   "metadata": {},
   "outputs": [],
   "source": [
    "11. What type of learning algorithm relies on a similarity measure to make predictions?\n",
    "Ans:\n",
    "Learning algorithm that relies on a similarity measure to make predictions is instance-based algorithm."
   ]
  },
  {
   "cell_type": "code",
   "execution_count": null,
   "id": "692a395c",
   "metadata": {},
   "outputs": [],
   "source": [
    "12. What is the difference between a model parameter and a learning algorithm's hyperparameter?\n",
    "Ans:\n",
    "Model parameter determines how a model will predict given a new instance; model usually has more than one parameter \n",
    "(i.e. slope of a linear model). Hyperparameter is a parameter for the learning algorithm, not of a model."
   ]
  },
  {
   "cell_type": "code",
   "execution_count": null,
   "id": "2c77ba4e",
   "metadata": {},
   "outputs": [],
   "source": [
    "13. What do model-based learning algorithms search for? What is the most common strategy they use to succeed? How do \n",
    "they make predictions?\n",
    "Ans:\n",
    "Model based learning algorithm search for the optimal value of parameters in a model that will give the best results \n",
    "for the new instances. We often use a cost function or similar to determine what the parameter value has to be in \n",
    "order to minimize the function. The model makes prediction by using the value of the new instance and the parameters\n",
    "in its function."
   ]
  },
  {
   "cell_type": "code",
   "execution_count": null,
   "id": "cc960e03",
   "metadata": {},
   "outputs": [],
   "source": [
    "14. Can you name four of the main challenges in Machine Learning?\n",
    "Ans:\n",
    "Four main challenges in Machine Learning include overfitting the data (using a model too complicated), underfitting \n",
    "the data (using a simple model), lacking in data and nonrepresentative data."
   ]
  },
  {
   "cell_type": "code",
   "execution_count": null,
   "id": "83be81b9",
   "metadata": {},
   "outputs": [],
   "source": [
    "15. If your model performs great on the training data but generalizes poorly to new instances, what is happening? \n",
    "Can you name three possible solutions?\n",
    "Ans:\n",
    "If the model performs poorly to new instances, then it has got overfitted on the training data. \n",
    "To solve this, we can -\n",
    "get more data, \n",
    "implement a simpler model, or \n",
    "eliminate outliers or noise from the existing dataset."
   ]
  },
  {
   "cell_type": "code",
   "execution_count": null,
   "id": "b874ded5",
   "metadata": {},
   "outputs": [],
   "source": [
    "16. What is a test set and why would you want to use it?\n",
    "Ans:\n",
    "Test set is a set that we test our model (fit using training data) to see how it performs. \n",
    "Test set is necessary so that we can determine how good (or bad) our model performs."
   ]
  },
  {
   "cell_type": "code",
   "execution_count": null,
   "id": "7e74c94f",
   "metadata": {},
   "outputs": [],
   "source": [
    "17. What is the purpose of a validation set?\n",
    "Ans:\n",
    "Validation set is a set used to compare between different training models."
   ]
  },
  {
   "cell_type": "code",
   "execution_count": null,
   "id": "68d81b2d",
   "metadata": {},
   "outputs": [],
   "source": [
    "18. What can go wrong if you tune hyperparameters using the test set?\n",
    "Ans:\n",
    "If you tune hyperparameters using the test sets, then it may not perform well on the out-of-sample data because the \n",
    "model is tuned just for that specific set."
   ]
  },
  {
   "cell_type": "code",
   "execution_count": null,
   "id": "70d75ff5",
   "metadata": {},
   "outputs": [],
   "source": [
    "19. What is cross-validation and why would you prefer it to a validation set?\n",
    "Ans:\n",
    "Cross-validation is a tool to compare models without needing a separate validation set. It is preferred over \n",
    "validation set because we can save from breaking of part of the training set to create a validation set, as having \n",
    "more data is valuable regardless."
   ]
  },
  {
   "cell_type": "code",
   "execution_count": null,
   "id": "fca9a3f2",
   "metadata": {},
   "outputs": [],
   "source": []
  },
  {
   "cell_type": "code",
   "execution_count": null,
   "id": "a8f902d1",
   "metadata": {},
   "outputs": [],
   "source": []
  }
 ],
 "metadata": {
  "kernelspec": {
   "display_name": "Python 3",
   "language": "python",
   "name": "python3"
  },
  "language_info": {
   "codemirror_mode": {
    "name": "ipython",
    "version": 3
   },
   "file_extension": ".py",
   "mimetype": "text/x-python",
   "name": "python",
   "nbconvert_exporter": "python",
   "pygments_lexer": "ipython3",
   "version": "3.8.8"
  }
 },
 "nbformat": 4,
 "nbformat_minor": 5
}
