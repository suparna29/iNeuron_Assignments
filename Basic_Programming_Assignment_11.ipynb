{
 "cells": [
  {
   "cell_type": "code",
   "execution_count": 9,
   "metadata": {},
   "outputs": [
    {
     "name": "stdout",
     "output_type": "stream",
     "text": [
      "['Kites', 'flying']\n"
     ]
    }
   ],
   "source": [
    "#1. Write a Python program to find words which are greater than given length k?\n",
    "\n",
    "def string_k(k, str):\n",
    "    string = []\n",
    "    text = str.split(\" \")\n",
    "    \n",
    "    for x in text:\n",
    "          \n",
    "\n",
    "        if len(x) > k:\n",
    "              \n",
    "            string.append(x)\n",
    "              \n",
    "    return string\n",
    "\n",
    "K = 3\n",
    "str =\"Kites are flying in the sky\"\n",
    "print(string_k(k, str)) "
   ]
  },
  {
   "cell_type": "code",
   "execution_count": 10,
   "metadata": {},
   "outputs": [
    {
     "name": "stdout",
     "output_type": "stream",
     "text": [
      "Kitesare flying in the sky\n"
     ]
    }
   ],
   "source": [
    "# 2. Write a Python program for removing i-th character from a string?\n",
    "\n",
    "def remove(string, i): \n",
    "  \n",
    "    for j in range(len(string)):\n",
    "        if j == i:\n",
    "            string = string.replace(string[i], \"\", 1)\n",
    "    return string\n",
    "      \n",
    "if __name__ == '__main__': \n",
    "    string = \"Kites are flying in the sky\"\n",
    "    i = 5\n",
    "    print(remove(string, i))"
   ]
  },
  {
   "cell_type": "code",
   "execution_count": 11,
   "metadata": {},
   "outputs": [
    {
     "name": "stdout",
     "output_type": "stream",
     "text": [
      "['Kites', 'are', 'flying', 'in', 'the', 'sky']\n",
      "Kites-are-flying-in-the-sky\n"
     ]
    }
   ],
   "source": [
    "# 3. Write a Python program to split and join a string?\n",
    "\n",
    "def split_string(string):\n",
    "    list_string = string.split(' ')\n",
    "      \n",
    "    return list_string\n",
    "  \n",
    "def join_string(list_string):\n",
    "    string = '-'.join(list_string)\n",
    "    return string\n",
    "\n",
    "if __name__ == '__main__':\n",
    "    string = 'Kites are flying in the sky'\n",
    "    list_string = split_string(string)\n",
    "    print(list_string)\n",
    "\n",
    "    new_string = join_string(list_string)\n",
    "    print(new_string)"
   ]
  },
  {
   "cell_type": "code",
   "execution_count": 14,
   "metadata": {},
   "outputs": [
    {
     "name": "stdout",
     "output_type": "stream",
     "text": [
      "StringA is a binary string\n",
      "StringB is not a binary string\n"
     ]
    }
   ],
   "source": [
    "#4. Write a Python to check if a given string is binary string or not?\n",
    "\n",
    "stringA = \"01100000001\"\n",
    "\n",
    "b = '10'\n",
    "count = 0\n",
    "for char in stringA:\n",
    "   if char not in b:\n",
    "      count = 1\n",
    "      break\n",
    "   else:\n",
    "      pass\n",
    "if count:\n",
    "   print(\"StringA is not a binary string\")\n",
    "else:\n",
    "   print(\"StringA is a binary string\")\n",
    "\n",
    "stringB = \"01200000001\"\n",
    "for char in stringB:\n",
    "   if char not in b:\n",
    "      count = 1\n",
    "      break\n",
    "   else:\n",
    "      pass\n",
    "if count:\n",
    "   print(\"StringB is not a binary string\")\n",
    "else:\n",
    "   print(\"StringB is a binary string\")"
   ]
  },
  {
   "cell_type": "code",
   "execution_count": 12,
   "metadata": {},
   "outputs": [
    {
     "name": "stdout",
     "output_type": "stream",
     "text": [
      "['in', 'the', 'sky']\n"
     ]
    }
   ],
   "source": [
    "# 5. Write a Python program to find uncommon words from two Strings?\n",
    "\n",
    "def UncommonWords(A, B):\n",
    "    count = {}\n",
    "    for word in A.split():\n",
    "        count[word] = count.get(word, 0) + 1\n",
    "      \n",
    "    for word in B.split():\n",
    "        count[word] = count.get(word, 0) + 1\n",
    "\n",
    "    return [word for word in count if count[word] == 1]\n",
    "\n",
    "A = \"Kites are flying in the sky\"\n",
    "B = \"Kites are flying\"\n",
    "  \n",
    "print(UncommonWords(A, B))"
   ]
  },
  {
   "cell_type": "code",
   "execution_count": 13,
   "metadata": {},
   "outputs": [
    {
     "name": "stdout",
     "output_type": "stream",
     "text": [
      "Duplicate characters in a given string: \n",
      "r\n",
      "e\n",
      "t\n",
      "s\n",
      "i\n"
     ]
    }
   ],
   "source": [
    "# 6. Write a Python to find all duplicate characters in string?\n",
    "\n",
    "string = \"Great responsibility\";  \n",
    "   \n",
    "print(\"Duplicate characters in a given string: \");  \n",
    "for i in range(0, len(string)):  \n",
    "    count = 1;  \n",
    "    for j in range(i+1, len(string)):  \n",
    "        if(string[i] == string[j] and string[i] != ' '):  \n",
    "            count = count + 1;   \n",
    "            string = string[:j] + '0' + string[j+1:];  \n",
    "    if(count > 1 and string[i] != '0'):  \n",
    "        print(string[i]); "
   ]
  },
  {
   "cell_type": "code",
   "execution_count": 15,
   "metadata": {},
   "outputs": [
    {
     "name": "stdout",
     "output_type": "stream",
     "text": [
      "String is not accepted.\n"
     ]
    }
   ],
   "source": [
    "# 7. Write a Python Program to check if a string contains any special character?\n",
    "\n",
    "import re\n",
    "  \n",
    "def run(string):\n",
    "    regex = re.compile('[@_!#$%^&*()<>?/\\|}{~:]')   \n",
    "    if(regex.search(string) == None):\n",
    "        print(\"String is accepted\")      \n",
    "    else:\n",
    "        print(\"String is not accepted.\")\n",
    "        \n",
    "if __name__ == '__main__' :\n",
    "\n",
    "    string = \"Kites!@are-$%flying$%^&in%^&#the*&^^%$#@!sky\"\n",
    "\n",
    "    run(string)"
   ]
  }
 ],
 "metadata": {
  "kernelspec": {
   "display_name": "Python 3",
   "language": "python",
   "name": "python3"
  },
  "language_info": {
   "codemirror_mode": {
    "name": "ipython",
    "version": 3
   },
   "file_extension": ".py",
   "mimetype": "text/x-python",
   "name": "python",
   "nbconvert_exporter": "python",
   "pygments_lexer": "ipython3",
   "version": "3.8.5"
  }
 },
 "nbformat": 4,
 "nbformat_minor": 4
}
