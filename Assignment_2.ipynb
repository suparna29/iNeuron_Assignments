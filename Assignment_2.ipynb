{
 "cells": [
  {
   "cell_type": "markdown",
   "metadata": {},
   "source": [
    "1. What are the Boolean data type's two values? How do you go about writing them?\n",
    "Boolean datatype values are - True and Flase"
   ]
  },
  {
   "cell_type": "code",
   "execution_count": 1,
   "metadata": {},
   "outputs": [
    {
     "name": "stdout",
     "output_type": "stream",
     "text": [
      "True\n"
     ]
    }
   ],
   "source": [
    "print(3>2)"
   ]
  },
  {
   "cell_type": "code",
   "execution_count": 2,
   "metadata": {},
   "outputs": [
    {
     "name": "stdout",
     "output_type": "stream",
     "text": [
      "False\n"
     ]
    }
   ],
   "source": [
    "print(4<3)"
   ]
  },
  {
   "cell_type": "markdown",
   "metadata": {},
   "source": [
    "2. What are the three different types of Boolean operators? \n",
    "and, or, not\n",
    "\n",
    "3. Make a list of each Boolean operator's truth tables (i.e. every possible combination of Boolean values for the operator and what it evaluate ).\n",
    "\n",
    "\"and\" operator\n",
    "True and True = True \n",
    "True and False = False \n",
    "False and True = False \n",
    "False and False = False\n",
    "\n",
    "\"or\" operator\n",
    "True or True = True \n",
    "True or False = True \n",
    "False or True = True \n",
    "False or False = False\n",
    "\n",
    "\"not\" operator \n",
    "not(True) = False \n",
    "not(False) = True\n",
    "\n",
    "4. What are the values of the following expressions?\n",
    "(5 > 4) and (3 == 5) - False\n",
    "not (5 > 4) - False\n",
    "(5 > 4) or (3 == 5) - True\n",
    "not ((5 > 4) or (3 == 5)) - False\n",
    "(True and True) and (True == False) - False\n",
    "(not False) or (not True) - True\n"
   ]
  },
  {
   "cell_type": "code",
   "execution_count": 10,
   "metadata": {},
   "outputs": [
    {
     "data": {
      "text/plain": [
       "False"
      ]
     },
     "execution_count": 10,
     "metadata": {},
     "output_type": "execute_result"
    }
   ],
   "source": [
    "(5 > 4) and (3 == 5)"
   ]
  },
  {
   "cell_type": "code",
   "execution_count": 11,
   "metadata": {},
   "outputs": [
    {
     "data": {
      "text/plain": [
       "False"
      ]
     },
     "execution_count": 11,
     "metadata": {},
     "output_type": "execute_result"
    }
   ],
   "source": [
    "not (5 > 4)"
   ]
  },
  {
   "cell_type": "code",
   "execution_count": 12,
   "metadata": {},
   "outputs": [
    {
     "data": {
      "text/plain": [
       "True"
      ]
     },
     "execution_count": 12,
     "metadata": {},
     "output_type": "execute_result"
    }
   ],
   "source": [
    "(5 > 4) or (3 == 5)"
   ]
  },
  {
   "cell_type": "code",
   "execution_count": 13,
   "metadata": {},
   "outputs": [
    {
     "data": {
      "text/plain": [
       "False"
      ]
     },
     "execution_count": 13,
     "metadata": {},
     "output_type": "execute_result"
    }
   ],
   "source": [
    "not ((5 > 4) or (3 == 5))"
   ]
  },
  {
   "cell_type": "code",
   "execution_count": 14,
   "metadata": {},
   "outputs": [
    {
     "data": {
      "text/plain": [
       "False"
      ]
     },
     "execution_count": 14,
     "metadata": {},
     "output_type": "execute_result"
    }
   ],
   "source": [
    "(True and True) and (True == False)"
   ]
  },
  {
   "cell_type": "code",
   "execution_count": 15,
   "metadata": {},
   "outputs": [
    {
     "data": {
      "text/plain": [
       "True"
      ]
     },
     "execution_count": 15,
     "metadata": {},
     "output_type": "execute_result"
    }
   ],
   "source": [
    "(not False) or (not True)"
   ]
  },
  {
   "cell_type": "markdown",
   "metadata": {},
   "source": [
    "5. What are the six different types of reference operators?\n",
    "== (equal) Returns a Boolean stating whether two expressions are equal. \n",
    "!= (not equal) Returns a Boolean stating whether two expressions are not equal.\n",
    "> (greater than) Returns a Boolean stating whether one expression is greater than the other.\n",
    ">= (greater than or equal) Returns a Boolean stating whether one expression is greater than or equal the other. \n",
    "< (less than) Returns a Boolean stating whether one expression is less than the other. \n",
    "<= (less than or equal) Returns a Boolean stating whether one expression is less than or equal the other.\n",
    "\n",
    "6. How do you tell the difference between the equal to and assignment operators?\n",
    "= \n",
    "It is an assignment operator. It is used for assigning the value to a variable.\n",
    "\n",
    "== \n",
    "It is a relational or comparison operator. It is used for comparing two values. It returns 1 if both the values are equal otherwise returns 0.\n",
    "\n",
    "7. Describe a condition and when you would use one.\n",
    "= (simple assignment) Assigns a value to a variable(s). \n",
    "+= (increment assignment) Adds a value and the variable and assigns the result to that variable. \n",
    "-= (decrement assignment) Subtracts a value from the variable and assigns the result to that variable. \n",
    "= (multiplication assignment) Multiplies the variable by a value and assigns the result to that variable. \n",
    "/= (division assignment) Divides the variable by a value and assigns the result to that variable.\n",
    "*= (power assignment) Raises the variable to a specified power and assigns the result to the variable. \n",
    "%= (modulus assignment) Computes the modulus of the variable and a value and assigns the result to that variable. \n",
    "//= (floor division assignment) Floor divides the variable by a value and assigns the result to that variable.\n",
    "\n",
    "\n",
    "8. Recognize the following three blocks in this code:\n",
    "\n",
    "spam = 0\n",
    "if spam == 10:\n",
    "    print('eggs')\n",
    "    if spam > 5:\n",
    "        print('bacon')\n",
    "    else:\n",
    "        print('ham')\n",
    "    print('spam')\n",
    "print('spam')\n",
    "\n",
    "Ans:\n",
    "Here, 3 blocks are if, if and else. \n",
    "each block has : symbol\n"
   ]
  },
  {
   "cell_type": "code",
   "execution_count": 9,
   "metadata": {},
   "outputs": [
    {
     "name": "stdout",
     "output_type": "stream",
     "text": [
      "spam\n"
     ]
    }
   ],
   "source": [
    "spam = 0\n",
    "if spam == 10:\n",
    "    print('eggs')\n",
    "    if spam > 5:\n",
    "        print('bacon')\n",
    "    else:\n",
    "        print('ham')\n",
    "    print('spam')\n",
    "print('spam')"
   ]
  },
  {
   "cell_type": "markdown",
   "metadata": {},
   "source": [
    "9. Create a programme that prints. If 1 is stored in spam, prints Hello; if 2 is stored in spam, prints Howdy; and if 3 is stored in spam, prints Salutations! if there's something else in spam."
   ]
  },
  {
   "cell_type": "code",
   "execution_count": 8,
   "metadata": {},
   "outputs": [
    {
     "name": "stdout",
     "output_type": "stream",
     "text": [
      "3\n",
      "Salutations\n"
     ]
    }
   ],
   "source": [
    "spam = int(input())\n",
    "if spam == 1 :\n",
    "   print(\"Hello\")\n",
    "if spam == 2 :\n",
    "    print(\"Howdy\")\n",
    "if spam == 3 :\n",
    "    print(\"Salutations\")"
   ]
  },
  {
   "cell_type": "markdown",
   "metadata": {},
   "source": [
    "10. If your programme is stuck in an endless loop, what keys can you press?\n",
    "ctrl+c or ctrl+z but both the commands do not work for jupyter notebook\n",
    "\n",
    "11. How can you tell the difference between break and continue? \n",
    "break means after checking condition i am asking my code to stop \n",
    "continue means i am telling the code to go again and check condition.\n",
    "\n",
    "12. In a for loop, what is the difference between range(10), range(0, 10), and range(0, 10, 1)? \n",
    "No difference"
   ]
  },
  {
   "cell_type": "code",
   "execution_count": 3,
   "metadata": {},
   "outputs": [
    {
     "name": "stdout",
     "output_type": "stream",
     "text": [
      "0 1 2 3 4 5 6 7 8 9 "
     ]
    }
   ],
   "source": [
    "for i in range(10):\n",
    "    print(i, end =\" \")"
   ]
  },
  {
   "cell_type": "code",
   "execution_count": 5,
   "metadata": {},
   "outputs": [
    {
     "name": "stdout",
     "output_type": "stream",
     "text": [
      "0 1 2 3 4 5 6 7 8 9 "
     ]
    }
   ],
   "source": [
    "for i in range(0, 10):\n",
    "    print(i, end =\" \")"
   ]
  },
  {
   "cell_type": "code",
   "execution_count": 6,
   "metadata": {},
   "outputs": [
    {
     "name": "stdout",
     "output_type": "stream",
     "text": [
      "0 1 2 3 4 5 6 7 8 9 "
     ]
    }
   ],
   "source": [
    "for i in range(0, 10, 1):\n",
    "    print(i, end =\" \")"
   ]
  },
  {
   "cell_type": "markdown",
   "metadata": {},
   "source": [
    "13. Using a for loop, write a short programme that prints the numbers 1 to 10 Then, using a while loop, create an identical programme that prints the numbers 1 to 10.\n"
   ]
  },
  {
   "cell_type": "code",
   "execution_count": 4,
   "metadata": {},
   "outputs": [
    {
     "name": "stdout",
     "output_type": "stream",
     "text": [
      "1 2 3 4 5 6 7 8 9 10 "
     ]
    }
   ],
   "source": [
    "for i in range(1, 11):\n",
    "    print(i, end =\" \")"
   ]
  },
  {
   "cell_type": "code",
   "execution_count": 18,
   "metadata": {},
   "outputs": [
    {
     "name": "stdout",
     "output_type": "stream",
     "text": [
      "1 2 3 4 5 6 7 8 9 10 "
     ]
    }
   ],
   "source": [
    "i = 1\n",
    "while i <= 10:\n",
    "    print(i, end=\" \")\n",
    "    i += 1"
   ]
  },
  {
   "cell_type": "markdown",
   "metadata": {},
   "source": [
    "14. If you had a bacon() function within a spam module, how would you call it after importing spam?\n",
    "Ans:\n",
    "This funcntion can be called with spam. bacon()"
   ]
  }
 ],
 "metadata": {
  "kernelspec": {
   "display_name": "Python 3",
   "language": "python",
   "name": "python3"
  },
  "language_info": {
   "codemirror_mode": {
    "name": "ipython",
    "version": 3
   },
   "file_extension": ".py",
   "mimetype": "text/x-python",
   "name": "python",
   "nbconvert_exporter": "python",
   "pygments_lexer": "ipython3",
   "version": "3.8.5"
  }
 },
 "nbformat": 4,
 "nbformat_minor": 4
}
