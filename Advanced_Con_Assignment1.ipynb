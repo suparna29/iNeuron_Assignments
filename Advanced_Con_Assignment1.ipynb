{
 "cells": [
  {
   "cell_type": "code",
   "execution_count": null,
   "metadata": {},
   "outputs": [],
   "source": [
    "Q1. What is the purpose of Python's OOP?\n",
    "Ans:\n",
    "\n",
    "The main principles of OOP is:\n",
    "\n",
    "Class:- class definitions start with the class keyword, which is followed by the name of the class and a colon. Any code \n",
    "that is indented below the class definition is considered part of the class’s body. We use the class keyword to define an \n",
    "empty class. From class, we construct instances. An instance is a specific object created from a particular class.\n",
    "\n",
    "Object:- An object (instance) is an instantiation of a class. When we instantiate a class, we get an object. \n",
    "We can instantiate an object, similar to calling a class like a function.\n",
    "\n",
    "Method:- Methods are functions defined inside the body of a class. They are used to define the behaviors of an object.\n",
    "\n",
    "__init__ is a reserved method in python classes. It is called a constructor in object oriented terminology. This method is \n",
    "called when an object is created from a class and it allows the class to initialize the attributes of the class."
   ]
  },
  {
   "cell_type": "code",
   "execution_count": null,
   "metadata": {},
   "outputs": [],
   "source": [
    "Q2. Where does an inheritance search looks for an attribute?\n",
    "Ans:\n",
    "In Python, inheritance happens when an object is qualified, and involves searching an attribute definition tree (one or \n",
    "more namespaces).\n",
    "attribute where object is an instance or class object, Python searches the namespace tree at and above object, for the first \n",
    "attribute it can find."
   ]
  },
  {
   "cell_type": "code",
   "execution_count": null,
   "metadata": {},
   "outputs": [],
   "source": [
    "Q3. How do you distinguish between a class object and an instance object?\n",
    "Ans:\n",
    "A class is a template for creating objects in program whereas the object is an instance of a class. A class is a logical \n",
    "entity while object is a physical entity."
   ]
  },
  {
   "cell_type": "code",
   "execution_count": null,
   "metadata": {},
   "outputs": [],
   "source": [
    "Q4. What makes the first argument in a class’s method function special?\n",
    "Ans:\n",
    "__init__() method makes it special."
   ]
  },
  {
   "cell_type": "code",
   "execution_count": null,
   "metadata": {},
   "outputs": [],
   "source": [
    "Q5. What is the purpose of the init method?\n",
    "Ans:\n",
    "__init__ is a reserved method in python classes. It is called a constructor in object oriented terminology. This special\n",
    "method is called when an object is created from a class and it allows the class to initialize the attributes of the class."
   ]
  },
  {
   "cell_type": "code",
   "execution_count": null,
   "metadata": {},
   "outputs": [],
   "source": [
    "Q6. What is the process for creating a class instance?\n",
    "Ans:\n",
    "When we create an object, we create an instance of a class, therefore \"instantiating\" a class. \n",
    "The new operator requires a single, postfix argument: a call to a constructor. The name of the constructor provides the \n",
    "name of the class to instantiate. \n",
    "The constructor initializes the new object."
   ]
  },
  {
   "cell_type": "code",
   "execution_count": 3,
   "metadata": {},
   "outputs": [
    {
     "data": {
      "text/plain": [
       "567"
      ]
     },
     "execution_count": 3,
     "metadata": {},
     "output_type": "execute_result"
    }
   ],
   "source": [
    "# Q7. What is the process for creating a class?\n",
    "# Ans: Classes are created by keyword class. Attributes are the variables that belong to a class. Attributes are always public and can be accessed using the dot (.) operator.\n",
    "\n",
    "class car:\n",
    "    def __init__(self, milage, year, make, model):\n",
    "        self.milage = milage #self.milage is class variable\n",
    "        self.year = year\n",
    "        self.make = make\n",
    "        self.model = model\n",
    "nano1 = car(20,2020, 2345, \"f789jhsdlflgi\")\n",
    "audiq71 = car(10, 2020, 567, \"ugujiuo\")\n",
    "audiq71.make"
   ]
  },
  {
   "cell_type": "code",
   "execution_count": 4,
   "metadata": {},
   "outputs": [
    {
     "name": "stdout",
     "output_type": "stream",
     "text": [
      "test class\n",
      "test1 class\n",
      "test2 class\n",
      "test class\n"
     ]
    }
   ],
   "source": [
    "# Q8. How would you define the superclasses of a class?\n",
    "# Ans: The class from which a class inherits is called the parent or superclass. A class which inherits from a superclass is called a subclass, also called heir class or child class. Superclasses are sometimes called ancestors as well.\n",
    "\n",
    "class test:\n",
    "    def a(self):\n",
    "        print(\"test class\")\n",
    "class test1:\n",
    "    def a(self):\n",
    "        print(\"test1 class\")\n",
    "class test2(test, test1):\n",
    "    t1 = test()\n",
    "    t1.a()\n",
    "    t2 = test1()\n",
    "    t2.a()\n",
    "    print(\"test2 class\")\n",
    "t = test2()\n",
    "t.a()\n",
    "    "
   ]
  },
  {
   "cell_type": "code",
   "execution_count": null,
   "metadata": {},
   "outputs": [],
   "source": []
  },
  {
   "cell_type": "code",
   "execution_count": null,
   "metadata": {},
   "outputs": [],
   "source": []
  }
 ],
 "metadata": {
  "kernelspec": {
   "display_name": "Python 3",
   "language": "python",
   "name": "python3"
  },
  "language_info": {
   "codemirror_mode": {
    "name": "ipython",
    "version": 3
   },
   "file_extension": ".py",
   "mimetype": "text/x-python",
   "name": "python",
   "nbconvert_exporter": "python",
   "pygments_lexer": "ipython3",
   "version": "3.8.5"
  }
 },
 "nbformat": 4,
 "nbformat_minor": 4
}
