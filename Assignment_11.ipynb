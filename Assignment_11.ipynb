{
 "cells": [
  {
   "cell_type": "code",
   "execution_count": 51,
   "metadata": {},
   "outputs": [
    {
     "name": "stdout",
     "output_type": "stream",
     "text": [
      "Enter a positive number: -7\n",
      "*****AssertionError***** -7 is a negetive number.\n"
     ]
    }
   ],
   "source": [
    "# 1. Create an assert statement that throws an AssertionError if the variable spam is a negative \n",
    "# integer\n",
    "\n",
    "try:\n",
    "    spam = int(input(\"Enter a positive number: \"))\n",
    "    if spam < 0:\n",
    "        raise AssertionError(spam)\n",
    "except AssertionError:\n",
    "    print(\"*****AssertionError*****\", spam, \"is a negetive number.\")\n",
    "else:\n",
    "    print(spam, \"is a positive number\")\n"
   ]
  },
  {
   "cell_type": "code",
   "execution_count": 17,
   "metadata": {},
   "outputs": [
    {
     "name": "stdout",
     "output_type": "stream",
     "text": [
      "Type one word: goodbye\n",
      "Type second word: GOODbye\n",
      "*****AssertionError***** eggs, bacon should not be the same!\n"
     ]
    }
   ],
   "source": [
    "# 2.Write an assert statement that triggers an AssertionError if the variables eggs and bacon \n",
    "# contain strings that are the same as each other, even if their cases are different \n",
    "# that is, 'hello' and 'hello' are considered the same, and 'goodbye' and 'GOODbye' are also \n",
    "# considered the same).\n",
    "\n",
    "try:\n",
    "    eggs = str(input(\"Type one word: \"))\n",
    "    bacon = str(input(\"Type second word: \"))\n",
    "    assert eggs.lower() != bacon.lower()\n",
    "    print(\"try pass, it will not go to except block\")\n",
    "except AssertionError:\n",
    "    print(\"*****AssertionError*****\", \"eggs, bacon should not be the same!\")"
   ]
  },
  {
   "cell_type": "code",
   "execution_count": 10,
   "metadata": {},
   "outputs": [
    {
     "ename": "SyntaxError",
     "evalue": "invalid syntax (<ipython-input-10-a1d053da581e>, line 3)",
     "output_type": "error",
     "traceback": [
      "\u001b[1;36m  File \u001b[1;32m\"<ipython-input-10-a1d053da581e>\"\u001b[1;36m, line \u001b[1;32m3\u001b[0m\n\u001b[1;33m    def assert(a,b):\u001b[0m\n\u001b[1;37m        ^\u001b[0m\n\u001b[1;31mSyntaxError\u001b[0m\u001b[1;31m:\u001b[0m invalid syntax\n"
     ]
    }
   ],
   "source": [
    "# 3.Create an assert statement that throws an AssertionError every time.\n",
    "\n",
    "def assert():\n",
    "    \"\"\"\n",
    "    This is my AssertionError msg.An assertion is a statement that enables you to test your \n",
    "    assumptions about your program. For example, if you write a method that calculates the \n",
    "    speed of a particle, you might assert that the calculated speed is less than the speed \n",
    "    of light.\n",
    "    \n",
    "    \"\"\"\n",
    "    print(\"To get my assert statement, call help\")"
   ]
  },
  {
   "cell_type": "code",
   "execution_count": 4,
   "metadata": {},
   "outputs": [],
   "source": [
    "# 4.What are the two lines that must be present in your software in order to call logging.debug()?\n",
    "\n",
    "import logging as lg\n",
    "lg.basicConfig(filename='C:\\\\Users\\\\supachow\\\\supachow.log', level=lg.DEBUG, format = '%(name)s - %(asctime)s - %(levelname)s - %(message)s')\n",
    "lg.debug(\"this is my debug log\")\n"
   ]
  },
  {
   "cell_type": "code",
   "execution_count": 7,
   "metadata": {},
   "outputs": [],
   "source": [
    "# 5.What are the two lines that your program must have in order to have logging.debug() send \n",
    "# a logging message to a file named programLog.txt?\n",
    "\n",
    "import logging as log\n",
    "log.basicConfig(filename='C:\\\\Users\\\\supachow\\\\programLog.txt', level=log.DEBUG, format = '%(name)s - %(asctime)s - %(levelname)s - %(message)s')\n",
    "log.debug(\"this is my debug logggggg\")"
   ]
  },
  {
   "cell_type": "markdown",
   "metadata": {},
   "source": [
    "6. What are the five levels of logging?\n",
    "Ans: \n",
    "INFO, DUBUG, WARNING, ERROR, CRITICAL"
   ]
  },
  {
   "cell_type": "markdown",
   "metadata": {},
   "source": [
    "7. What line of code would you add to your software to disable all logging messages?\n",
    "8. Why is using logging messages better than using print() to display the same message?\n",
    "\n",
    "\n",
    "11. What is the concept of a breakpoint?"
   ]
  },
  {
   "cell_type": "markdown",
   "metadata": {},
   "source": [
    "7. What line of code would you add to your software to disable all logging messages?\n",
    "Ans: \n",
    "logging.shutdown()"
   ]
  },
  {
   "cell_type": "markdown",
   "metadata": {},
   "source": [
    "8. Why is using logging messages better than using print() to display the same message?\n",
    "Ans:\n",
    "Logging is critical if you want to diagnose problems or understand what’s happening with your Python application. Using Python’s logging library is preferable than just putting ‘print’ statements everywhere in code.\n",
    "The Python logging library lets us Control what’s emitted, Define what types of information we want to include in logs, Configure how it looks when it’s emitted. Most importantly, we can set the destination for logs"
   ]
  },
  {
   "cell_type": "markdown",
   "metadata": {},
   "source": [
    "9. What are the differences between the Step Over, Step In, and Step Out buttons in the debugger?\n",
    "Ans:\n",
    "Step Over command:\n",
    "This command lets the application execute the next action. If the action involves a call to an operation, it does not step into its implementation. It steps over it instead.\n",
    "Step Into command:\n",
    "This command lets the application execute the next action. If the action involves a call to an operation, it steps into its implementation and breaks the execution on the first action of that implementation.\n",
    "Step Out command:\n",
    "This command lets the application execute until the currently executed operation implementation is returned."
   ]
  },
  {
   "cell_type": "markdown",
   "metadata": {},
   "source": [
    "10. After you click Continue, when will the debugger stop?\n",
    "Ans:\n",
    "Debugger will run until the next breakpoint.\n",
    "Click on Resume button to continue the debugging process until the next breakpoint, or until the end of the debugging process.\n",
    "Click the Terminate button to stop the debugging process."
   ]
  },
  {
   "cell_type": "markdown",
   "metadata": {},
   "source": [
    "11. What is the concept of a breakpoint?\n",
    "Ans:\n",
    "breakpoint is where you want your debugger to start, break\n",
    "breakpoint is an intentional stopping or pausing place in a program, put in place for debugging purposes. It is also sometimes simply referred to as a pause. Basically, a breakpoint means acquiring knowledge about a program during its execution."
   ]
  }
 ],
 "metadata": {
  "kernelspec": {
   "display_name": "Python 3",
   "language": "python",
   "name": "python3"
  },
  "language_info": {
   "codemirror_mode": {
    "name": "ipython",
    "version": 3
   },
   "file_extension": ".py",
   "mimetype": "text/x-python",
   "name": "python",
   "nbconvert_exporter": "python",
   "pygments_lexer": "ipython3",
   "version": "3.8.5"
  }
 },
 "nbformat": 4,
 "nbformat_minor": 4
}
