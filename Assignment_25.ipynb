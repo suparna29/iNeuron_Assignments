{
 "cells": [
  {
   "cell_type": "code",
   "execution_count": null,
   "metadata": {},
   "outputs": [],
   "source": [
    "1) What is the difference between enclosing a list comprehension in square brackets and\n",
    "parentheses?\n",
    "Ans:\n",
    "list comprehension in square brackets - returns the output as list\n",
    "list comprehension in parentheses - the generator expression is enclosed in plain parantheses"
   ]
  },
  {
   "cell_type": "code",
   "execution_count": null,
   "metadata": {},
   "outputs": [],
   "source": [
    "2) What is the relationship between generators and iterators?\n",
    "Ans:\n",
    "itterator - return the output only when the entire calculation is done while Generator function - doesn't wait \n",
    "for the final calculation. it keeps on calculating and keeps on generating output "
   ]
  },
  {
   "cell_type": "code",
   "execution_count": null,
   "metadata": {},
   "outputs": [],
   "source": [
    "3) What are the signs that a function is a generator function?\n",
    "Ans:\n",
    "In contrast, a generator is a function that can stop midway and then continue from where it stopped. Generators are a \n",
    "special class of functions that simplify the task of writing iterators. A generator is a function that produces a sequence \n",
    "of results instead of a single value, i.e you generate a series of values.\n",
    "The generator functions are normally built using yield expressions."
   ]
  },
  {
   "cell_type": "code",
   "execution_count": null,
   "metadata": {},
   "outputs": [],
   "source": [
    "4) What is the purpose of a yield statement?\n",
    "Ans:\n",
    "yield is a keyword in Python that is used to return from a function without destroying the states of its local variable \n",
    "and when the function is called, the execution starts from the last yield statement. \n",
    "Any function that contains a yield keyword is termed as generator. Hence, yield is what makes a generator. "
   ]
  },
  {
   "cell_type": "code",
   "execution_count": null,
   "metadata": {},
   "outputs": [],
   "source": [
    "5) What is the relationship between map calls and list comprehensions? Make a comparison and\n",
    "contrast between the two.\n",
    "Ans:\n",
    "List comprehension is more concise and easier to read as compared to map. List comprehensions are used when a list of \n",
    "results is required as map only returns a map object and does not return any list. \n",
    "Map is faster in case of calling an already defined function (as no lambda is required)."
   ]
  },
  {
   "cell_type": "code",
   "execution_count": 1,
   "metadata": {},
   "outputs": [
    {
     "name": "stdout",
     "output_type": "stream",
     "text": [
      "<map object at 0x00000160248247C0>\n",
      "[4, 88, 11.0, 12, -14]\n"
     ]
    }
   ],
   "source": [
    "# function to double the number\n",
    "def num (n) :\n",
    "    return n * 2\n",
    "          \n",
    "lst = [2, 44, 5.5, 6, -7]\n",
    "  \n",
    "# suppose we want to call function\n",
    "# 'num' for each element of lst,\n",
    "# we use map\n",
    "  \n",
    "# creates a map object\n",
    "x = map(num, lst) \n",
    "print(x) \n",
    "  \n",
    "# returns list\n",
    "print(list(x)) "
   ]
  },
  {
   "cell_type": "code",
   "execution_count": 2,
   "metadata": {},
   "outputs": [
    {
     "data": {
      "text/plain": [
       "['even', 'odd', 'even', 'odd', 'even', 'odd', 'even', 'odd', 'even', 'odd']"
      ]
     },
     "execution_count": 2,
     "metadata": {},
     "output_type": "execute_result"
    }
   ],
   "source": [
    "#list comprehension\n",
    "[\"odd\" if i%2 !=0 else \"even\"for i in range (10)]"
   ]
  },
  {
   "cell_type": "code",
   "execution_count": null,
   "metadata": {},
   "outputs": [],
   "source": []
  }
 ],
 "metadata": {
  "kernelspec": {
   "display_name": "Python 3",
   "language": "python",
   "name": "python3"
  },
  "language_info": {
   "codemirror_mode": {
    "name": "ipython",
    "version": 3
   },
   "file_extension": ".py",
   "mimetype": "text/x-python",
   "name": "python",
   "nbconvert_exporter": "python",
   "pygments_lexer": "ipython3",
   "version": "3.8.5"
  }
 },
 "nbformat": 4,
 "nbformat_minor": 4
}
