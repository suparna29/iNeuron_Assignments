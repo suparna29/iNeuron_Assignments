{
 "cells": [
  {
   "cell_type": "code",
   "execution_count": null,
   "metadata": {},
   "outputs": [],
   "source": [
    "1. What is the relationship between def statements and lambda expressions ?\n",
    "Ans:\n",
    "def statement is used to define a function.\n",
    "lambda expression is to define an anonymous function. "
   ]
  },
  {
   "cell_type": "code",
   "execution_count": null,
   "metadata": {},
   "outputs": [],
   "source": [
    "2. What is the benefit of lambda?\n",
    "Ans:\n",
    "can be defined anonymous function.\n",
    "The code is simple and clear.\n",
    "No additional variables are added."
   ]
  },
  {
   "cell_type": "code",
   "execution_count": null,
   "metadata": {},
   "outputs": [],
   "source": [
    "3. Compare and contrast map, filter, and reduce.\n",
    "Ans:\n",
    "reduce() function works differently than map() and filter() functions. It does not return a new list based on the function \n",
    "and iterable we have passed. Instead, it returns a single value. \n",
    "Also, reduce() is not a built-in function anymore, and it can be found in the functools module."
   ]
  },
  {
   "cell_type": "code",
   "execution_count": null,
   "metadata": {},
   "outputs": [],
   "source": [
    "4. What are function annotations, and how are they used?\n",
    "Ans:\n",
    "Function annotations are arbitrary python expressions that are associated with various part of functions. These expressions \n",
    "are evaluated at compile time and have no life in python’s runtime environment. Python does not attach any meaning to these \n",
    "annotations. They take life when interpreted by third party libraries like - mypy."
   ]
  },
  {
   "cell_type": "code",
   "execution_count": null,
   "metadata": {},
   "outputs": [],
   "source": [
    "5. What are recursive functions, and how are they used?\n",
    "Ans:\n",
    "A recursive function is a function defined in terms of itself via self-referential expressions. This means that the \n",
    "function will continue to call itself and repeat its behavior until some condition is met to return a result."
   ]
  },
  {
   "cell_type": "code",
   "execution_count": 15,
   "metadata": {},
   "outputs": [
    {
     "name": "stdout",
     "output_type": "stream",
     "text": [
      "The factorial of 3 is 6\n"
     ]
    }
   ],
   "source": [
    "def factorial(x):\n",
    "    \"\"\"This is a recursive function\n",
    "    to find the factorial of an integer\"\"\"\n",
    "\n",
    "    if x == 1:\n",
    "        return 1\n",
    "    else:\n",
    "        return (x * factorial(x-1))\n",
    "\n",
    "\n",
    "num = 3\n",
    "print(\"The factorial of\", num, \"is\", factorial(num))\n",
    "\n",
    "#factorial(3)          # 1st call with 3\n",
    "#3 * factorial(2)      # 2nd call with 2\n",
    "#3 * 2 * factorial(1)  # 3rd call with 1\n",
    "#3 * 2 * 1             # return from 3rd call as number=1\n",
    "#3 * 2                 # return from 2nd call\n",
    "#6                     # return from 1st call"
   ]
  },
  {
   "cell_type": "code",
   "execution_count": null,
   "metadata": {},
   "outputs": [],
   "source": [
    "6. What are some general design guidelines for coding functions?\n",
    "Ans:\n",
    "Use Meaningful Names and Avoid Made-Up Acronyms. // Avoid this.\n",
    "Follow the Conventions.\n",
    "Keep Functions Short and to the Point.\n",
    "Update Member Variables Explicitly.\n",
    "Use Comments Wisely."
   ]
  },
  {
   "cell_type": "code",
   "execution_count": null,
   "metadata": {},
   "outputs": [],
   "source": [
    "7. Name three or more ways that functions can communicate results to a caller.\n",
    "Ans:\n",
    "We can call the function with one or two arguments. \n",
    "Python functions can specify their arguments with a keyword. \n",
    "When calling a function, we specify both a keyword and a value. \n",
    "When we have multiple arguments and they are used without keywords, the order in which we pass those arguments is crucial."
   ]
  }
 ],
 "metadata": {
  "kernelspec": {
   "display_name": "Python 3",
   "language": "python",
   "name": "python3"
  },
  "language_info": {
   "codemirror_mode": {
    "name": "ipython",
    "version": 3
   },
   "file_extension": ".py",
   "mimetype": "text/x-python",
   "name": "python",
   "nbconvert_exporter": "python",
   "pygments_lexer": "ipython3",
   "version": "3.8.5"
  }
 },
 "nbformat": 4,
 "nbformat_minor": 4
}
