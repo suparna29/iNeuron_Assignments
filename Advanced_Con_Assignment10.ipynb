{
 "cells": [
  {
   "cell_type": "code",
   "execution_count": null,
   "metadata": {},
   "outputs": [],
   "source": [
    "Q1. What is the difference between __getattr__ and __getattribute__?\n",
    "Ans:\n",
    "A key difference between __getattr__ and __getattribute__ is that \n",
    "__getattr__ is only invoked if the attribute wasn't found the usual ways. It's good for implementing a fallback for missing\n",
    "attributes, and is probably the one of two you want.\n",
    "\n",
    "__getattribute__ is invoked before looking at the actual attributes on the object, and so can be tricky to implement \n",
    "correctly. You can end up in infinite recursions very easily."
   ]
  },
  {
   "cell_type": "code",
   "execution_count": null,
   "metadata": {},
   "outputs": [],
   "source": [
    "Q2. What is the difference between properties and descriptors?\n",
    "Ans:\n",
    "Descriptors are a low-level mechanism that lets you hook into an object's attributes being accessed. \n",
    "Properties are a high-level application of this, that is, properties are implemented using descriptors."
   ]
  },
  {
   "cell_type": "code",
   "execution_count": null,
   "metadata": {},
   "outputs": [],
   "source": [
    "Q3. What are the key differences in functionality between __getattr__ and __getattribute__, as well as\n",
    "properties and descriptors?\n",
    "Ans:\n",
    "A key difference between __getattr__ and __getattribute__ is that \n",
    "__getattr__ is only invoked if the attribute wasn't found the usual ways. It's good for implementing a fallback for missing\n",
    "attributes, and is probably the one of two you want.\n",
    "\n",
    "__getattribute__ is invoked before looking at the actual attributes on the object, and so can be tricky to implement \n",
    "correctly. You can end up in infinite recursions very easily.\n",
    "\n",
    "Descriptors are a low-level mechanism that lets you hook into an object's attributes being accessed.\n",
    "\n",
    "Properties are a high-level application of this, that is, properties are implemented using descriptors."
   ]
  },
  {
   "cell_type": "code",
   "execution_count": null,
   "metadata": {},
   "outputs": [],
   "source": []
  },
  {
   "cell_type": "code",
   "execution_count": null,
   "metadata": {},
   "outputs": [],
   "source": []
  }
 ],
 "metadata": {
  "kernelspec": {
   "display_name": "Python 3",
   "language": "python",
   "name": "python3"
  },
  "language_info": {
   "codemirror_mode": {
    "name": "ipython",
    "version": 3
   },
   "file_extension": ".py",
   "mimetype": "text/x-python",
   "name": "python",
   "nbconvert_exporter": "python",
   "pygments_lexer": "ipython3",
   "version": "3.8.5"
  }
 },
 "nbformat": 4,
 "nbformat_minor": 4
}
