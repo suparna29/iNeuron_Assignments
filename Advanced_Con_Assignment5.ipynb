{
 "cells": [
  {
   "cell_type": "code",
   "execution_count": null,
   "metadata": {},
   "outputs": [],
   "source": [
    "Q1. What is the meaning of multiple inheritance?\n",
    "Ans: \n",
    "When a class is derived from more than one base class it is called multiple Inheritance. The derived class inherits all\n",
    "the features of the base class."
   ]
  },
  {
   "cell_type": "code",
   "execution_count": null,
   "metadata": {},
   "outputs": [],
   "source": [
    "Q2. What is the concept of delegation?\n",
    "Ans:\n",
    "Delegation is an object oriented technique (also called a design pattern). \n",
    "For example: we have an object x and want to change the behaviour of just one of its methods. The delegation is \n",
    "accomplished via the __getattr__ method."
   ]
  },
  {
   "cell_type": "code",
   "execution_count": null,
   "metadata": {},
   "outputs": [],
   "source": [
    "Q3. What is the concept of composition?\n",
    "Ans:\n",
    "Composition is a concept that models a relationship. It enables creating complex types by combining objects of other types.\n",
    "This means- a class 'Composite' can contain an object of another class 'Component'. This relationship means that a \n",
    "Composite has a Component."
   ]
  },
  {
   "cell_type": "code",
   "execution_count": null,
   "metadata": {},
   "outputs": [],
   "source": [
    "Q4. What are bound methods and how do we use them?\n",
    "Ans:\n",
    "A bound method is the one which is dependent on the instance of the class as the first argument. It passes the instance as\n",
    "the first argument which is used to access the variables and functions. In Python3 and newer versions of python, all \n",
    "functions in the class are by default bound methods."
   ]
  },
  {
   "cell_type": "code",
   "execution_count": null,
   "metadata": {},
   "outputs": [],
   "source": [
    "Q5. What is the purpose of pseudo private attributes?\n",
    "Ans:\n",
    "This is actually private attributes. It is just a way to localize a name to the class that created it, and does not prevent\n",
    "access by code outside the class. That is, this feature is mostly intended to avoid namespace collisions in instances, not\n",
    "to restrict access to names in general."
   ]
  },
  {
   "cell_type": "code",
   "execution_count": null,
   "metadata": {},
   "outputs": [],
   "source": []
  },
  {
   "cell_type": "code",
   "execution_count": null,
   "metadata": {},
   "outputs": [],
   "source": []
  }
 ],
 "metadata": {
  "kernelspec": {
   "display_name": "Python 3",
   "language": "python",
   "name": "python3"
  },
  "language_info": {
   "codemirror_mode": {
    "name": "ipython",
    "version": 3
   },
   "file_extension": ".py",
   "mimetype": "text/x-python",
   "name": "python",
   "nbconvert_exporter": "python",
   "pygments_lexer": "ipython3",
   "version": "3.8.5"
  }
 },
 "nbformat": 4,
 "nbformat_minor": 4
}
