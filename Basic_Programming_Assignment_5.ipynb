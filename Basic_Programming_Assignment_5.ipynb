{
  "nbformat": 4,
  "nbformat_minor": 0,
  "metadata": {
    "colab": {
      "name": "Basic_Programming_Assignment_5.ipynb",
      "provenance": [],
      "collapsed_sections": []
    },
    "kernelspec": {
      "name": "python3",
      "display_name": "Python 3"
    },
    "language_info": {
      "name": "python"
    }
  },
  "cells": [
    {
      "cell_type": "code",
      "metadata": {
        "colab": {
          "base_uri": "https://localhost:8080/"
        },
        "id": "1H2iRJ7wmxnx",
        "outputId": "d60bebb1-a419-459b-e518-276dc38452a3"
      },
      "source": [
        "#1.Write a Python Program to Find LCM?\n",
        "a = int(input(\"Enter first number: \"))\n",
        "b = int(input(\"Enter second number: \"))\n",
        "\n",
        "def calculate_lcm(x,y):\n",
        "  if x>y:\n",
        "    greater = x\n",
        "  else:\n",
        "    greater = y\n",
        "  while (True):\n",
        "    if((greater % x == 0)and (greater % y == 0)):\n",
        "      lcm = greater\n",
        "      break\n",
        "    greater +=1\n",
        "  return lcm\n",
        "print (\"The LCM is :\", calculate_lcm(a,b))\n",
        "\n",
        "\n"
      ],
      "execution_count": 4,
      "outputs": [
        {
          "output_type": "stream",
          "text": [
            "Enter first number: 6\n",
            "Enter second number: 21\n",
            "The LCM is : 42\n"
          ],
          "name": "stdout"
        }
      ]
    },
    {
      "cell_type": "code",
      "metadata": {
        "colab": {
          "base_uri": "https://localhost:8080/"
        },
        "id": "52VwEVw7m6lr",
        "outputId": "24e5e16a-ecd2-4ac5-f0b0-76dd6a7b5772"
      },
      "source": [
        "# 2. Write a Python Program to Find HCF?\n",
        "a = int(input(\"Enter first number= \"))\n",
        "b = int(input(\"Enter second number= \"))\n",
        "\n",
        "def calculate_hcf(x,y):\n",
        "  if (x>y):\n",
        "    smaller = y\n",
        "  else:\n",
        "    smaller = x\n",
        "  for i in range(1, smaller+1):\n",
        "    if((x % i == 0)and (y % i == 0)):\n",
        "      hcf = i\n",
        "  return hcf\n",
        "print (\"The HCF is :\", calculate_hcf(a,b))\n",
        "\n",
        "\n"
      ],
      "execution_count": 9,
      "outputs": [
        {
          "output_type": "stream",
          "text": [
            "Enter first number= 8\n",
            "Enter second number= 12\n",
            "The HCF is : 4\n"
          ],
          "name": "stdout"
        }
      ]
    },
    {
      "cell_type": "code",
      "metadata": {
        "colab": {
          "base_uri": "https://localhost:8080/"
        },
        "id": "A6HrC6GCyoNL",
        "outputId": "387c73a7-875e-44fc-8961-be24e6ca3565"
      },
      "source": [
        "# 3. Write a Python Program to Convert Decimal to Binary, Octal and Hexadecimal?\n",
        "dec = int(input(\"Enter a number: \"))\n",
        "\n",
        "print(\"The decimal value of\", dec, \"is:\")\n",
        "print(bin(dec), \"in binary.\")\n",
        "print(oct(dec), \"in octal.\")\n",
        "print(hex(dec), \"in hexadecimal.\")"
      ],
      "execution_count": 13,
      "outputs": [
        {
          "output_type": "stream",
          "text": [
            "Enter a number: 34\n",
            "The decimal value of 34 is:\n",
            "0b100010 in binary.\n",
            "0o42 in octal.\n",
            "0x22 in hexadecimal.\n"
          ],
          "name": "stdout"
        }
      ]
    },
    {
      "cell_type": "code",
      "metadata": {
        "colab": {
          "base_uri": "https://localhost:8080/"
        },
        "id": "TSxEqkzCyoe8",
        "outputId": "3c0e4522-ce0a-4fb3-d14e-84505d012b34"
      },
      "source": [
        "# 4. Write a Python Program To Find ASCII value of a character?\n",
        "\n",
        "a = str(input(\"Enter one alphabet: \"))\n",
        "#print(\"The ASCII value of '\" + a + \"' is:\", ord(a))\n",
        "print(\"The ASCII value of \\'a\\' is:\", ord(a))"
      ],
      "execution_count": 21,
      "outputs": [
        {
          "output_type": "stream",
          "text": [
            "Enter one alphabet: z\n",
            "The ASCII value of 'a' is: 122\n"
          ],
          "name": "stdout"
        }
      ]
    },
    {
      "cell_type": "code",
      "metadata": {
        "colab": {
          "base_uri": "https://localhost:8080/"
        },
        "id": "rgre5JlQyoiX",
        "outputId": "185cceff-7db7-45f3-ef12-5190412c6538"
      },
      "source": [
        "# 5. Write a Python Program to Make a Simple Calculator with 4 basic mathematical operations?\n",
        "\n",
        "def addition(a,b):\n",
        "  return a+b\n",
        "def substruction(a,b):\n",
        "  return a-b\n",
        "def multiplication(a,b):\n",
        "  return a*b\n",
        "def division(a,b):\n",
        "  return a/b\n",
        "print(\"Select an operation from below options:\")\n",
        "print(\"1. addition\")\n",
        "print(\"2. substruction\")\n",
        "print(\"3. multiplication\")\n",
        "print(\"4. division\")\n",
        "\n",
        "while True:\n",
        "  operation = input(\"Choose an operation (1/2/3/4) :\")\n",
        "  if operation in ('1','2','3','4'):\n",
        "    a=float(input(\"Enter a value of a: \"))\n",
        "    b=float(input(\"Enter a value of b: \"))\n",
        "    if operation == '1':\n",
        "      #print(a, \"+\", b, \"=\", add(a, b))\n",
        "      print(\"The addition of a and b is :\", a+b)\n",
        "    elif operation == '2':\n",
        "      print(\"The substruction of a and b is :\", a-b)\n",
        "    elif operation == '3':\n",
        "      print(\"The multiplication of a and b is :\", a*b)\n",
        "    elif operation == '4':\n",
        "      print(\"The division of a and b is :\", a/b)\n",
        "    break\n",
        "  else:\n",
        "    print(\"invalid input\")\n",
        "\n"
      ],
      "execution_count": 55,
      "outputs": [
        {
          "output_type": "stream",
          "text": [
            "Select an operation from below options:\n",
            "1. addition\n",
            "2. substruction\n",
            "3. multiplication\n",
            "4. division\n",
            "Choose an operation (1/2/3/4) :1\n",
            "Enter a value of a: 5\n",
            "Enter a value of b: 8\n",
            "The addition of a and b is : 13.0\n"
          ],
          "name": "stdout"
        }
      ]
    }
  ]
}