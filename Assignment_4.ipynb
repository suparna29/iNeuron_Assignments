{
  "nbformat": 4,
  "nbformat_minor": 0,
  "metadata": {
    "colab": {
      "name": "Assignment_4.ipynb",
      "provenance": [],
      "collapsed_sections": []
    },
    "kernelspec": {
      "name": "python3",
      "display_name": "Python 3"
    },
    "language_info": {
      "name": "python"
    }
  },
  "cells": [
    {
      "cell_type": "code",
      "metadata": {
        "id": "zbeyVhuuEgPV"
      },
      "source": [
        ""
      ],
      "execution_count": null,
      "outputs": []
    },
    {
      "cell_type": "markdown",
      "metadata": {
        "id": "3xrRNEwNEhGQ"
      },
      "source": [
        "1. What exactly is []?\n",
        "Ans: Emply list value\n",
        "\n"
      ]
    },
    {
      "cell_type": "code",
      "metadata": {
        "colab": {
          "base_uri": "https://localhost:8080/"
        },
        "id": "KV2SxNodEixj",
        "outputId": "4364a187-46df-4eb4-dcb4-cb49d206b922"
      },
      "source": [
        "[]"
      ],
      "execution_count": null,
      "outputs": [
        {
          "output_type": "execute_result",
          "data": {
            "text/plain": [
              "[]"
            ]
          },
          "metadata": {
            "tags": []
          },
          "execution_count": 1
        }
      ]
    },
    {
      "cell_type": "code",
      "metadata": {
        "colab": {
          "base_uri": "https://localhost:8080/"
        },
        "id": "QUIqzBsTElr5",
        "outputId": "a8fb29b8-2f5f-47c5-b528-8a0a29fb39ca"
      },
      "source": [
        "# 2.In a list of values stored in a variable called spam, how would you assign the value 'hello' as the third value? (Assume [2, 4, 6, 8, 10] are in spam.) Let's pretend the spam includes the list ['a', 'b', 'c', 'd'] for the next three queries.\n",
        "# 3.What is the value of spam[int(int('3' * 2) / 11)]?\n",
        "# 4.What is the value of spam[-1]?\n",
        "# 5.What is the value of spam[:2]?Let's pretend bacon has the list [3.14, 'cat,' 11, 'cat,' True] for the next three questions\n",
        "spam = [2,4,6,8,10]\n",
        "spam.insert(3, 'hello')\n",
        "print(spam)\n",
        "\n",
        "spam1=spam[int(int('3' * 2) / 11)]\n",
        "print(spam1)\n",
        "\n",
        "spam2 = spam[-1]\n",
        "print(spam2)\n",
        "\n",
        "spam3 = spam[:2]\n",
        "print(spam3)"
      ],
      "execution_count": null,
      "outputs": [
        {
          "output_type": "stream",
          "text": [
            "[2, 4, 6, 'hello', 8, 10]\n",
            "hello\n",
            "10\n",
            "[2, 4]\n"
          ],
          "name": "stdout"
        }
      ]
    },
    {
      "cell_type": "code",
      "metadata": {
        "colab": {
          "base_uri": "https://localhost:8080/"
        },
        "id": "MBuLp1-6InbG",
        "outputId": "dc0941a0-a660-4373-e95a-619736c61e20"
      },
      "source": [
        "#Let's pretend bacon has the list [3.14, 'cat,' 11, 'cat,' True] for the next three questions\n",
        "# 6.What is the value of bacon.index('cat')?\n",
        "# 7.How does bacon.append(99) change the look of the list value in bacon?\n",
        "# 8.How does bacon.remove('cat') change the look of the list in bacon?\n",
        "\n",
        "bacon = [3.14, 'cat', 11, 'cat', True]\n",
        "print(bacon)\n",
        "\n",
        "bacon1 = bacon.index('cat')\n",
        "print(bacon1)\n",
        "\n",
        "bacon.append(99)\n",
        "print(bacon)\n",
        "\n",
        "bacon.remove('cat') \n",
        "print(bacon)\n",
        "# this will remove onlt first 'cat'. to remove 2nd occurance of 'cat' need to go with index"
      ],
      "execution_count": 45,
      "outputs": [
        {
          "output_type": "stream",
          "text": [
            "[3.14, 'cat', 11, 'cat', True]\n",
            "1\n",
            "[3.14, 'cat', 11, 'cat', True, 99]\n",
            "[3.14, 11, 'cat', True, 99]\n"
          ],
          "name": "stdout"
        }
      ]
    },
    {
      "cell_type": "markdown",
      "metadata": {
        "id": "WgbPLI1GVEgo"
      },
      "source": [
        "# 9.What are the list concatenation and list replication operators?\n",
        "Ans: concatination is + operator. \n",
        "replication is * operator \n",
        "\n",
        "# 10.What is difference between the list methods append() and insert()?\n",
        "Ans: using append() method, i can append one value to the end of the list\n",
        "using insert()method, i can insert a value to a particular index\n",
        "append() works as append(value) whereas insert() works as insert(index,value)\n",
        "\n",
        "# 11.What are the two methods for removing items from a list?\n",
        "Ans: pop() and remove()\n",
        "\n",
        "# 12.Describe how list values and string values are identical.\n",
        "Ans: Strings can only consist of characters, while lists can contain any data type.\n",
        "\n",
        "# 13.What's the difference between tuples and lists?\n",
        "Ans: tuple is immutable entity, while list is mutable entity.\n",
        "\n"
      ]
    },
    {
      "cell_type": "code",
      "metadata": {
        "id": "3f2H58klSqO-"
      },
      "source": [
        "# 14.How do you type a tuple value that only contains the integer 42?\n",
        "tuple= (42)"
      ],
      "execution_count": 48,
      "outputs": []
    },
    {
      "cell_type": "code",
      "metadata": {
        "colab": {
          "base_uri": "https://localhost:8080/"
        },
        "id": "XUK3GEWQY5RI",
        "outputId": "298d1171-545c-4156-fe67-8683888dab99"
      },
      "source": [
        "tuple"
      ],
      "execution_count": 49,
      "outputs": [
        {
          "output_type": "execute_result",
          "data": {
            "text/plain": [
              "42"
            ]
          },
          "metadata": {
            "tags": []
          },
          "execution_count": 49
        }
      ]
    },
    {
      "cell_type": "code",
      "metadata": {
        "colab": {
          "base_uri": "https://localhost:8080/"
        },
        "id": "j84YVBiPZjdX",
        "outputId": "2831ef23-0b9a-4d82-b703-50565e97fa67"
      },
      "source": [
        "# 15.How do you get a list value's tuple form? How do you get a tuple value's list form?\n",
        "tup=(2,3,4,5,3,6)\n",
        "print (tup)\n",
        "lis = [20,30,40,50,30,60]\n",
        "print(lis)"
      ],
      "execution_count": 69,
      "outputs": [
        {
          "output_type": "stream",
          "text": [
            "(2, 3, 4, 5, 3, 6)\n",
            "[20, 30, 40, 50, 30, 60]\n"
          ],
          "name": "stdout"
        }
      ]
    },
    {
      "cell_type": "code",
      "metadata": {
        "colab": {
          "base_uri": "https://localhost:8080/"
        },
        "id": "R8PQLFC6biHo",
        "outputId": "b6292528-c16f-4169-ba60-29b7da57d72c"
      },
      "source": [
        "type(tup)"
      ],
      "execution_count": 72,
      "outputs": [
        {
          "output_type": "execute_result",
          "data": {
            "text/plain": [
              "tuple"
            ]
          },
          "metadata": {
            "tags": []
          },
          "execution_count": 72
        }
      ]
    },
    {
      "cell_type": "code",
      "metadata": {
        "colab": {
          "base_uri": "https://localhost:8080/"
        },
        "id": "yfH1dZKdbvS_",
        "outputId": "78be1691-19dd-4ea8-fc4a-13e97346e127"
      },
      "source": [
        "type(lis)"
      ],
      "execution_count": 73,
      "outputs": [
        {
          "output_type": "execute_result",
          "data": {
            "text/plain": [
              "list"
            ]
          },
          "metadata": {
            "tags": []
          },
          "execution_count": 73
        }
      ]
    },
    {
      "cell_type": "code",
      "metadata": {
        "colab": {
          "base_uri": "https://localhost:8080/"
        },
        "id": "u54MZzTEZkoO",
        "outputId": "2dbc6a44-b72a-421b-d265-5bf82a152779"
      },
      "source": [
        "tuplis = [(tup)]\n",
        "print(tuplis)\n",
        "type(tuplis)"
      ],
      "execution_count": 64,
      "outputs": [
        {
          "output_type": "stream",
          "text": [
            "[(2, 3, 4, 5, 3, 6)]\n"
          ],
          "name": "stdout"
        },
        {
          "output_type": "execute_result",
          "data": {
            "text/plain": [
              "list"
            ]
          },
          "metadata": {
            "tags": []
          },
          "execution_count": 64
        }
      ]
    },
    {
      "cell_type": "code",
      "metadata": {
        "colab": {
          "base_uri": "https://localhost:8080/"
        },
        "id": "-BgVmq8wbhgO",
        "outputId": "3e37c100-1572-4e17-f017-ec798e91667f"
      },
      "source": [
        "def convert(lis): \n",
        "    return (*lis, ) \n",
        "print(convert(lis)) "
      ],
      "execution_count": 88,
      "outputs": [
        {
          "output_type": "stream",
          "text": [
            "(20, 30, 40, 50, 30, 60)\n"
          ],
          "name": "stdout"
        }
      ]
    },
    {
      "cell_type": "markdown",
      "metadata": {
        "id": "amtHzoYJYlx6"
      },
      "source": [
        "# 16.Variables that \"contain\" list values are not necessarily lists themselves. Instead, what do they contain?\n",
        "Ans: they contain nested list values\n",
        "\n",
        "# 17.How do you distinguish between copy.copy() and copy.deepcopy()?\n",
        "Ans: .copy() create reference to original object. If I change copied object that means I changed the original object. \n",
        ".deepcopy() creates new object and does real copying of original object to new one. So, changing new deepcopied object doesn't affect original object."
      ]
    },
    {
      "cell_type": "code",
      "metadata": {
        "id": "vE4G3OjTY_2G"
      },
      "source": [
        ""
      ],
      "execution_count": null,
      "outputs": []
    },
    {
      "cell_type": "code",
      "metadata": {
        "id": "YFv4SyJISqUZ"
      },
      "source": [
        ""
      ],
      "execution_count": null,
      "outputs": []
    },
    {
      "cell_type": "code",
      "metadata": {
        "id": "iwAaKrF5SqWv"
      },
      "source": [
        ""
      ],
      "execution_count": null,
      "outputs": []
    },
    {
      "cell_type": "code",
      "metadata": {
        "id": "XIj_9zlcSqY8"
      },
      "source": [
        ""
      ],
      "execution_count": null,
      "outputs": []
    },
    {
      "cell_type": "code",
      "metadata": {
        "id": "2xP52ICcSpCH"
      },
      "source": [
        ""
      ],
      "execution_count": null,
      "outputs": []
    }
  ]
}