{
 "cells": [
  {
   "cell_type": "code",
   "execution_count": null,
   "metadata": {},
   "outputs": [],
   "source": [
    "Q1. In Python 3.X, what are the names and functions of string object types?\n",
    "Ans:\n",
    "capitalize() - Converts the first string character to upper case\n",
    "casefold() - Converts string into lower case\n",
    "center() - Returns a centered string\n",
    "count() - Returns the number of times a specified value occurs in a string\n",
    "encode() - Returns an encoded version of the string\n",
    "endswith() - Returns true if the string ends with the specified value\n",
    "expandtabs() - Sets the tab size of the string\n",
    "find() - Searches the string for a specified value and returns the position of where it was found\n",
    "format() - Formats specified values in a string\n",
    "format_map() - Formats specified values in a string\n",
    "index() - Searches the string for a specified value and returns the position of where it was found\n",
    "isalnum() - Returns True if all characters in the string are alphanumeric\n",
    "isalpha() - Returns True if all characters in the string are in the alphabet\n",
    "isdecimal() - Returns True if all characters in the string are decimals\n",
    "isdigit() - Returns True if all characters in the string are digits\n",
    "isidentifier() - Returns True if the string is an identifier\n",
    "islower() - Returns True if all characters in the string are lower case\n",
    "isnumeric() - Returns True if all characters in the string are numeric\n",
    "isprintable() - Returns True if all characters in the string are printable\n",
    "isspace() - Returns True if all characters in the string are whitespaces\n",
    "istitle() - Returns True if the string follows the rules of a title\n",
    "isupper() - Returns True if all characters in the string are upper case\n",
    "join() - Joins the elements of an iterable to the end of the string\n",
    "ljust() - Returns a left justified version of the string\n",
    "lower() - Converts a string into lower case\n",
    "lstrip() - Returns a left trim version of the string\n",
    "maketrans() - Returns a translation table to be used in translations\n",
    "partition() - Returns a tuple where the string is parted into three parts\n",
    "replace() - Returns a string where a specified value is replaced with a specified value\n",
    "rfind() - Searches the string for a specified value and returns the last position of where it was found\n",
    "rindex() - Searches the string for a specified value and returns the last position of where it was found\n",
    "rjust() - Returns a right justified version of the string\n",
    "rpartition() - Returns a tuple where the string is parted into three parts\n",
    "rsplit() - Splits the string at the specified separator, and returns a list\n",
    "rstrip() - Returns a right trim version of the string\n",
    "split() - Splits the string at the specified separator, and returns a list\n",
    "splitlines() - Splits the string at line breaks and returns a list\n",
    "startswith() - Returns true if the string starts with the specified value\n",
    "strip() - Returns a trimmed version of the string\n",
    "swapcase() - Swaps cases, lower case becomes upper case and vice versa\n",
    "title() - Converts the first character of each word to upper case\n",
    "translate() - Returns a translated string\n",
    "upper() - Converts a string into upper case\n",
    "zfill() - Fills the string with a specified number of 0 values at the beginning"
   ]
  },
  {
   "cell_type": "code",
   "execution_count": null,
   "metadata": {},
   "outputs": [],
   "source": [
    "Q2. How do the string forms in Python 3.X vary in terms of operations?\n",
    "Ans:\n"
   ]
  },
  {
   "cell_type": "code",
   "execution_count": null,
   "metadata": {},
   "outputs": [],
   "source": [
    "Q3. In 3.X, how do you put non-ASCII Unicode characters in a string?\n",
    "Ans:\n",
    "The source file must be saved using the correct encoding in the text editor as well.\n",
    "In Python 3, we use - s.replace(u\"Â \", u\"\").\n",
    "s.replace(u\"Â \", u\"\") will fail if s is not a unicode string.\n"
   ]
  },
  {
   "cell_type": "code",
   "execution_count": null,
   "metadata": {},
   "outputs": [],
   "source": [
    "Q4. In Python 3.X, what are the key differences between text-mode and binary-mode files?\n",
    "Ans:\n",
    "This mode is about conversion of line endings. When reading in text mode, the platform's native line endings ( \\r\\n on \n",
    "Windows) are converted to Python's Unix-style \\n line endings. When writing in text mode, the reverse happens. \n",
    "In binary mode, no such conversion is done.\n"
   ]
  },
  {
   "cell_type": "code",
   "execution_count": null,
   "metadata": {},
   "outputs": [],
   "source": [
    "Q5. How can you interpret a Unicode text file containing text encoded in a different encoding than your platform's default?\n",
    "Ans:\n",
    "If you use anything other than the most basic English text, people may not be able to read the content you create unless \n",
    "you say what character encoding you used. Once your browser or app has worked out what characters it is dealing with, it \n",
    "will then (Only ASCII characters are encoded with a single byte in UTF-8​.)."
   ]
  },
  {
   "cell_type": "code",
   "execution_count": null,
   "metadata": {},
   "outputs": [],
   "source": [
    "Q6. What is the best way to make a Unicode text file in a particular encoding format?\n",
    "Ans:\n",
    "write() to write unicode text to a text file. \n",
    "Call str.encode(encoding) with encoding set to \"utf8\" to encode str. \n",
    "Call open(file, mode) to open a file with mode set to \"wb\" .\n"
   ]
  },
  {
   "cell_type": "code",
   "execution_count": null,
   "metadata": {},
   "outputs": [],
   "source": [
    "Q7. What qualifies ASCII text as a form of Unicode text?\n",
    "Ans:\n",
    "ASCII has its equivalent in Unicode. \n",
    "The difference between ASCII and Unicode is that ASCII represents lowercase letters (a-z), uppercase letters (A-Z), digits\n",
    "(0–9) and symbols such as punctuation marks while Unicode represents letters of English, Arabic, Greek etc.\n"
   ]
  },
  {
   "cell_type": "code",
   "execution_count": null,
   "metadata": {},
   "outputs": [],
   "source": [
    "Q8. How much of an effect does the change in string types in Python 3.X have on your code?\n",
    "Ans:\n"
   ]
  },
  {
   "cell_type": "code",
   "execution_count": null,
   "metadata": {},
   "outputs": [],
   "source": []
  }
 ],
 "metadata": {
  "kernelspec": {
   "display_name": "Python 3",
   "language": "python",
   "name": "python3"
  },
  "language_info": {
   "codemirror_mode": {
    "name": "ipython",
    "version": 3
   },
   "file_extension": ".py",
   "mimetype": "text/x-python",
   "name": "python",
   "nbconvert_exporter": "python",
   "pygments_lexer": "ipython3",
   "version": "3.8.5"
  }
 },
 "nbformat": 4,
 "nbformat_minor": 4
}
