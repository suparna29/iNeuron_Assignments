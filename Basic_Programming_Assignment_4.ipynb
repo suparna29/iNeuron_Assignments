{
  "nbformat": 4,
  "nbformat_minor": 0,
  "metadata": {
    "colab": {
      "name": "Basic_Programming Assignment_4.ipynb",
      "provenance": [],
      "collapsed_sections": []
    },
    "kernelspec": {
      "name": "python3",
      "display_name": "Python 3"
    },
    "language_info": {
      "name": "python"
    }
  },
  "cells": [
    {
      "cell_type": "code",
      "metadata": {
        "colab": {
          "base_uri": "https://localhost:8080/"
        },
        "id": "xfJyAk8HoDNX",
        "outputId": "98cc5750-c781-4f4c-bc87-ac9709d1a41e"
      },
      "source": [
        "# 1. Write a Python Program to Find the Factorial of a Number?\n",
        "# 1*2*3*4*5*6 = 720\n",
        "a = int(input(\"Enter a number : \"))\n",
        "fact = 1\n",
        "if a < 0:\n",
        "  print(\"sorry! factorial doesn't exist for negetive numbers.\")\n",
        "elif a==0 :\n",
        "  print(\"factorial of 0 is 1\")\n",
        "else:\n",
        "  for i in range (1, a+1):\n",
        "    fact = fact*i\n",
        "  print(\"The factorial of\",a,\"is\",fact)\n",
        "\n"
      ],
      "execution_count": 18,
      "outputs": [
        {
          "output_type": "stream",
          "text": [
            "Enter a number : 5\n",
            "The factorial of 5 is 120\n"
          ],
          "name": "stdout"
        }
      ]
    },
    {
      "cell_type": "code",
      "metadata": {
        "id": "rVDH8L0-oMdi",
        "colab": {
          "base_uri": "https://localhost:8080/"
        },
        "outputId": "beb8ef09-296f-47eb-9211-89a9677e2332"
      },
      "source": [
        "# 2. Write a Python Program to Display the multiplication Table?\n",
        "a = int(input(\"Enter a number you want multiplication table of: \"))\n",
        "for i in range (1, 11):\n",
        "  print(a,\"x\",i,\"=\",a*i)\n",
        "\n"
      ],
      "execution_count": 31,
      "outputs": [
        {
          "output_type": "stream",
          "text": [
            "Enter a number you want multiplication table of: 13\n",
            "13 x 1 = 13\n",
            "13 x 2 = 26\n",
            "13 x 3 = 39\n",
            "13 x 4 = 52\n",
            "13 x 5 = 65\n",
            "13 x 6 = 78\n",
            "13 x 7 = 91\n",
            "13 x 8 = 104\n",
            "13 x 9 = 117\n",
            "13 x 10 = 130\n"
          ],
          "name": "stdout"
        }
      ]
    },
    {
      "cell_type": "code",
      "metadata": {
        "id": "_qpQyXntoMjR",
        "colab": {
          "base_uri": "https://localhost:8080/"
        },
        "outputId": "7e51c765-5482-411c-e009-67b160b3f603"
      },
      "source": [
        "# 3. Write a Python Program to Print the Fibonacci sequence?\n",
        "\n",
        "def Fibo(n):\n",
        "  a=1\n",
        "  b=1\n",
        "  for i in range (n+1):\n",
        "    print(a)\n",
        "    a,b=b,a+b\n",
        "  print()\n",
        "fibo(6)"
      ],
      "execution_count": 37,
      "outputs": [
        {
          "output_type": "stream",
          "text": [
            "1\n",
            "1\n",
            "2\n",
            "3\n",
            "5\n",
            "8\n",
            "13\n",
            "\n"
          ],
          "name": "stdout"
        }
      ]
    },
    {
      "cell_type": "code",
      "metadata": {
        "id": "r1rIbjBmoMqN",
        "colab": {
          "base_uri": "https://localhost:8080/"
        },
        "outputId": "af0cc841-8ea2-48e1-b04a-0494d87fecda"
      },
      "source": [
        "# 4.Write a Python Program to Check Armstrong Number?\n",
        "#153 = 1*1*1 + 5*5*5 + 3*3*3  // 153 is an Armstrong number.\n",
        "\n",
        "a = int(input(\"Enter a number: \"))\n",
        "sum = 0\n",
        "# find the sum of the cube of each digit\n",
        "temp = a\n",
        "while temp > 0:\n",
        "   digit = temp % 10\n",
        "   sum += digit ** 3\n",
        "   #sum = sum+digit ** 3\n",
        "   temp //= 10\n",
        "# display the result\n",
        "if a == sum:\n",
        "   print(a,\"is an Armstrong number\")\n",
        "else:\n",
        "   print(a,\"is not an Armstrong number\")\n"
      ],
      "execution_count": 46,
      "outputs": [
        {
          "output_type": "stream",
          "text": [
            "Enter a number: 153\n",
            "153 is an Armstrong number\n"
          ],
          "name": "stdout"
        }
      ]
    },
    {
      "cell_type": "code",
      "metadata": {
        "id": "6Dilp9cWoMsq",
        "colab": {
          "base_uri": "https://localhost:8080/"
        },
        "outputId": "d50c610e-9e82-47dc-b29f-9517bbc00e76"
      },
      "source": [
        "# 5. Write a Python Program to Find Armstrong Number in an Interval?\n",
        "# Amstrng numbers are in range of 0-999\n",
        "\n",
        "upper = int(input(\"enter the upper range: \"))\n",
        "lower = int(input(\"Enter the lower range: \"))\n",
        "for i in range (lower, upper+1):\n",
        "  sum = 0\n",
        "  temp = i\n",
        "  while temp > 0:\n",
        "    digit = temp % 10\n",
        "    sum += digit ** 3\n",
        "    temp //= 10\n",
        "  if i == sum:\n",
        "    print(i)"
      ],
      "execution_count": 58,
      "outputs": [
        {
          "output_type": "stream",
          "text": [
            "enter the upper range: 999\n",
            "Enter the lower range: 0\n",
            "0\n",
            "1\n",
            "153\n",
            "370\n",
            "371\n",
            "407\n"
          ],
          "name": "stdout"
        }
      ]
    },
    {
      "cell_type": "code",
      "metadata": {
        "colab": {
          "base_uri": "https://localhost:8080/"
        },
        "id": "ITZ2mR6i8Bfg",
        "outputId": "7593b35c-9151-46ed-c57d-d5ad9c2797b6"
      },
      "source": [
        "# Write a Python Program to Find the Sum of Natural Numbers?\n",
        "# 6 = 6+5+4+3+2+1=21\n",
        "\n",
        "a = int(input(\"Enter a number: \"))\n",
        "if a < 0:\n",
        "  print(\"Enter a positive number\")\n",
        "else:\n",
        "  sum =0\n",
        "  while a>0:\n",
        "    sum += a\n",
        "    a -=1\n",
        "  print(\"The sum is =\",sum) \n"
      ],
      "execution_count": 63,
      "outputs": [
        {
          "output_type": "stream",
          "text": [
            "Enter a number: 4\n",
            "The sum is = 10\n"
          ],
          "name": "stdout"
        }
      ]
    }
  ]
}