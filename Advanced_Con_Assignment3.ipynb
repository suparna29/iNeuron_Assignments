{
 "cells": [
  {
   "cell_type": "markdown",
   "metadata": {},
   "source": [
    "1. What is the concept of an abstract superclass?\n",
    "\n",
    "2. What happens when a class statement&#39;s top level contains a basic assignment statement?\n",
    "\n",
    "3. Why does a class need to manually call a superclass&#39;s __init__ method?\n",
    "\n",
    "4. How can you augment, instead of completely replacing, an inherited method?\n",
    "\n",
    "5. How is the local scope of a class different from that of a function?"
   ]
  },
  {
   "cell_type": "code",
   "execution_count": 3,
   "metadata": {},
   "outputs": [
    {
     "name": "stdout",
     "output_type": "stream",
     "text": [
      "this is my test code for abstraction\n"
     ]
    }
   ],
   "source": [
    "# 1. What is the concept of an abstract superclass?\n",
    "# Ans: An abstract class can be considered as a blueprint for other classes. It allows you to create a set of methods that must be created within any child classes built from the abstract class. A class which contains one or more abstract methods is called an abstract class.\n",
    "\n",
    "class test:\n",
    "    def __init__(self, a,b,c,d):\n",
    "        self.a = a\n",
    "        self.b = b\n",
    "        self.c = c\n",
    "        self.d = d\n",
    "    def test_custom(self, v):\n",
    "        return v - self.a\n",
    "    def __str__(self):\n",
    "        return \"this is my test code for abstraction\"\n",
    "o = test(4,5,6,7)\n",
    "print(o)"
   ]
  },
  {
   "cell_type": "code",
   "execution_count": null,
   "metadata": {},
   "outputs": [],
   "source": [
    "2. What happens when a class statement's top level contains a basic assignment statement?\n",
    "Ans:\n",
    "An assignment statement gives a value to a variable. \n",
    "For example, x = 5; \n",
    "the expression must result in a value that is compatible with the type of the variable.\n",
    "In other words, it must be possible to cast the expression to the type of the variable."
   ]
  },
  {
   "cell_type": "code",
   "execution_count": null,
   "metadata": {},
   "outputs": [],
   "source": [
    "3. Why does a class need to manually call a superclass's init method?\n",
    "Ans:\n",
    "The main reason for always calling base class _init__ is that base class may typically create member variable and \n",
    "initialize them to defaults. So if we don't call base class init, none of that code would be executed and we would end up\n",
    "with base class that has no member variables."
   ]
  },
  {
   "cell_type": "code",
   "execution_count": 16,
   "metadata": {},
   "outputs": [
    {
     "name": "stdout",
     "output_type": "stream",
     "text": [
      "*******************************************************************************\n"
     ]
    },
    {
     "data": {
      "text/plain": [
       "<map at 0x18c305da2e0>"
      ]
     },
     "execution_count": 16,
     "metadata": {},
     "output_type": "execute_result"
    }
   ],
   "source": [
    "# 4. How can you augment, instead of completely replacing, an inherited method?\n",
    "\n",
    "class Spam:\n",
    "    def update(self):\n",
    "        print('updating spam!')\n",
    "\n",
    "class SpamLite(Spam):\n",
    "    def update(self):\n",
    "        print('this spam is lite!')\n",
    "        Spam.update(self)\n",
    "\n",
    "def poison(spam):\n",
    "    tmp = spam.update # it is a bound method that doesn't take any arguments\n",
    "    def newUpdate():\n",
    "        print ('this spam has been poisoned!')\n",
    "        tmp()\n",
    "    spam.update = newUpdate\n",
    "\n",
    "\n",
    "from operator import methodcaller    \n",
    "L = [Spam(), SpamLite()]\n",
    "map(methodcaller('update'), L)\n",
    "map(poison, L)\n",
    "print(\"*\"*79)\n",
    "map(methodcaller('update'), L)"
   ]
  },
  {
   "cell_type": "code",
   "execution_count": null,
   "metadata": {},
   "outputs": [],
   "source": [
    "5. How is the local scope of a class different from that of a function?\n",
    "Ans:\n",
    "A global variable is a variable that is accessible globally. A local variable is one that is only accessible to the current\n",
    "scope, such as temporary variables used in a single function definition."
   ]
  }
 ],
 "metadata": {
  "kernelspec": {
   "display_name": "Python 3",
   "language": "python",
   "name": "python3"
  },
  "language_info": {
   "codemirror_mode": {
    "name": "ipython",
    "version": 3
   },
   "file_extension": ".py",
   "mimetype": "text/x-python",
   "name": "python",
   "nbconvert_exporter": "python",
   "pygments_lexer": "ipython3",
   "version": "3.8.5"
  }
 },
 "nbformat": 4,
 "nbformat_minor": 4
}
