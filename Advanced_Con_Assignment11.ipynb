{
 "cells": [
  {
   "cell_type": "code",
   "execution_count": null,
   "metadata": {},
   "outputs": [],
   "source": [
    "Q1. What is the concept of a metaclass?\n",
    "Ans:\n",
    "A metaclass in Python is a class of a class that defines how a class behaves. A class is itself an instance of a metaclass. \n",
    "A class in Python defines how the instance of the class will behave"
   ]
  },
  {
   "cell_type": "code",
   "execution_count": null,
   "metadata": {},
   "outputs": [],
   "source": [
    "Q2. What is the best way to declare a class's metaclass?\n",
    "Ans:\n",
    "set __metaclass__ at the module level. This way, all classes of this module will be created using this metaclass, and we \n",
    "just have to tell the metaclass to turn all attributes to uppercase."
   ]
  },
  {
   "cell_type": "code",
   "execution_count": 6,
   "metadata": {},
   "outputs": [
    {
     "name": "stdout",
     "output_type": "stream",
     "text": [
      "3\n",
      "2\n"
     ]
    }
   ],
   "source": [
    "#Q3. How do class decorators overlap with metaclasses for handling classes?\n",
    "\n",
    "# script use class-decorator to replace/overwirte the method 'func1'\n",
    "def deco4cls(cls):\n",
    "    cls.func1 = lambda self: 2\n",
    "    return cls\n",
    "\n",
    "class Cls1:\n",
    "    pass\n",
    "\n",
    "class Cls1_1(Cls1):\n",
    "    def func1(self):\n",
    "        return 3\n",
    "\n",
    "obj1_1 = Cls1_1()\n",
    "print(obj1_1.func1())\n",
    "\n",
    "# script to replace/overwrite the method 'func1' with metaclass\n",
    "class Deco4cls(type):\n",
    "    def __init__(cls, name, bases, attr_dict):\n",
    "        # print(cls, name, bases, attr_dict)\n",
    "        super().__init__(name, bases, attr_dict)\n",
    "        cls.func1 = lambda self: 2\n",
    "\n",
    "\n",
    "class Cls2(metaclass=Deco4cls):\n",
    "    pass\n",
    "\n",
    "\n",
    "class Cls2_1(Cls2):\n",
    "    def func1(self):\n",
    "        return 3\n",
    "\n",
    "\n",
    "obj2_1 = Cls2_1()\n",
    "print(obj2_1.func1())\n"
   ]
  },
  {
   "cell_type": "code",
   "execution_count": 16,
   "metadata": {},
   "outputs": [],
   "source": [
    "# Q4. How do class decorators overlap with metaclasses for handling instances?\n",
    "\n",
    "from functools import wraps\n",
    "\n",
    "def trace_func(func):\n",
    "    if hasattr(func, 'tracing'):  # Only decorate once\n",
    "        return func\n",
    "\n",
    "    @wraps(func)\n",
    "    def wrapper(*args, **kwargs):\n",
    "        result = None\n",
    "        try:\n",
    "            result = func(*args, **kwargs)\n",
    "            return result\n",
    "        except Exception as e:\n",
    "            result = e\n",
    "            raise\n",
    "        finally:\n",
    "            print(f'{func.__name__}({args!r}, {kwargs!r})'\n",
    "                  f'{result!r}')\n",
    "\n",
    "    wrapper.tracing = True\n",
    "    return wrapper"
   ]
  },
  {
   "cell_type": "code",
   "execution_count": null,
   "metadata": {},
   "outputs": [],
   "source": []
  },
  {
   "cell_type": "code",
   "execution_count": null,
   "metadata": {},
   "outputs": [],
   "source": []
  },
  {
   "cell_type": "code",
   "execution_count": null,
   "metadata": {},
   "outputs": [],
   "source": []
  }
 ],
 "metadata": {
  "kernelspec": {
   "display_name": "Python 3",
   "language": "python",
   "name": "python3"
  },
  "language_info": {
   "codemirror_mode": {
    "name": "ipython",
    "version": 3
   },
   "file_extension": ".py",
   "mimetype": "text/x-python",
   "name": "python",
   "nbconvert_exporter": "python",
   "pygments_lexer": "ipython3",
   "version": "3.8.5"
  }
 },
 "nbformat": 4,
 "nbformat_minor": 4
}
