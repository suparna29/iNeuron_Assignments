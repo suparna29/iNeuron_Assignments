{
 "cells": [
  {
   "cell_type": "code",
   "execution_count": null,
   "metadata": {},
   "outputs": [],
   "source": [
    "Q1. Define the relationship between a class and its instances. Is it a one-to-one or a one-to-many partnership, for example?\n",
    "Ans:\n",
    "A class defines the structure and behaviors of all entities of a given type. An object is one particular \"instance\" of that \n",
    "type of entity. For example, if Dog is a class, then a particular dog named Lassie would be an object of type Dog.\n",
    "\n",
    "Class and Object is one-to-many partnership.\n",
    "For Example, if 'Nano Car' is a class, then it can have multiple instances such as its wheels, manufacturing date, \n",
    "Purchase date, Brand Name etc."
   ]
  },
  {
   "cell_type": "code",
   "execution_count": null,
   "metadata": {},
   "outputs": [],
   "source": [
    "Q2. What kind of data is held only in an instance?\n",
    "Ans:\n",
    "Instances hold the metadata/properties of the class."
   ]
  },
  {
   "cell_type": "code",
   "execution_count": null,
   "metadata": {},
   "outputs": [],
   "source": [
    "Q3. What kind of knowledge is stored in a class?\n",
    "Ans:\n",
    "Class is the structure and behavior of all entities of given type.                                                                                                                                                          "
   ]
  },
  {
   "cell_type": "code",
   "execution_count": null,
   "metadata": {},
   "outputs": [],
   "source": [
    "Q4. What exactly is a method, and how is it different from a regular function?\n",
    "Ans:\n",
    "In Python, a method is a function that is available for a given object because of the object's type. \n",
    "For example, if we create my_list = [1, 2, 3] , the append method can be applied to my_list because it's a Python list: \n",
    "my_list. append(4) . \n",
    "All lists have an append method simply because they are lists.\n",
    "\n",
    "Method Vs. Function :-\n",
    "\n",
    "Method is called by its name, but it is associated to an object (dependent).\n",
    "A method is implicitly passed the object on which it is invoked.\n",
    "It may or may not return any data.\n",
    "A method can operate on the data (instance variables) that is contained by the corresponding class\n",
    "\n",
    "Function is block of code that is also called by its name. (independent)\n",
    "The function can have different parameters or may not have any at all. If any data (parameters) are passed, they are passed\n",
    "explicitly.\n",
    "It may or may not return any data.\n",
    "Function does not deal with Class and its instance concept.\n"
   ]
  },
  {
   "cell_type": "code",
   "execution_count": 26,
   "metadata": {},
   "outputs": [
    {
     "name": "stdout",
     "output_type": "stream",
     "text": [
      "Printing my_method of SUPC class. \n"
     ]
    }
   ],
   "source": [
    "# Method example:\n",
    "\n",
    "class SUPC :\n",
    "    def my_method (self):\n",
    "        print(\"Printing my_method of SUPC class. \")\n",
    "  \n",
    "class_ref = SUPC() # object of ABC class\n",
    "class_ref.my_method()"
   ]
  },
  {
   "cell_type": "code",
   "execution_count": 31,
   "metadata": {},
   "outputs": [
    {
     "name": "stdout",
     "output_type": "stream",
     "text": [
      "22\n",
      "21\n"
     ]
    }
   ],
   "source": [
    "# Function example:\n",
    "\n",
    "def Addition (a, b):\n",
    "    return (a+b)\n",
    "  \n",
    "print(Addition(10, 12))   \n",
    "print(Addition(15, 6))"
   ]
  },
  {
   "cell_type": "code",
   "execution_count": null,
   "metadata": {},
   "outputs": [],
   "source": [
    "Q5. Is inheritance supported in Python, and if so, what is the syntax?\n",
    "Ans:\n",
    "Yes, inheritance is supported in Python.\n"
   ]
  },
  {
   "cell_type": "code",
   "execution_count": 37,
   "metadata": {},
   "outputs": [
    {
     "name": "stdout",
     "output_type": "stream",
     "text": [
      "Chandru\n",
      "5677890\n"
     ]
    }
   ],
   "source": [
    "# Inheritance\n",
    "\n",
    "class Person(object):\n",
    "    # __init__ is known as the constructor         \n",
    "    def __init__(self, name, idnumber):\n",
    "        self.name = name\n",
    "        self.idnumber = idnumber\n",
    "    def display(self):\n",
    "        print(self.name)\n",
    "        print(self.idnumber)\n",
    "  \n",
    "# child class\n",
    "class Employee( Person ):\n",
    "    def __init__(self, name, idnumber, salary, post):\n",
    "        self.salary = salary\n",
    "        self.post = post\n",
    "        # invoking the __init__ of the parent class \n",
    "        Person.__init__(self, name, idnumber) \n",
    "  \n",
    "                  \n",
    "# creation of an object variable or an instance\n",
    "a = Employee('Chandru', 5677890, 200000, \"Intern\")    \n",
    "  \n",
    "# calling a function of the class Person using its instance\n",
    "a.display() "
   ]
  },
  {
   "cell_type": "code",
   "execution_count": null,
   "metadata": {},
   "outputs": [],
   "source": [
    "Q6. How much encapsulation (making instance or class variables private) does Python support?\n",
    "Ans:\n",
    "Python does not have the private keyword, unlike some other object oriented languages, but encapsulation can be done. \n",
    "Instead, it relies on the convention: a class variable that should not directly be accessed should be prefixed with \n",
    "an underscore."
   ]
  },
  {
   "cell_type": "code",
   "execution_count": null,
   "metadata": {},
   "outputs": [],
   "source": [
    "Q7. How do you distinguish between a class variable and an instance variable?\n",
    "Ans:\n",
    "Instance Variable is a variable whose value is instance-specific and now shared among instances.\n",
    "Class Variable is a variable that defines a specific attribute or property for a class.\n"
   ]
  },
  {
   "cell_type": "code",
   "execution_count": null,
   "metadata": {},
   "outputs": [],
   "source": [
    "Q8. When, if ever, can self be included in a class's method definitions?\n",
    "Ans:\n",
    "The reason you need to use self. is because Python does not use the @ syntax to refer to instance attributes. \n",
    "Python decided to do methods in a way that makes the instance to which the method belongs be passed automatically, but not \n",
    "received automatically: the first parameter of methods is the instance the method is called on. That makes methods entirely\n",
    "the same as functions, and leaves the actual name to use up to us. self is not special to the code, it's just another \n",
    "object.\n"
   ]
  },
  {
   "cell_type": "code",
   "execution_count": null,
   "metadata": {},
   "outputs": [],
   "source": [
    "Q9. What is the difference between the _ add _ and the _ radd _ methods?\n",
    "Ans:\n",
    "\n"
   ]
  },
  {
   "cell_type": "code",
   "execution_count": 38,
   "metadata": {},
   "outputs": [
    {
     "ename": "NameError",
     "evalue": "name 'ds' is not defined",
     "output_type": "error",
     "traceback": [
      "\u001b[1;31m---------------------------------------------------------------------------\u001b[0m",
      "\u001b[1;31mNameError\u001b[0m                                 Traceback (most recent call last)",
      "\u001b[1;32m<ipython-input-38-ca31fac3be99>\u001b[0m in \u001b[0;36m<module>\u001b[1;34m\u001b[0m\n\u001b[0;32m      3\u001b[0m \u001b[0mstudent\u001b[0m \u001b[1;33m=\u001b[0m \u001b[1;33m{\u001b[0m\u001b[1;34m'unit test-1'\u001b[0m\u001b[1;33m:\u001b[0m\u001b[1;33m[\u001b[0m\u001b[1;36m5\u001b[0m\u001b[1;33m,\u001b[0m\u001b[1;36m6\u001b[0m\u001b[1;33m,\u001b[0m\u001b[1;36m8\u001b[0m\u001b[1;33m,\u001b[0m\u001b[1;36m3\u001b[0m\u001b[1;33m,\u001b[0m\u001b[1;36m10\u001b[0m\u001b[1;33m]\u001b[0m\u001b[1;33m,\u001b[0m\u001b[1;34m'unit Test-2'\u001b[0m\u001b[1;33m:\u001b[0m\u001b[1;33m[\u001b[0m\u001b[1;36m7\u001b[0m\u001b[1;33m,\u001b[0m\u001b[1;36m8\u001b[0m\u001b[1;33m,\u001b[0m\u001b[1;36m9\u001b[0m\u001b[1;33m,\u001b[0m\u001b[1;36m6\u001b[0m\u001b[1;33m,\u001b[0m\u001b[1;36m15\u001b[0m\u001b[1;33m]\u001b[0m\u001b[1;33m}\u001b[0m\u001b[1;33m\u001b[0m\u001b[1;33m\u001b[0m\u001b[0m\n\u001b[0;32m      4\u001b[0m \u001b[0mstudent1\u001b[0m \u001b[1;33m=\u001b[0m \u001b[1;33m{\u001b[0m\u001b[1;34m'unit test-1'\u001b[0m\u001b[1;33m:\u001b[0m\u001b[1;33m[\u001b[0m\u001b[1;36m3\u001b[0m\u001b[1;33m,\u001b[0m\u001b[1;36m3\u001b[0m\u001b[1;33m,\u001b[0m\u001b[1;36m6\u001b[0m\u001b[1;33m,\u001b[0m\u001b[1;36m6\u001b[0m\u001b[1;33m,\u001b[0m\u001b[1;36m8\u001b[0m\u001b[1;33m]\u001b[0m\u001b[1;33m,\u001b[0m\u001b[1;34m'unit Test-2'\u001b[0m\u001b[1;33m:\u001b[0m\u001b[1;33m[\u001b[0m\u001b[1;36m5\u001b[0m\u001b[1;33m,\u001b[0m\u001b[1;36m9\u001b[0m\u001b[1;33m,\u001b[0m\u001b[1;36m8\u001b[0m\u001b[1;33m,\u001b[0m\u001b[1;36m10\u001b[0m\u001b[1;33m,\u001b[0m\u001b[1;36m5\u001b[0m\u001b[1;33m]\u001b[0m\u001b[1;33m}\u001b[0m\u001b[1;33m\u001b[0m\u001b[1;33m\u001b[0m\u001b[0m\n\u001b[1;32m----> 5\u001b[1;33m \u001b[0mprint\u001b[0m\u001b[1;33m(\u001b[0m\u001b[0mds\u001b[0m\u001b[1;33m.\u001b[0m\u001b[0mradd\u001b[0m\u001b[1;33m(\u001b[0m\u001b[0mds1\u001b[0m\u001b[1;33m)\u001b[0m\u001b[1;33m)\u001b[0m\u001b[1;33m\u001b[0m\u001b[1;33m\u001b[0m\u001b[0m\n\u001b[0m\u001b[0;32m      6\u001b[0m \u001b[0mprint\u001b[0m\u001b[1;33m(\u001b[0m\u001b[0mds\u001b[0m\u001b[1;33m.\u001b[0m\u001b[0madd\u001b[0m\u001b[1;33m(\u001b[0m\u001b[0mds1\u001b[0m\u001b[1;33m)\u001b[0m\u001b[1;33m)\u001b[0m\u001b[1;33m\u001b[0m\u001b[1;33m\u001b[0m\u001b[0m\n",
      "\u001b[1;31mNameError\u001b[0m: name 'ds' is not defined"
     ]
    }
   ],
   "source": [
    "import pandas as pd\n",
    "\n",
    "student = {'unit test-1':[5,6,8,3,10],'unit Test-2':[7,8,9,6,15]}\n",
    "student1 = {'unit test-1':[3,3,6,6,8],'unit Test-2':[5,9,8,10,5]}\n",
    "print(ds.radd(ds1))\n",
    "print(ds.add(ds1))"
   ]
  },
  {
   "cell_type": "code",
   "execution_count": null,
   "metadata": {},
   "outputs": [],
   "source": [
    "Q10. When is it necessary to use a reflection method? When do you not need it, even though you support the operation in\n",
    "question?\n",
    "Ans:\n",
    "Suppose you are implementing a class that you want to act like a number via operator overloading. So you implement \n",
    "__add__ in your class, and now expressions like myobj + 4 can work as you want and yield some result. \n",
    "This is because myobj + 4 is interpreted as myobj.__add__(4), and your custom method can do whatever it means to add 4 to \n",
    "your custom class.\n",
    "\n",
    "However, what about an expression like 4 + myobj which is really (4).__add__(myobj)? The 4 is an instance of a Python \n",
    "built-in type and its __add__ method doesn't know anything about your new type, so it will return a special value \n",
    "NotImplemented. (The interpreter recognizes this special value coming from __add__ and raises a TypeError exception which\n",
    "kills your program, which is the behavior you'd actually see, rather than the special value being returned.)\n",
    "\n",
    "It won't work for operator overloading if myobj + 4 was valid but 4 + myobj was invalid. That's arbitrary and restrictive \n",
    "— addition is supposed to be commutative. Enter __radd__. Python will first try (4).__add__(myobj), and if that returns \n",
    "NotImplemented Python will check if the right-hand operand implements __radd__, and if it does, it will call \n",
    "myobj.__radd__(4) rather than raising a TypeError. And now everything can proceed as usual, as your class can handle the \n",
    "case and implement your behavior, rather than the built-in type's __add__ which is fixed and doesn't know about your class."
   ]
  },
  {
   "cell_type": "code",
   "execution_count": null,
   "metadata": {},
   "outputs": [],
   "source": [
    "Q11. What is the _ iadd _ method called?\n",
    "Ans:\n",
    "__iadd__ does sort that value its adding into the self.value."
   ]
  },
  {
   "cell_type": "code",
   "execution_count": 42,
   "metadata": {},
   "outputs": [
    {
     "name": "stdout",
     "output_type": "stream",
     "text": [
      "4hi\n",
      "<class 'int'>\n",
      "<class 'float'>\n",
      "9\n",
      "50\n"
     ]
    }
   ],
   "source": [
    "# Example:\n",
    "\n",
    "class NumString:\n",
    "\n",
    "  def __init__(self,value):\n",
    "    self.value = str(value)\n",
    "\n",
    "  def __str__(self):\n",
    "    return self.value\n",
    "\n",
    "  def __int__(self):\n",
    "    return int(self.value)\n",
    "\n",
    "  def __float__(self):\n",
    "    return float(self.value)\n",
    "\n",
    "  def __add__(self, other):\n",
    "    if('.' in self.value):\n",
    "      return float(self) + other\n",
    "    return int(self) + other\n",
    "\n",
    "  def __radd__(self, other):\n",
    "    return self + other \n",
    "\n",
    "  def __iadd__(self,other):\n",
    "    self.value = int(self.value) + 45 + other\n",
    "    return self.value\n",
    "\n",
    "\n",
    "\n",
    "four = NumString(4)\n",
    "print ( str(four) + \"hi\")\n",
    "print (type (int(four)))\n",
    "print(type (float(four)))\n",
    "two = 5 + four \n",
    "print(two)\n",
    "four += 1\n",
    "print(four) "
   ]
  },
  {
   "cell_type": "code",
   "execution_count": 43,
   "metadata": {},
   "outputs": [
    {
     "ename": "SyntaxError",
     "evalue": "Missing parentheses in call to 'print'. Did you mean print(self.n1)? (<ipython-input-43-2f38b32dd465>, line 9)",
     "output_type": "error",
     "traceback": [
      "\u001b[1;36m  File \u001b[1;32m\"<ipython-input-43-2f38b32dd465>\"\u001b[1;36m, line \u001b[1;32m9\u001b[0m\n\u001b[1;33m    print self.n1\u001b[0m\n\u001b[1;37m          ^\u001b[0m\n\u001b[1;31mSyntaxError\u001b[0m\u001b[1;31m:\u001b[0m Missing parentheses in call to 'print'. Did you mean print(self.n1)?\n"
     ]
    }
   ],
   "source": [
    "# Q12. Is the _ init _ method inherited by subclasses? What do you do if you need to customize its behavior within a subclass?\n",
    "    \n",
    "class Num:\n",
    "    def __init__(self,num):\n",
    "        self.n1 = num\n",
    "\n",
    "class Num2(Num):\n",
    "    def show(self):\n",
    "        print self.n1\n",
    "\n",
    "mynumber = Num2(8)\n",
    "mynumber.show()"
   ]
  },
  {
   "cell_type": "code",
   "execution_count": 46,
   "metadata": {},
   "outputs": [
    {
     "name": "stdout",
     "output_type": "stream",
     "text": [
      "Terry Fish\n",
      "bone\n",
      "False\n",
      "The fish is swimming.\n",
      "The fish can swim backwards.\n"
     ]
    }
   ],
   "source": [
    "class Fish:\n",
    "    def __init__(self, first_name, last_name=\"Fish\",\n",
    "                 skeleton=\"bone\", eyelids=False):\n",
    "        self.first_name = first_name\n",
    "        self.last_name = last_name\n",
    "        self.skeleton = skeleton\n",
    "        self.eyelids = eyelids\n",
    "\n",
    "    def swim(self):\n",
    "        print(\"The fish is swimming.\")\n",
    "\n",
    "    def swim_backwards(self):\n",
    "        print(\"The fish can swim backwards.\")\n",
    "        \n",
    "class Trout(Fish):\n",
    "    pass\n",
    "\n",
    "terry = Trout(\"Terry\")\n",
    "print(terry.first_name + \" \" + terry.last_name)\n",
    "print(terry.skeleton)\n",
    "print(terry.eyelids)\n",
    "terry.swim()\n",
    "terry.swim_backwards()"
   ]
  },
  {
   "cell_type": "code",
   "execution_count": null,
   "metadata": {},
   "outputs": [],
   "source": []
  },
  {
   "cell_type": "code",
   "execution_count": null,
   "metadata": {},
   "outputs": [],
   "source": []
  }
 ],
 "metadata": {
  "kernelspec": {
   "display_name": "Python 3",
   "language": "python",
   "name": "python3"
  },
  "language_info": {
   "codemirror_mode": {
    "name": "ipython",
    "version": 3
   },
   "file_extension": ".py",
   "mimetype": "text/x-python",
   "name": "python",
   "nbconvert_exporter": "python",
   "pygments_lexer": "ipython3",
   "version": "3.8.5"
  }
 },
 "nbformat": 4,
 "nbformat_minor": 4
}
