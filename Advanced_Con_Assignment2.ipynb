{
 "cells": [
  {
   "cell_type": "code",
   "execution_count": null,
   "metadata": {},
   "outputs": [],
   "source": [
    "Q1. What is the relationship between classes and modules?\n",
    "Ans:\n",
    "A module in python is simply a way to organize the code, and it contains either python classes or just functions. If you \n",
    "need those classes or functions in your project, you just import them. For instance, the math module in python contains \n",
    "just a bunch of functions, and you just call those needed math."
   ]
  },
  {
   "cell_type": "code",
   "execution_count": 1,
   "metadata": {},
   "outputs": [
    {
     "data": {
      "text/plain": [
       "567"
      ]
     },
     "execution_count": 1,
     "metadata": {},
     "output_type": "execute_result"
    }
   ],
   "source": [
    "# Q2. How do you make instances and classes?\n",
    "\n",
    "class car:\n",
    "    def __init__(self, milage, year, make, model):\n",
    "        self.milage = milage #self.milage is class variable\n",
    "        self.year = year\n",
    "        self.make = make\n",
    "        self.model = model\n",
    "nano1 = car(20,2020, 2345, \"f789jhsdlflgi\")\n",
    "audiq71 = car(10, 2020, 567, \"ugujiuo\")\n",
    "audiq71.make"
   ]
  },
  {
   "cell_type": "code",
   "execution_count": null,
   "metadata": {},
   "outputs": [],
   "source": [
    "Q3. Where and how should the class attributes created?\n",
    "Ans:\n",
    "Class attributes belong to the class itself they will be shared by all the instances. Such attributes are defined in the \n",
    "class body parts usually at the top, for legibility. Unlike class attributes, instance attributes are not shared by objects."
   ]
  },
  {
   "cell_type": "code",
   "execution_count": null,
   "metadata": {},
   "outputs": [],
   "source": [
    "Q4. Where and how are instance attributes created?\n",
    "Ans:\n",
    "An instance attribute is a Python variable belonging to only one object. It is only accessible in the scope of the object \n",
    "and it is defined inside the constructor function of a class. \n",
    "For example, __init__(self,..)."
   ]
  },
  {
   "cell_type": "code",
   "execution_count": null,
   "metadata": {},
   "outputs": [],
   "source": [
    "Q5. What does the term \"self\" in a Python class mean?\n",
    "Ans:\n",
    "self is not a keyword. it's a parameter. Pointer to the class itself."
   ]
  },
  {
   "cell_type": "code",
   "execution_count": null,
   "metadata": {},
   "outputs": [],
   "source": [
    "Q6. How does a Python class handle operator overloading?\n",
    "Ans:\n",
    "Python operators work for built-in classes.\n",
    "For example, the '+' operator will perform arithmetic addition on two numbers, merge two lists, or concatenate two strings. \n",
    "This feature in Python that allows the same operator to have different meaning according to the context is called operator \n",
    "overloading."
   ]
  },
  {
   "cell_type": "code",
   "execution_count": null,
   "metadata": {},
   "outputs": [],
   "source": [
    "Q7. When do you consider allowing operator overloading of your classes?\n",
    "Ans:\n",
    "Operator Overloading means giving extended meaning beyond their predefined operational meaning. For example operator + is\n",
    "used to add two integers as well as join two strings and merge two lists. It is achievable because '+' operator is \n",
    "overloaded by int class and str class.\n",
    "\n"
   ]
  },
  {
   "cell_type": "code",
   "execution_count": null,
   "metadata": {},
   "outputs": [],
   "source": [
    "Q8. What is the most popular form of operator overloading?\n",
    "Ans:\n",
    "A very popular and convenient example is the Addition (+) operator.\n",
    "'+' operator operates on two numbers and the same operator operates on two strings. It performs “Addition” on numbers \n",
    "whereas it performs “Concatenation” on strings."
   ]
  },
  {
   "cell_type": "code",
   "execution_count": null,
   "metadata": {},
   "outputs": [],
   "source": [
    "Q9. What are the two most important concepts to grasp in order to comprehend Python OOP code?\n",
    "Ans:\n",
    "There are four fundamental concepts of Object-oriented programming – Inheritance, Encapsulation, Polymorphism, and \n",
    "Data abstraction. \n",
    "All are very important to know in order to understand OOPs."
   ]
  },
  {
   "cell_type": "code",
   "execution_count": null,
   "metadata": {},
   "outputs": [],
   "source": []
  },
  {
   "cell_type": "code",
   "execution_count": null,
   "metadata": {},
   "outputs": [],
   "source": []
  },
  {
   "cell_type": "code",
   "execution_count": null,
   "metadata": {},
   "outputs": [],
   "source": []
  }
 ],
 "metadata": {
  "kernelspec": {
   "display_name": "Python 3",
   "language": "python",
   "name": "python3"
  },
  "language_info": {
   "codemirror_mode": {
    "name": "ipython",
    "version": 3
   },
   "file_extension": ".py",
   "mimetype": "text/x-python",
   "name": "python",
   "nbconvert_exporter": "python",
   "pygments_lexer": "ipython3",
   "version": "3.8.5"
  }
 },
 "nbformat": 4,
 "nbformat_minor": 4
}
