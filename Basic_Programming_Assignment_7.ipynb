{
  "nbformat": 4,
  "nbformat_minor": 0,
  "metadata": {
    "colab": {
      "name": "Basic_Programming_Assignment_7.ipynb",
      "provenance": []
    },
    "kernelspec": {
      "name": "python3",
      "display_name": "Python 3"
    },
    "language_info": {
      "name": "python"
    }
  },
  "cells": [
    {
      "cell_type": "code",
      "metadata": {
        "colab": {
          "base_uri": "https://localhost:8080/"
        },
        "id": "8LL1SPFSAKYH",
        "outputId": "791506a0-f39b-4e2f-d8af-5cbbfc5b180e"
      },
      "source": [
        "# 1. Write a Python Program to find sum of array?\n",
        "array = []\n",
        "array = [2,2,3,4]\n",
        "# sum() is an inbuilt function in python that adds all the elements in list,set,tuples and returns the value\n",
        "answer = sum(array)\n",
        "print(\"The sum of the array is :\", answer)\n"
      ],
      "execution_count": 3,
      "outputs": [
        {
          "output_type": "stream",
          "text": [
            "The sum of the array is : 11\n"
          ],
          "name": "stdout"
        }
      ]
    },
    {
      "cell_type": "code",
      "metadata": {
        "colab": {
          "base_uri": "https://localhost:8080/"
        },
        "id": "L1U4kh1SAKai",
        "outputId": "5301e2d0-9dfa-44f4-ab27-cf8c16cba0e5"
      },
      "source": [
        "# 2. Write a Python Program to find largest element in an array?\n",
        "arr =[]\n",
        "arr = [ 89, 23, 2, 45]\n",
        "ans = max(arr)\n",
        "print(\"The max element of the array is :\", ans)"
      ],
      "execution_count": 6,
      "outputs": [
        {
          "output_type": "stream",
          "text": [
            "The max element of the array is : 89\n"
          ],
          "name": "stdout"
        }
      ]
    },
    {
      "cell_type": "code",
      "metadata": {
        "colab": {
          "base_uri": "https://localhost:8080/"
        },
        "id": "laVDFl1RAKc0",
        "outputId": "c901fb89-1523-42b5-d667-51307b80c58c"
      },
      "source": [
        "# 3. Write a Python Program for array rotation?\n",
        "arr = [1,2,3,4,5]\n",
        "#n determine the number of times an array should be rotated\n",
        "n = 2\n",
        "print(\"Original array: \")\n",
        "for i in range(0, len(arr)):\n",
        "  print(arr[i], end = ' ')\n",
        "for i in range (0, n):\n",
        "  #Stores the first element of the array \n",
        "  first = arr[0]\n",
        "  for j in range (0, len(arr)-1):\n",
        "    #Shift element of array by one\n",
        "    arr[j] = arr[j+1]\n",
        "  #First element of array will be added to the end \n",
        "  arr[len(arr)-1] = first\n",
        "print()\n",
        "print(\"Array after left rotation: \")\n",
        "for i in range(0, len(arr)):\n",
        "  print(arr[i], end = \" \")\n",
        "\n",
        "\n"
      ],
      "execution_count": 12,
      "outputs": [
        {
          "output_type": "stream",
          "text": [
            "Original array: \n",
            "1 2 3 4 5 \n",
            "Array after left rotation: \n",
            "3 4 5 1 2 "
          ],
          "name": "stdout"
        }
      ]
    },
    {
      "cell_type": "code",
      "metadata": {
        "colab": {
          "base_uri": "https://localhost:8080/"
        },
        "id": "9RcrWxGdAKms",
        "outputId": "d0fcdb3e-8a01-40b7-910f-b7f93129a467"
      },
      "source": [
        "# 4. Write a Python Program to Split the array and add the first part to the end?\n",
        "def splitArr(arr, n, k): \n",
        "    for i in range(0, k): \n",
        "        x = arr[0]\n",
        "        for j in range(0, n-1):\n",
        "            arr[j] = arr[j + 1]         \n",
        "        arr[n-1] = x\n",
        "# main\n",
        "arr = [12, 10, 5, 6, 52, 36]\n",
        "n = len(arr)\n",
        "position = 2\n",
        "  \n",
        "splitArr(arr, n, position)\n",
        "  \n",
        "for i in range(0, n): \n",
        "    print(arr[i], end = ' ')\n"
      ],
      "execution_count": 11,
      "outputs": [
        {
          "output_type": "stream",
          "text": [
            "5 6 52 36 12 10 "
          ],
          "name": "stdout"
        }
      ]
    },
    {
      "cell_type": "code",
      "metadata": {
        "colab": {
          "base_uri": "https://localhost:8080/"
        },
        "id": "VbhjBRsAJziF",
        "outputId": "c4090a8c-f1f0-41fa-f346-64c90958b25b"
      },
      "source": [
        "# 5. Write a Python Program to check if given array is Monotonic?\n",
        "def isMonotonic(b):\n",
        "  return(all (b[i] <= b[i+1] for i in range (len(b)-1)) or\n",
        "         all (b[i] >= b[i-1] for i in range (len(b)-1)))\n",
        "b = [1,2,3,4,5,6,7,8]\n",
        "print(isMonotonic(b))"
      ],
      "execution_count": 17,
      "outputs": [
        {
          "output_type": "stream",
          "text": [
            "True\n"
          ],
          "name": "stdout"
        }
      ]
    }
  ]
}