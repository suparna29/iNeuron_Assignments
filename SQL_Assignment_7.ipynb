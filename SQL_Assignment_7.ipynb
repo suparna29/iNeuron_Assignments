{
 "cells": [
  {
   "cell_type": "code",
   "execution_count": 1,
   "metadata": {},
   "outputs": [
    {
     "name": "stdout",
     "output_type": "stream",
     "text": [
      "True\n"
     ]
    }
   ],
   "source": [
    "# Connect To DB Code:\n",
    "import mysql.connector as connection\n",
    "\n",
    "try:\n",
    "    mydb = connection.connect(host=\"localhost\", user=\"root\", passwd=\"Mohor@123\",use_pure=True)\n",
    "    # check if the connection is established\n",
    "    print(mydb.is_connected())\n",
    "    #mydb.close()\n",
    "except Exception as e:\n",
    "    print(str(e))"
   ]
  },
  {
   "cell_type": "code",
   "execution_count": 2,
   "metadata": {},
   "outputs": [
    {
     "data": {
      "text/plain": [
       "[(100, 'Amitabh', 'Finda', 'ABC', 'ami'),\n",
       " (1000, 'Sachin', 'Kumar', 'XYZ', 'aaa'),\n",
       " (1001, 'Tanhi', 'Kumari', 'ABC', 'bbb'),\n",
       " (1002, 'jfhg', 'jhfgg', 'ABC', 'ccc'),\n",
       " (1003, 'bfhjdk', 'jrhydgf', 'XYZ', 'ddd'),\n",
       " (1004, 'euegeg', 'fhhffg', 'XYZ', 'eee'),\n",
       " (1005, 'iruyugbf', 'iurrygf', 'XYZ', 'fff'),\n",
       " (1006, 'iuehrf', 'irufhf', 'ABC', 'ggg'),\n",
       " (2000, 'Vipul', 'sdfghj', 'ABC', 'aaa'),\n",
       " (2001, 'Satish', 'qwerty', 'XYZ', 'zzz'),\n",
       " (2003, 'Vipul', 'sdfghj', 'ABC', 'aaa'),\n",
       " (2004, 'Satish', 'qwerty', 'XYZ', 'zzz'),\n",
       " (10007, 'Amitabh', 'Finda', 'ABC', 'ami')]"
      ]
     },
     "execution_count": 2,
     "metadata": {},
     "output_type": "execute_result"
    }
   ],
   "source": [
    "mydb = connection.connect(host=\"localhost\", user=\"root\", passwd=\"Mohor@123\",use_pure=True)\n",
    "cursor= mydb.cursor()\n",
    "cursor.execute(\"SELECT * FROM iNeuron.Worker;\")\n",
    "cursor.fetchall()"
   ]
  },
  {
   "cell_type": "code",
   "execution_count": 3,
   "metadata": {},
   "outputs": [
    {
     "data": {
      "text/plain": [
       "[(1001, 'Tanhi', 'Kumari', 'ABC', 'bbb'),\n",
       " (1003, 'bfhjdk', 'jrhydgf', 'XYZ', 'ddd'),\n",
       " (1005, 'iruyugbf', 'iurrygf', 'XYZ', 'fff'),\n",
       " (2001, 'Satish', 'qwerty', 'XYZ', 'zzz'),\n",
       " (2003, 'Vipul', 'sdfghj', 'ABC', 'aaa'),\n",
       " (10007, 'Amitabh', 'Finda', 'ABC', 'ami')]"
      ]
     },
     "execution_count": 3,
     "metadata": {},
     "output_type": "execute_result"
    }
   ],
   "source": [
    "# Q-13. Write an SQL query to show only odd rows from a table.\n",
    "\n",
    "cursor.execute(\"Select * from iNeuron.Worker where (Worker_ID % 2) = 1;\")\n",
    "cursor.fetchall()"
   ]
  },
  {
   "cell_type": "code",
   "execution_count": 4,
   "metadata": {},
   "outputs": [
    {
     "name": "stdout",
     "output_type": "stream",
     "text": [
      "Clone Table Created!!\n"
     ]
    }
   ],
   "source": [
    "# Q-14. Write an SQL query to clone a new table from another table.\n",
    "cursor.execute(\"CREATE TABLE iNeuron.Workerclone LIKE iNeuron.Worker;\")\n",
    "print(\"Clone Table Created!!\")"
   ]
  },
  {
   "cell_type": "code",
   "execution_count": null,
   "metadata": {},
   "outputs": [],
   "source": []
  },
  {
   "cell_type": "code",
   "execution_count": null,
   "metadata": {},
   "outputs": [],
   "source": []
  },
  {
   "cell_type": "code",
   "execution_count": null,
   "metadata": {},
   "outputs": [],
   "source": []
  },
  {
   "cell_type": "code",
   "execution_count": null,
   "metadata": {},
   "outputs": [],
   "source": []
  }
 ],
 "metadata": {
  "kernelspec": {
   "display_name": "Python 3",
   "language": "python",
   "name": "python3"
  },
  "language_info": {
   "codemirror_mode": {
    "name": "ipython",
    "version": 3
   },
   "file_extension": ".py",
   "mimetype": "text/x-python",
   "name": "python",
   "nbconvert_exporter": "python",
   "pygments_lexer": "ipython3",
   "version": "3.8.5"
  }
 },
 "nbformat": 4,
 "nbformat_minor": 4
}
