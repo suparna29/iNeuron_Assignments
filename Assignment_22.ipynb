{
 "cells": [
  {
   "cell_type": "code",
   "execution_count": 15,
   "metadata": {},
   "outputs": [
    {
     "name": "stdout",
     "output_type": "stream",
     "text": [
      "iNeuron\n"
     ]
    }
   ],
   "source": [
    "# 1.What is the result of the code, and explain?\n",
    "# assignning value in X, create func(), call func() - OutPut: iNeuron\n",
    "X = 'iNeuron' \n",
    "def func(): \n",
    "    print(X)\n",
    "func()"
   ]
  },
  {
   "cell_type": "code",
   "execution_count": 17,
   "metadata": {},
   "outputs": [
    {
     "name": "stdout",
     "output_type": "stream",
     "text": [
      "iNeuron\n"
     ]
    }
   ],
   "source": [
    "# 2.What is the result of the code, and explain?\n",
    "# assigned value of X outside the function and asked to print it outside. OutPut: iNeuron\n",
    "X = 'iNeuron'\n",
    "def func(): \n",
    "    X = 'NI!'\n",
    "func()\n",
    "print(X)"
   ]
  },
  {
   "cell_type": "code",
   "execution_count": 7,
   "metadata": {},
   "outputs": [
    {
     "name": "stdout",
     "output_type": "stream",
     "text": [
      "NI\n",
      "iNeuron\n"
     ]
    }
   ],
   "source": [
    "# 3.What does this code print, and why?\n",
    "# assigned value of X outside the function\n",
    "X = 'iNeuron'\n",
    "def func(): \n",
    "# assigned value of X inside the function\n",
    "    X = 'NI'\n",
    "# Printing 'NI'\n",
    "    print(X)\n",
    "func()\n",
    "# Printing 'iNeuron'\n",
    "print(X)"
   ]
  },
  {
   "cell_type": "code",
   "execution_count": 8,
   "metadata": {},
   "outputs": [
    {
     "name": "stdout",
     "output_type": "stream",
     "text": [
      "NI\n"
     ]
    }
   ],
   "source": [
    "# 4.What output does this code produce? Why?\n",
    "# global veriable gets more precedence over local variable\n",
    "X = 'iNeuron'\n",
    "def func(): \n",
    "    global X \n",
    "    X = 'NI'\n",
    "func() \n",
    "print(X)"
   ]
  },
  {
   "cell_type": "code",
   "execution_count": 22,
   "metadata": {},
   "outputs": [
    {
     "data": {
      "text/plain": [
       "'iNeuron'"
      ]
     },
     "execution_count": 22,
     "metadata": {},
     "output_type": "execute_result"
    }
   ],
   "source": [
    "# 5.What about this code—what’s the output, and why?\n",
    "# the output is \"iNeuron\" because calling func() outside \n",
    "X = 'iNeuron'\n",
    "def func(): \n",
    "    X = 'NI' \n",
    "    def nested(): \n",
    "        print(X) \n",
    "        nested()\n",
    "func() \n",
    "X"
   ]
  },
  {
   "cell_type": "code",
   "execution_count": 27,
   "metadata": {},
   "outputs": [],
   "source": [
    "# 6.How about this code: what is its output in Python 3, and explain?\n",
    "def func(): \n",
    "    X = 'NI' \n",
    "    def nested(): \n",
    "        nonlocal X \n",
    "        X = 'Spam' \n",
    "        nested() \n",
    "        print(X)\n",
    "func()"
   ]
  },
  {
   "cell_type": "code",
   "execution_count": null,
   "metadata": {},
   "outputs": [],
   "source": []
  }
 ],
 "metadata": {
  "kernelspec": {
   "display_name": "Python 3",
   "language": "python",
   "name": "python3"
  },
  "language_info": {
   "codemirror_mode": {
    "name": "ipython",
    "version": 3
   },
   "file_extension": ".py",
   "mimetype": "text/x-python",
   "name": "python",
   "nbconvert_exporter": "python",
   "pygments_lexer": "ipython3",
   "version": "3.8.5"
  }
 },
 "nbformat": 4,
 "nbformat_minor": 4
}
