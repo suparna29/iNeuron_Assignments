{
 "cells": [
  {
   "cell_type": "code",
   "execution_count": 1,
   "metadata": {},
   "outputs": [],
   "source": [
    "# 1.Create a list called years_list, starting with the year of your birth, and each year \n",
    "# thereafter until the year of your fifth birthday. For example, if you were born in 1980. the \n",
    "# list would be years_list = [1980, 1981, 1982, 1983, 1984, 1985].\n",
    "\n",
    "year_list = [1992, 1993, 1994, 1995, 1996, 1997]\n"
   ]
  },
  {
   "cell_type": "code",
   "execution_count": 2,
   "metadata": {},
   "outputs": [
    {
     "data": {
      "text/plain": [
       "list"
      ]
     },
     "execution_count": 2,
     "metadata": {},
     "output_type": "execute_result"
    }
   ],
   "source": [
    "type(year_list)"
   ]
  },
  {
   "cell_type": "code",
   "execution_count": 3,
   "metadata": {},
   "outputs": [
    {
     "data": {
      "text/plain": [
       "1995"
      ]
     },
     "execution_count": 3,
     "metadata": {},
     "output_type": "execute_result"
    }
   ],
   "source": [
    "# 2. In which year in years_list was your third birthday? Remember, you were 0 years of age for\n",
    "# your first year.\n",
    "\n",
    "year_list[3]"
   ]
  },
  {
   "cell_type": "code",
   "execution_count": 5,
   "metadata": {},
   "outputs": [
    {
     "data": {
      "text/plain": [
       "1997"
      ]
     },
     "execution_count": 5,
     "metadata": {},
     "output_type": "execute_result"
    }
   ],
   "source": [
    "# 3.In the years list, which year were you the oldest?\n",
    "\n",
    "year_list[5]"
   ]
  },
  {
   "cell_type": "code",
   "execution_count": 6,
   "metadata": {},
   "outputs": [],
   "source": [
    "# 4. 4. Make a list called things with these three strings as elements: \"mozzarella\", \"cinderella\",\n",
    "# \"salmonella\"\n",
    "\n",
    "things = [\"mozzarella\", \"cinderella\", \"salmonella\"]"
   ]
  },
  {
   "cell_type": "code",
   "execution_count": 11,
   "metadata": {},
   "outputs": [
    {
     "name": "stdout",
     "output_type": "stream",
     "text": [
      "['MOZZARELLA', 'CINDERELLA', 'SALMONELLA']\n"
     ]
    }
   ],
   "source": [
    "# 5.Capitalize the element in things that refers to a person and then print the list. Did it \n",
    "# change the element in the list?\n",
    "\n",
    "things = [\"mozzarella\", \"cinderella\", \"salmonella\"]\n",
    "list = [x.upper() for x in things]\n",
    "print(list)"
   ]
  },
  {
   "cell_type": "code",
   "execution_count": 7,
   "metadata": {},
   "outputs": [
    {
     "name": "stdout",
     "output_type": "stream",
     "text": [
      "['Groucho', 'Chico', 'harpo']\n"
     ]
    }
   ],
   "source": [
    "# 6.Make a surprise list with the elements \"Groucho\", \"Chico\" and \"Harpo\"\n",
    "surprise = [\"Groucho\", \"Chico\", \"Harpo\"]\n",
    "surprise[2]\n",
    "if i in surprise[2]:\n",
    "    new = [surprise[0], surprise[1], surprise[2].lower()]\n",
    "    print(new) "
   ]
  },
  {
   "cell_type": "code",
   "execution_count": 33,
   "metadata": {},
   "outputs": [
    {
     "name": "stdout",
     "output_type": "stream",
     "text": [
      "['Groucho', 'Chico', 'harpo']\n",
      "['harpo', 'Chico', 'Groucho']\n",
      "['HARPO', 'CHICO', 'GROUCHO']\n"
     ]
    }
   ],
   "source": [
    "# 7.Lowercase the last element of the surprise list, reverse it, and then capitalize it.\n",
    "surprise = [\"Groucho\", \"Chico\", \"Harpo\"]\n",
    "new = [surprise[0], surprise[1], surprise[2].lower()]\n",
    "print(new) \n",
    "new1 = new[::-1]\n",
    "print(new1)\n",
    "list2 = [new1[0].upper(), new1[1].upper(), new1[2].upper()]\n",
    "print(list2)"
   ]
  },
  {
   "cell_type": "code",
   "execution_count": 37,
   "metadata": {},
   "outputs": [
    {
     "name": "stdout",
     "output_type": "stream",
     "text": [
      "{'word': ['dog is chien', 'cat is chat', 'walrus is morse']}\n"
     ]
    }
   ],
   "source": [
    "# 8.Make an English-to-French dictionary called e2f and print it. Here are your starter words: dog\n",
    "# is chien, cat is chat, and walrus is morse\n",
    "\n",
    "e2f = {'word':['dog is chien', 'cat is chat', 'walrus is morse']}\n",
    "print(e2f)"
   ]
  },
  {
   "cell_type": "code",
   "execution_count": 7,
   "metadata": {},
   "outputs": [
    {
     "name": "stdout",
     "output_type": "stream",
     "text": [
      "{'word1': 'dog is chien', 'word2': 'cat is chat', 'word3': 'walrus is morse'}\n"
     ]
    },
    {
     "data": {
      "text/plain": [
       "dict_items([('word1', 'dog is chien'), ('word2', 'cat is chat'), ('word3', 'walrus is morse')])"
      ]
     },
     "execution_count": 7,
     "metadata": {},
     "output_type": "execute_result"
    }
   ],
   "source": [
    "# 9.Write the French word for walrus in your three-word dictionary e2f.\n",
    "e2f = {'word1':'dog is chien', 'word2': 'cat is chat','word3': 'walrus is morse'}\n",
    "print(e2f)\n",
    "e2f.items()"
   ]
  },
  {
   "cell_type": "code",
   "execution_count": 17,
   "metadata": {},
   "outputs": [
    {
     "name": "stdout",
     "output_type": "stream",
     "text": [
      "e2f dictionary items are: \n",
      "dict_items([('words1', 'dog is chien'), ('words2', 'cat is chat'), ('words3', 'walrus is morse')])\n",
      "f2e dictionary items are: \n",
      "dict_items([('words1', 'chien is dog'), ('words2', 'chat is cat'), ('words3', 'morse is walrus')])\n"
     ]
    }
   ],
   "source": [
    "# 10.Make a French-to-English dictionary called f2e from e2f. Use the items method.\n",
    "\n",
    "e2f = {'words1':'dog is chien', 'words2': 'cat is chat','words3': 'walrus is morse'}\n",
    "print(\"e2f dictionary items are: \")\n",
    "items = e2f.items()\n",
    "print(items)\n",
    "\n",
    "e2f['words1'] = 'chien is dog'\n",
    "e2f['words2'] = 'chat is cat'\n",
    "e2f['words3'] = 'morse is walrus'\n",
    "print(\"f2e dictionary items are: \")\n",
    "f2e = e2f.items()\n",
    "print(f2e)"
   ]
  },
  {
   "cell_type": "code",
   "execution_count": 33,
   "metadata": {},
   "outputs": [
    {
     "name": "stdout",
     "output_type": "stream",
     "text": [
      " dog\n"
     ]
    }
   ],
   "source": [
    "# 11. Print the English version of the French word chien using f2e.\n",
    "f2e = {'words1':'chien is dog', 'words2': 'chat is cat','words3': 'morse is walrus'}\n",
    "k = f2e['words1']\n",
    "print(k[8:12])\n"
   ]
  },
  {
   "cell_type": "code",
   "execution_count": 40,
   "metadata": {},
   "outputs": [
    {
     "name": "stdout",
     "output_type": "stream",
     "text": [
      "dog cat walrus\n"
     ]
    }
   ],
   "source": [
    "# 12.Make and print a set of English words from the keys in e2f.\n",
    "e2f = {'words1':'dog is chien', 'words2': 'cat is chat','words3': 'walrus is morse'}\n",
    "#print(e2f)\n",
    "a = (e2f['words1'])\n",
    "b = (e2f['words2'])\n",
    "c = (e2f['words3'])\n",
    "print(a[0:3], b[0:3], c[0:6])"
   ]
  },
  {
   "cell_type": "code",
   "execution_count": 42,
   "metadata": {},
   "outputs": [
    {
     "name": "stdout",
     "output_type": "stream",
     "text": [
      "{'animals': {'cats': ['Henri', 'Grumpy', 'Lucy'], 'octopi': '', 'emus': ''}, 'plants': {}, 'others': {}}\n"
     ]
    }
   ],
   "source": [
    "# 13. Make a multilevel dictionary called life. Use these strings for the topmost keys: 'animals',\n",
    "# 'plants', and 'other'. Make the 'animals' key refer to another dictionary with the keys 'cats',\n",
    "# 'octopi', and 'emus'. Make the 'cats' key refer to a list of strings with the values 'Henri', \n",
    "# 'Grumpy', and 'Lucy'. Make all the other keys refer to empty dictionaries.\n",
    "\n",
    "animals1 = {'cats':['Henri', 'Grumpy', 'Lucy'], 'octopi': '', 'emus':'' }\n",
    "plants1 = {}\n",
    "others1 = {}\n",
    "life = {'animals':animals1, 'plants':plants1, 'others':others1}\n",
    "print(life)"
   ]
  },
  {
   "cell_type": "code",
   "execution_count": 43,
   "metadata": {},
   "outputs": [
    {
     "data": {
      "text/plain": [
       "dict_keys(['animals', 'plants', 'others'])"
      ]
     },
     "execution_count": 43,
     "metadata": {},
     "output_type": "execute_result"
    }
   ],
   "source": [
    "# 14. Print the top-level keys of life.\n",
    "life.keys()"
   ]
  },
  {
   "cell_type": "code",
   "execution_count": 52,
   "metadata": {},
   "outputs": [
    {
     "name": "stdout",
     "output_type": "stream",
     "text": [
      "dict_keys(['cats', 'octopi', 'emus'])\n"
     ]
    }
   ],
   "source": [
    "# 15. Print the keys for life[\"animals\"].\n",
    "print(life[\"animals\"].keys())"
   ]
  },
  {
   "cell_type": "code",
   "execution_count": 47,
   "metadata": {},
   "outputs": [
    {
     "name": "stdout",
     "output_type": "stream",
     "text": [
      "['Henri', 'Grumpy', 'Lucy']\n"
     ]
    }
   ],
   "source": [
    "# 16.Print the values for life[\"animals\"][\"cats\"]\n",
    "print(life[\"animals\"][\"cats\"])"
   ]
  }
 ],
 "metadata": {
  "kernelspec": {
   "display_name": "Python 3",
   "language": "python",
   "name": "python3"
  },
  "language_info": {
   "codemirror_mode": {
    "name": "ipython",
    "version": 3
   },
   "file_extension": ".py",
   "mimetype": "text/x-python",
   "name": "python",
   "nbconvert_exporter": "python",
   "pygments_lexer": "ipython3",
   "version": "3.8.5"
  }
 },
 "nbformat": 4,
 "nbformat_minor": 4
}
