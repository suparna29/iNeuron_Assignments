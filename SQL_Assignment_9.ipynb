{
 "cells": [
  {
   "cell_type": "code",
   "execution_count": 1,
   "metadata": {},
   "outputs": [
    {
     "data": {
      "text/plain": [
       "[(1000, 'Sachin', 'ujuuu', 'XYZ', '540000'),\n",
       " (1001, 'Tanhi', 'Ktyuiu', 'ABC', '5403450'),\n",
       " (1002, 'jfhg', 'jhfgg', 'ABC', '540456000'),\n",
       " (1003, 'bfhjdk', 'jrhydgf', 'XYZ', '345540000'),\n",
       " (1004, 'euegeg', 'fhhffg', 'XYZ', '78540000'),\n",
       " (1005, 'iruyugbf', 'iurrygf', 'XYZ', '546780000'),\n",
       " (1006, 'iuehrf', 'irufhf', 'ABC', '9876540000'),\n",
       " (1009, 'iuuuuehrf', 'irufhf', 'ABC', '9876540000')]"
      ]
     },
     "execution_count": 1,
     "metadata": {},
     "output_type": "execute_result"
    }
   ],
   "source": [
    "import mysql.connector as connection\n",
    "mydb = connection.connect(host=\"localhost\", user=\"root\", passwd=\"Mohor@123\",use_pure=True)\n",
    "cursor= mydb.cursor()\n",
    "cursor.execute(\"SELECT * FROM iNeuron.emp;\")\n",
    "cursor.fetchall()"
   ]
  },
  {
   "cell_type": "code",
   "execution_count": 2,
   "metadata": {},
   "outputs": [
    {
     "name": "stdout",
     "output_type": "stream",
     "text": [
      "DATA Inserted!!\n"
     ]
    }
   ],
   "source": [
    "cursor.execute(\"INSERT INTO iNeuron.emp VALUES ('1007','bfyuiohjdk','jrhykjhdgf','XYZ',9945540000)\")\n",
    "cursor.execute(\"INSERT INTO iNeuron.emp VALUES ('1008','euewedsgeg','fhhdfffg','XYZ',193440000)\")\n",
    "cursor.execute(\"INSERT INTO iNeuron.emp VALUES ('10010','irurqqwyugbf','iutrrygf','XYZ',996326780000)\")\n",
    "cursor.execute(\"INSERT INTO iNeuron.emp VALUES ('10011','iuertyuhrf','iruftyhdhf','ABC',987654055500)\")\n",
    "mydb.commit()\n",
    "print(\"DATA Inserted!!\")"
   ]
  },
  {
   "cell_type": "code",
   "execution_count": 3,
   "metadata": {},
   "outputs": [
    {
     "data": {
      "text/plain": [
       "[(1000, 'Sachin', 'ujuuu', 'XYZ', '540000'),\n",
       " (1001, 'Tanhi', 'Ktyuiu', 'ABC', '5403450'),\n",
       " (1002, 'jfhg', 'jhfgg', 'ABC', '540456000'),\n",
       " (1003, 'bfhjdk', 'jrhydgf', 'XYZ', '345540000'),\n",
       " (1004, 'euegeg', 'fhhffg', 'XYZ', '78540000'),\n",
       " (1005, 'iruyugbf', 'iurrygf', 'XYZ', '546780000'),\n",
       " (1006, 'iuehrf', 'irufhf', 'ABC', '9876540000'),\n",
       " (1007, 'bfyuiohjdk', 'jrhykjhdgf', 'XYZ', '9945540000'),\n",
       " (1008, 'euewedsgeg', 'fhhdfffg', 'XYZ', '193440000'),\n",
       " (1009, 'iuuuuehrf', 'irufhf', 'ABC', '9876540000'),\n",
       " (10010, 'irurqqwyugbf', 'iutrrygf', 'XYZ', '996326780000'),\n",
       " (10011, 'iuertyuhrf', 'iruftyhdhf', 'ABC', '987654055500')]"
      ]
     },
     "execution_count": 3,
     "metadata": {},
     "output_type": "execute_result"
    }
   ],
   "source": [
    "cursor.execute(\"SELECT * FROM iNeuron.emp;\")\n",
    "cursor.fetchall()"
   ]
  },
  {
   "cell_type": "code",
   "execution_count": 7,
   "metadata": {},
   "outputs": [
    {
     "data": {
      "text/plain": [
       "[('540000',),\n",
       " ('5403450',),\n",
       " ('540456000',),\n",
       " ('345540000',),\n",
       " ('78540000',),\n",
       " ('546780000',),\n",
       " ('9876540000',),\n",
       " ('9945540000',),\n",
       " ('193440000',),\n",
       " ('9876540000',)]"
      ]
     },
     "execution_count": 7,
     "metadata": {},
     "output_type": "execute_result"
    }
   ],
   "source": [
    "# Q-17. Write an SQL query to show the top n (say 10) records of a table.\n",
    "\n",
    "cursor.execute(\"SELECT emp_sal FROM iNeuron.emp LIMIT 10;\")\n",
    "cursor.fetchall()"
   ]
  },
  {
   "cell_type": "code",
   "execution_count": 8,
   "metadata": {},
   "outputs": [
    {
     "data": {
      "text/plain": [
       "[(1004, 'euegeg', 'fhhffg', 'XYZ', '78540000')]"
      ]
     },
     "execution_count": 8,
     "metadata": {},
     "output_type": "execute_result"
    }
   ],
   "source": [
    "# Q-18. Write an SQL query to determine the nth (say n=5) highest salary from a table.\n",
    "\n",
    "cursor.execute(\"SELECT * FROM iNeuron.emp Emp1 WHERE (5)=(SELECT COUNT(DISTINCT(Emp2.emp_sal))FROM iNeuron.emp Emp2 WHERE Emp2.emp_sal >= Emp1.emp_sal)\")\n",
    "cursor.fetchall()"
   ]
  }
 ],
 "metadata": {
  "kernelspec": {
   "display_name": "Python 3",
   "language": "python",
   "name": "python3"
  },
  "language_info": {
   "codemirror_mode": {
    "name": "ipython",
    "version": 3
   },
   "file_extension": ".py",
   "mimetype": "text/x-python",
   "name": "python",
   "nbconvert_exporter": "python",
   "pygments_lexer": "ipython3",
   "version": "3.8.5"
  }
 },
 "nbformat": 4,
 "nbformat_minor": 4
}
