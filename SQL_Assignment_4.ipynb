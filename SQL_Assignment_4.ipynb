{
 "cells": [
  {
   "cell_type": "code",
   "execution_count": 7,
   "metadata": {},
   "outputs": [
    {
     "name": "stdout",
     "output_type": "stream",
     "text": [
      "True\n"
     ]
    },
    {
     "data": {
      "text/plain": [
       "[(100, 'Amitabh', 'Finda', 'ABC', 'ami'),\n",
       " (1000, 'Sachin', 'Kumar', 'XYZ', 'aaa'),\n",
       " (1001, 'Tanhi', 'Kumari', 'ABC', 'bbb'),\n",
       " (1002, 'jfhg', 'jhfgg', 'ABC', 'ccc'),\n",
       " (1003, 'bfhjdk', 'jrhydgf', 'XYZ', 'ddd'),\n",
       " (1004, 'euegeg', 'fhhffg', 'XYZ', 'eee'),\n",
       " (1005, 'iruyugbf', 'iurrygf', 'XYZ', 'fff'),\n",
       " (1006, 'iuehrf', 'irufhf', 'ABC', 'ggg'),\n",
       " (10007, 'Amitabh', 'Finda', 'ABC', 'ami')]"
      ]
     },
     "execution_count": 7,
     "metadata": {},
     "output_type": "execute_result"
    }
   ],
   "source": [
    "# establish connection\n",
    "import mysql.connector as connection\n",
    "mydb = connection.connect(host=\"localhost\", user=\"root\", passwd=\"Mohor@123\",use_pure=True)\n",
    "# check if the connection is established\n",
    "print(mydb.is_connected())\n",
    "\n",
    "# fetch data\n",
    "cursor = mydb.cursor()\n",
    "cursor.execute(\"select * from iNeuron.Worker\")\n",
    "cursor.fetchall()"
   ]
  },
  {
   "cell_type": "code",
   "execution_count": 11,
   "metadata": {},
   "outputs": [
    {
     "data": {
      "text/plain": [
       "[('AmitAbh',),\n",
       " ('SAchin',),\n",
       " ('TAnhi',),\n",
       " ('jfhg',),\n",
       " ('bfhjdk',),\n",
       " ('euegeg',),\n",
       " ('iruyugbf',),\n",
       " ('iuehrf',),\n",
       " ('AmitAbh',)]"
      ]
     },
     "execution_count": 11,
     "metadata": {},
     "output_type": "execute_result"
    }
   ],
   "source": [
    "# Q-1. Write an SQL query to print the FIRST_NAME from Worker table after replacing ‘a’ with ‘A’.\n",
    "cursor.execute(\"SELECT REPLACE(first_name,'a', 'A') FROM iNeuron.worker;\")\n",
    "cursor.fetchall()"
   ]
  },
  {
   "cell_type": "code",
   "execution_count": 14,
   "metadata": {},
   "outputs": [
    {
     "data": {
      "text/plain": [
       "[(100, 'Amitabh', 'Finda', 'ABC', 'ami'),\n",
       " (10007, 'Amitabh', 'Finda', 'ABC', 'ami'),\n",
       " (1003, 'bfhjdk', 'jrhydgf', 'XYZ', 'ddd'),\n",
       " (1004, 'euegeg', 'fhhffg', 'XYZ', 'eee'),\n",
       " (1005, 'iruyugbf', 'iurrygf', 'XYZ', 'fff'),\n",
       " (1006, 'iuehrf', 'irufhf', 'ABC', 'ggg'),\n",
       " (1002, 'jfhg', 'jhfgg', 'ABC', 'ccc'),\n",
       " (1000, 'Sachin', 'Kumar', 'XYZ', 'aaa'),\n",
       " (1001, 'Tanhi', 'Kumari', 'ABC', 'bbb')]"
      ]
     },
     "execution_count": 14,
     "metadata": {},
     "output_type": "execute_result"
    }
   ],
   "source": [
    "# Q-2. Write an SQL query to print all Worker details from the Worker table order by FIRST_NAME Ascending and DEPARTMENT Descending\n",
    "cursor.execute(\"SELECT * FROM iNeuron.worker ORDER BY first_name ASC, department DESC;\")\n",
    "cursor.fetchall()\n"
   ]
  },
  {
   "cell_type": "code",
   "execution_count": 15,
   "metadata": {},
   "outputs": [
    {
     "data": {
      "text/plain": [
       "[(1000, 'Sachin', 'ujuuu', 'XYZ', '540000'),\n",
       " (1001, 'Tanhi', 'Ktyuiu', 'ABC', '5403450'),\n",
       " (1002, 'jfhg', 'jhfgg', 'ABC', '540456000'),\n",
       " (1003, 'bfhjdk', 'jrhydgf', 'XYZ', '345540000'),\n",
       " (1004, 'euegeg', 'fhhffg', 'XYZ', '78540000'),\n",
       " (1005, 'iruyugbf', 'iurrygf', 'XYZ', '546780000'),\n",
       " (1006, 'iuehrf', 'irufhf', 'ABC', '9876540000')]"
      ]
     },
     "execution_count": 15,
     "metadata": {},
     "output_type": "execute_result"
    }
   ],
   "source": [
    "cursor.execute(\"SELECT * FROM iNeuron.emp;\")\n",
    "cursor.fetchall()"
   ]
  },
  {
   "cell_type": "code",
   "execution_count": 22,
   "metadata": {},
   "outputs": [
    {
     "name": "stdout",
     "output_type": "stream",
     "text": [
      "DATA Inserted!!\n"
     ]
    }
   ],
   "source": [
    "cursor.execute(\"INSERT INTO iNeuron.emp VALUES ('1009','iuuuuehrf','irufhf','ABC',9876540000)\")\n",
    "mydb.commit()\n",
    "print(\"DATA Inserted!!\")"
   ]
  },
  {
   "cell_type": "code",
   "execution_count": 23,
   "metadata": {},
   "outputs": [
    {
     "data": {
      "text/plain": [
       "[('iuehrf', '9876540000'), ('iuuuuehrf', '9876540000')]"
      ]
     },
     "execution_count": 23,
     "metadata": {},
     "output_type": "execute_result"
    }
   ],
   "source": [
    "# Q-3. Write an SQL query to fetch the names of workers who earn the highest salary.\n",
    "cursor.execute(\"SELECT emp_name, emp_sal FROM iNeuron.emp WHERE emp_sal = (SELECT Max(emp_sal) FROM iNeuron.emp);\")\n",
    "cursor.fetchall()\n"
   ]
  },
  {
   "cell_type": "code",
   "execution_count": null,
   "metadata": {},
   "outputs": [],
   "source": []
  },
  {
   "cell_type": "code",
   "execution_count": null,
   "metadata": {},
   "outputs": [],
   "source": []
  },
  {
   "cell_type": "code",
   "execution_count": null,
   "metadata": {},
   "outputs": [],
   "source": []
  }
 ],
 "metadata": {
  "kernelspec": {
   "display_name": "Python 3",
   "language": "python",
   "name": "python3"
  },
  "language_info": {
   "codemirror_mode": {
    "name": "ipython",
    "version": 3
   },
   "file_extension": ".py",
   "mimetype": "text/x-python",
   "name": "python",
   "nbconvert_exporter": "python",
   "pygments_lexer": "ipython3",
   "version": "3.8.5"
  }
 },
 "nbformat": 4,
 "nbformat_minor": 4
}
