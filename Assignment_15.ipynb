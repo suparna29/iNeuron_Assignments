{
 "cells": [
  {
   "cell_type": "code",
   "execution_count": 1,
   "metadata": {},
   "outputs": [
    {
     "data": {
      "text/plain": [
       "3600"
      ]
     },
     "execution_count": 1,
     "metadata": {},
     "output_type": "execute_result"
    }
   ],
   "source": [
    "# 1.How many seconds are in an hour? Use the interactive interpreter as a calculator and multiply \n",
    "# the number of seconds in a minute (60) by the number of minutes in an hour (also 60).\n",
    "# sol. 60\n",
    "\n",
    "60*60"
   ]
  },
  {
   "cell_type": "code",
   "execution_count": 2,
   "metadata": {},
   "outputs": [
    {
     "data": {
      "text/plain": [
       "3600"
      ]
     },
     "execution_count": 2,
     "metadata": {},
     "output_type": "execute_result"
    }
   ],
   "source": [
    "# 2.Assign the result from the previous task (seconds in an hour) to a variable called\n",
    "# seconds_per_hour.\n",
    "seconds_per_hour = 60*60\n",
    "seconds_per_hour"
   ]
  },
  {
   "cell_type": "code",
   "execution_count": 4,
   "metadata": {},
   "outputs": [
    {
     "data": {
      "text/plain": [
       "86400"
      ]
     },
     "execution_count": 4,
     "metadata": {},
     "output_type": "execute_result"
    }
   ],
   "source": [
    "#3. How many seconds do you think there are in a day? Make use of the variables seconds per hour\n",
    "#and minutes per hour.\n",
    "\n",
    "minute_per_hour = 60\n",
    "seconds_per_day = seconds_per_hour * 24\n",
    "\n",
    "seconds_per_day"
   ]
  },
  {
   "cell_type": "code",
   "execution_count": 5,
   "metadata": {},
   "outputs": [
    {
     "data": {
      "text/plain": [
       "86400"
      ]
     },
     "execution_count": 5,
     "metadata": {},
     "output_type": "execute_result"
    }
   ],
   "source": [
    "# 4. Calculate seconds per day again, but this time save the result in a variable called seconds_per_day\n",
    "\n",
    "seconds_per_day = 3600 * 24\n",
    "seconds_per_day"
   ]
  },
  {
   "cell_type": "code",
   "execution_count": 9,
   "metadata": {},
   "outputs": [
    {
     "data": {
      "text/plain": [
       "24.0"
      ]
     },
     "execution_count": 9,
     "metadata": {},
     "output_type": "execute_result"
    }
   ],
   "source": [
    "#5. Divide seconds_per_day by seconds_per_hour. Use floating-point (/) division.\n",
    "\n",
    "div = seconds_per_day / seconds_per_hour\n",
    "div"
   ]
  },
  {
   "cell_type": "code",
   "execution_count": 11,
   "metadata": {},
   "outputs": [
    {
     "data": {
      "text/plain": [
       "24"
      ]
     },
     "execution_count": 11,
     "metadata": {},
     "output_type": "execute_result"
    }
   ],
   "source": [
    "# 6.Divide seconds_per_day by seconds_per_hour, using integer (//) division. Did this number agree\n",
    "# with the floating-point value from the previous question, aside from the final .0?\n",
    "\n",
    "divi = seconds_per_day // seconds_per_hour\n",
    "divi"
   ]
  },
  {
   "cell_type": "code",
   "execution_count": 23,
   "metadata": {},
   "outputs": [],
   "source": [
    "# 7.Write a generator, genPrimes, that returns the sequence of prime numbers on successive calls to\n",
    "# its next() method: 2, 3, 5, 7, 11, ...\n",
    "\n",
    "def genPrimes():\n",
    "    primes = [2]\n",
    "    while True:\n",
    "        next = primes[-1]\n",
    "        yield next\n",
    "        nextPrime = primes[-1] + 1\n",
    "        count = 0\n",
    "        answer = False\n",
    "        while not answer:\n",
    "            for item in primes:\n",
    "                if nextPrime % item != 0:\n",
    "                    count += 1\n",
    "            if count == len(primes):\n",
    "                primes.append(nextPrime)\n",
    "                answer = True\n",
    "            else:\n",
    "                nextPrime += 1\n",
    "                count = 0"
   ]
  }
 ],
 "metadata": {
  "kernelspec": {
   "display_name": "Python 3",
   "language": "python",
   "name": "python3"
  },
  "language_info": {
   "codemirror_mode": {
    "name": "ipython",
    "version": 3
   },
   "file_extension": ".py",
   "mimetype": "text/x-python",
   "name": "python",
   "nbconvert_exporter": "python",
   "pygments_lexer": "ipython3",
   "version": "3.8.5"
  }
 },
 "nbformat": 4,
 "nbformat_minor": 4
}
