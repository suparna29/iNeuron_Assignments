{
 "cells": [
  {
   "cell_type": "code",
   "execution_count": null,
   "metadata": {},
   "outputs": [],
   "source": [
    "Q1. Does assigning a value to a string's indexed character violate Python's string immutability?\n",
    "Ans:\n",
    "Yes it does. \n",
    "It will through a TypeError because 'str' object does not support item assignment."
   ]
  },
  {
   "cell_type": "code",
   "execution_count": 43,
   "metadata": {},
   "outputs": [
    {
     "data": {
      "text/plain": [
       "'a'"
      ]
     },
     "execution_count": 43,
     "metadata": {},
     "output_type": "execute_result"
    }
   ],
   "source": [
    "a = \"abcde\"\n",
    "a[0]"
   ]
  },
  {
   "cell_type": "code",
   "execution_count": 42,
   "metadata": {},
   "outputs": [
    {
     "ename": "TypeError",
     "evalue": "'str' object does not support item assignment",
     "output_type": "error",
     "traceback": [
      "\u001b[1;31m---------------------------------------------------------------------------\u001b[0m",
      "\u001b[1;31mTypeError\u001b[0m                                 Traceback (most recent call last)",
      "\u001b[1;32m<ipython-input-42-38c88d4eea72>\u001b[0m in \u001b[0;36m<module>\u001b[1;34m\u001b[0m\n\u001b[1;32m----> 1\u001b[1;33m \u001b[0ma\u001b[0m\u001b[1;33m[\u001b[0m\u001b[1;36m0\u001b[0m\u001b[1;33m]\u001b[0m \u001b[1;33m=\u001b[0m \u001b[1;34m'r'\u001b[0m\u001b[1;33m\u001b[0m\u001b[1;33m\u001b[0m\u001b[0m\n\u001b[0m",
      "\u001b[1;31mTypeError\u001b[0m: 'str' object does not support item assignment"
     ]
    }
   ],
   "source": [
    "a[0] = 'r'"
   ]
  },
  {
   "cell_type": "code",
   "execution_count": 40,
   "metadata": {},
   "outputs": [
    {
     "data": {
      "text/plain": [
       "'Ajit Sharma'"
      ]
     },
     "execution_count": 40,
     "metadata": {},
     "output_type": "execute_result"
    }
   ],
   "source": [
    "# Q2. Does using the += operator to concatenate strings violate Python's string immutability? Why or why not?\n",
    "\n",
    "b = 'Ajit'\n",
    "c = ' Sharma'\n",
    "b += c\n",
    "b"
   ]
  },
  {
   "cell_type": "code",
   "execution_count": 35,
   "metadata": {},
   "outputs": [],
   "source": [
    "Q3. In Python, how many different ways are there to index a character?\n",
    "Ans:\n",
    "We can access characters in a String in Two ways -\n",
    "Accessing Characters by Positive Index Number, \n",
    "Accessing Characters by Negative Index Number"
   ]
  },
  {
   "cell_type": "code",
   "execution_count": null,
   "metadata": {},
   "outputs": [],
   "source": [
    "Q4. What is the relationship between indexing and slicing?\n",
    "Ans:\n",
    "Indexing means referring to an element of an iterable by its position within the iterable. \n",
    "Slicing means getting a subset of elements from an iterable based on their indices."
   ]
  },
  {
   "cell_type": "code",
   "execution_count": 50,
   "metadata": {},
   "outputs": [
    {
     "name": "stdout",
     "output_type": "stream",
     "text": [
      "t\n",
      "<class 'str'>\n",
      "bstring \n",
      "<class 'str'>\n"
     ]
    }
   ],
   "source": [
    "#Q5. What is an indexed character's exact data type? What is the data form of a slicing-generated substring?\n",
    "\n",
    "d = \"Character\"\n",
    "print(d[6])\n",
    "print(type(d[6]))\n",
    "\n",
    "s = 'substring in python.'\n",
    "print(s[2:10])\n",
    "print(type(s[2:10]))"
   ]
  },
  {
   "cell_type": "code",
   "execution_count": null,
   "metadata": {},
   "outputs": [],
   "source": [
    "Q6. What is the relationship between string and character \"types\" in Python?\n",
    "Ans:\n",
    "In Python, Strings are arrays of bytes representing Unicode characters. However, Python does not have a character datatype,\n",
    "a single character is simply a string with a length of 1. Square brackets can be used to access elements of the string"
   ]
  },
  {
   "cell_type": "code",
   "execution_count": 62,
   "metadata": {},
   "outputs": [
    {
     "name": "stdout",
     "output_type": "stream",
     "text": [
      "Python is cool\n",
      "PythonPythonPython\n",
      "Python-is-cool\n"
     ]
    }
   ],
   "source": [
    "#Q7. Identify at least two operators and one method that allow you to combine one or more smaller strings to create a larger string\n",
    "\n",
    "# Using the + operator \n",
    "a = 'Python'\n",
    "b = ' is'\n",
    "c = ' cool' \n",
    "print(a + b + c) \n",
    "\n",
    "# Using the * operator \n",
    "a1 = 'Python' \n",
    "print(a1 * 3) \n",
    "\n",
    "# Using the join() method \n",
    "d = \"Python\"\n",
    "e = \"is\"\n",
    "f = \"cool\"\n",
    "print('-'.join([d,e,f]))\n"
   ]
  },
  {
   "cell_type": "code",
   "execution_count": 66,
   "metadata": {},
   "outputs": [
    {
     "name": "stdout",
     "output_type": "stream",
     "text": [
      "Present at index 10\n"
     ]
    }
   ],
   "source": [
    "# Q8. What is the benefit of first checking the target string with in or not in before using the index method to find a substring?\n",
    " \n",
    "# a string is substring of other. \n",
    "# Returns true if s1 is substring of s2\n",
    "def isSubstring(s1, s2):\n",
    "    M = len(s1)\n",
    "    N = len(s2)\n",
    " \n",
    "    # A loop to slide pat[] one by one\n",
    "    for i in range(N - M + 1):\n",
    " \n",
    "        # For current index i,\n",
    "        # check for pattern match\n",
    "        for j in range(M):\n",
    "            if (s2[i + j] != s1[j]):\n",
    "                break\n",
    "             \n",
    "        if j + 1 == M :\n",
    "            return i\n",
    " \n",
    "    return -1\n",
    " \n",
    "# Driver Code\n",
    "if __name__ == \"__main__\":\n",
    "    s1 = \"for\"\n",
    "    s2 = \"School is for Students\"\n",
    "    res = isSubstring(s1, s2)\n",
    "    if res == -1 :\n",
    "        print(\"Not present\")\n",
    "    else:\n",
    "        print(\"Present at index \" + str(res))\n"
   ]
  },
  {
   "cell_type": "code",
   "execution_count": 67,
   "metadata": {},
   "outputs": [
    {
     "name": "stdout",
     "output_type": "stream",
     "text": [
      "x == y: False\n",
      "x != y: True\n",
      "x < y: True\n",
      "x > y: False\n",
      "x <= y: True\n",
      "x >= y: False\n"
     ]
    }
   ],
   "source": [
    "# Q9. Which operators and built-in string methods produce simple Boolean (true/false) results?\n",
    "# Ans:\n",
    "\n",
    "# The bool() method is used to return or convert a value to a Boolean value i.e., True or False, using the standard truth testing procedure.\n",
    "# The first thing to know is the operators that always return Booleans. \n",
    "# For example, x and y are any Python object. x in y : Returns True if Python object x is in container y ; \n",
    "# otherwise returns False \n",
    "# another example:\n",
    "x = 5\n",
    "y = 8\n",
    "\n",
    "print(\"x == y:\", x == y)\n",
    "print(\"x != y:\", x != y)\n",
    "print(\"x < y:\", x < y)\n",
    "print(\"x > y:\", x > y)\n",
    "print(\"x <= y:\", x <= y)\n",
    "print(\"x >= y:\", x >= y)"
   ]
  },
  {
   "cell_type": "code",
   "execution_count": null,
   "metadata": {},
   "outputs": [],
   "source": []
  }
 ],
 "metadata": {
  "kernelspec": {
   "display_name": "Python 3",
   "language": "python",
   "name": "python3"
  },
  "language_info": {
   "codemirror_mode": {
    "name": "ipython",
    "version": 3
   },
   "file_extension": ".py",
   "mimetype": "text/x-python",
   "name": "python",
   "nbconvert_exporter": "python",
   "pygments_lexer": "ipython3",
   "version": "3.8.5"
  }
 },
 "nbformat": 4,
 "nbformat_minor": 4
}
