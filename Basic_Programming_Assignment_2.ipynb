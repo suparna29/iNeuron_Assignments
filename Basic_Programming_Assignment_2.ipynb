{
  "nbformat": 4,
  "nbformat_minor": 0,
  "metadata": {
    "colab": {
      "name": "Basic_Programming_Assignment_2.ipynb",
      "provenance": [],
      "collapsed_sections": []
    },
    "kernelspec": {
      "name": "python3",
      "display_name": "Python 3"
    },
    "language_info": {
      "name": "python"
    }
  },
  "cells": [
    {
      "cell_type": "code",
      "metadata": {
        "colab": {
          "base_uri": "https://localhost:8080/"
        },
        "id": "7K1WyfVm3oVK",
        "outputId": "952cce88-b3bf-4a5e-dbb6-ba930a67eecd"
      },
      "source": [
        "# 1. Write a Python program to convert kilometers to miles?\n",
        "\n",
        "km = float(input(\"enter a value that you want to convert: \"))\n",
        "# conversion factor (1 km = 0.621371 miles)\n",
        "conv_fac = 0.621371\n",
        "miles = km * conv_fac\n"
      ],
      "execution_count": 2,
      "outputs": [
        {
          "output_type": "stream",
          "text": [
            "enter a value that you want to convert: 40\n"
          ],
          "name": "stdout"
        }
      ]
    },
    {
      "cell_type": "code",
      "metadata": {
        "colab": {
          "base_uri": "https://localhost:8080/"
        },
        "id": "CrFInosZ57II",
        "outputId": "26dc2cbe-1b30-47ef-aba5-e2fc1e077006"
      },
      "source": [
        "miles"
      ],
      "execution_count": 3,
      "outputs": [
        {
          "output_type": "execute_result",
          "data": {
            "text/plain": [
              "24.85484"
            ]
          },
          "metadata": {
            "tags": []
          },
          "execution_count": 3
        }
      ]
    },
    {
      "cell_type": "code",
      "metadata": {
        "colab": {
          "base_uri": "https://localhost:8080/"
        },
        "id": "KN_xGlUg57KP",
        "outputId": "2705c2fe-0f23-41f8-8eaa-b474950ab6fb"
      },
      "source": [
        "# 2. Write a Python program to convert Celsius to Fahrenheit?\n",
        "cel = float(input(\"enter a celsius value that you want to convert into fahrenheit: \"))\n",
        "#formula is : (1°C × 9/5) + 32\n",
        "fah = (cel * 9/5) + 32\n",
        "fah"
      ],
      "execution_count": 8,
      "outputs": [
        {
          "output_type": "stream",
          "text": [
            "enter a celsius value that you want to convert into fahrenheit: 1\n"
          ],
          "name": "stdout"
        },
        {
          "output_type": "execute_result",
          "data": {
            "text/plain": [
              "33.8"
            ]
          },
          "metadata": {
            "tags": []
          },
          "execution_count": 8
        }
      ]
    },
    {
      "cell_type": "code",
      "metadata": {
        "colab": {
          "base_uri": "https://localhost:8080/"
        },
        "id": "LUY2-zY957SB",
        "outputId": "e61bb650-bdca-4b4d-f31f-128eeca1e09c"
      },
      "source": [
        "# Write a Python program to display calendar?\n",
        "import calendar\n",
        "yy = 2021\n",
        "mm = 4\n",
        "print(calendar.month(yy,mm))"
      ],
      "execution_count": 15,
      "outputs": [
        {
          "output_type": "stream",
          "text": [
            "     April 2021\n",
            "Mo Tu We Th Fr Sa Su\n",
            "          1  2  3  4\n",
            " 5  6  7  8  9 10 11\n",
            "12 13 14 15 16 17 18\n",
            "19 20 21 22 23 24 25\n",
            "26 27 28 29 30\n",
            "\n"
          ],
          "name": "stdout"
        }
      ]
    },
    {
      "cell_type": "code",
      "metadata": {
        "colab": {
          "base_uri": "https://localhost:8080/"
        },
        "id": "1Zmbgsa857c2",
        "outputId": "8e79a4ee-d76a-4908-edbe-8449bbffe907"
      },
      "source": [
        "# 4. Write a Python program to solve quadratic equation?\n",
        "import cmath\n",
        "\n",
        "a = 1\n",
        "b = 5\n",
        "c = 6\n",
        "\n",
        "# calculate the discriminant\n",
        "d = (b**2) - (4*a*c)\n",
        "\n",
        "# find two solutions\n",
        "sol1 = (-b-cmath.sqrt(d))/(2*a)\n",
        "sol2 = (-b+cmath.sqrt(d))/(2*a)\n",
        "print('The solution are {0} and {1}'.format(sol1,sol2))"
      ],
      "execution_count": 17,
      "outputs": [
        {
          "output_type": "stream",
          "text": [
            "The solution are (-3+0j) and (-2+0j)\n"
          ],
          "name": "stdout"
        }
      ]
    },
    {
      "cell_type": "code",
      "metadata": {
        "colab": {
          "base_uri": "https://localhost:8080/"
        },
        "id": "5DfW3Ve8574_",
        "outputId": "21d9ea4e-d6a8-41cc-edb3-7798287051c6"
      },
      "source": [
        "# 5.Write a Python program to swap two variables without temp variable?\n",
        "x = 10\n",
        "y = 8\n",
        "\n",
        "a = x\n",
        "x = y \n",
        "y = a \n",
        "\n",
        "print(\"the value of x is : \", x)\n",
        "print(\"the value of y is : \", y)\n"
      ],
      "execution_count": 30,
      "outputs": [
        {
          "output_type": "stream",
          "text": [
            "the value of x is :  8\n",
            "the value of y is :  10\n"
          ],
          "name": "stdout"
        }
      ]
    },
    {
      "cell_type": "code",
      "metadata": {
        "id": "MOHeF_DaS852"
      },
      "source": [
        ""
      ],
      "execution_count": null,
      "outputs": []
    }
  ]
}