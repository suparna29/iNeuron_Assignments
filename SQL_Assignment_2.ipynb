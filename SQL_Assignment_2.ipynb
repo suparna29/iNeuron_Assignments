{
 "cells": [
  {
   "cell_type": "code",
   "execution_count": 3,
   "metadata": {},
   "outputs": [
    {
     "name": "stdout",
     "output_type": "stream",
     "text": [
      "True\n"
     ]
    }
   ],
   "source": [
    "# Connect To DB Code:\n",
    "import mysql.connector as connection\n",
    "\n",
    "try:\n",
    "    mydb = connection.connect(host=\"localhost\", user=\"root\", passwd=\"Mohor@123\",use_pure=True)\n",
    "    # check if the connection is established\n",
    "    print(mydb.is_connected())\n",
    "    #mydb.close()\n",
    "except Exception as e:\n",
    "    print(str(e))"
   ]
  },
  {
   "cell_type": "code",
   "execution_count": 4,
   "metadata": {},
   "outputs": [
    {
     "data": {
      "text/plain": [
       "[(1000, 'Sachin', 'Kumar', 'XYZ', 'aaa'),\n",
       " (1001, 'Tanhi', 'Kumari', 'ABC', 'bbb'),\n",
       " (1002, 'jfhg', 'jhfgg', 'ABC', 'ccc'),\n",
       " (1003, 'bfhjdk', 'jrhydgf', 'XYZ', 'ddd'),\n",
       " (1004, 'euegeg', 'fhhffg', 'XYZ', 'eee'),\n",
       " (1005, 'iruyugbf', 'iurrygf', 'XYZ', 'fff'),\n",
       " (1006, 'iuehrf', 'irufhf', 'ABC', 'ggg')]"
      ]
     },
     "execution_count": 4,
     "metadata": {},
     "output_type": "execute_result"
    }
   ],
   "source": [
    "mydb = connection.connect(host=\"localhost\", user=\"root\", passwd=\"Mohor@123\",use_pure=True)\n",
    "cursor= mydb.cursor()\n",
    "cursor.execute(\"SELECT * FROM iNeuron.Worker;\")\n",
    "cursor.fetchall()"
   ]
  },
  {
   "cell_type": "code",
   "execution_count": 5,
   "metadata": {},
   "outputs": [
    {
     "data": {
      "text/plain": [
       "[('Sac',), ('Tan',), ('jfh',), ('bfh',), ('eue',), ('iru',), ('iue',)]"
      ]
     },
     "execution_count": 5,
     "metadata": {},
     "output_type": "execute_result"
    }
   ],
   "source": [
    "# Q-1. Write an SQL query to print the first three characters of  FIRST_NAME from Worker table\n",
    "\n",
    "mydb = connection.connect(host=\"localhost\", user=\"root\", passwd=\"Mohor@123\",use_pure=True)\n",
    "cursor= mydb.cursor()\n",
    "cursor.execute(\"SELECT SUBSTRING(First_Name,1,3) FROM iNeuron.Worker;\")\n",
    "cursor.fetchall()"
   ]
  },
  {
   "cell_type": "code",
   "execution_count": 8,
   "metadata": {},
   "outputs": [
    {
     "name": "stdout",
     "output_type": "stream",
     "text": [
      "New Data Inserted!!\n"
     ]
    },
    {
     "data": {
      "text/plain": [
       "[(5,), (5,)]"
      ]
     },
     "execution_count": 8,
     "metadata": {},
     "output_type": "execute_result"
    }
   ],
   "source": [
    "# Q-2. Write an SQL query to find the position of the alphabet (‘a’) in the first name column ‘Amitabh’ from Worker table.\n",
    "\n",
    "mydb = connection.connect(host=\"localhost\", user=\"root\", passwd=\"Mohor@123\",use_pure=True)\n",
    "cursor= mydb.cursor()\n",
    "cursor.execute(\"INSERT INTO iNeuron.Worker VALUES ('10007','Amitabh','Finda','ABC','ami')\")\n",
    "mydb.commit()\n",
    "print(\"New Data Inserted!!\")\n",
    "cursor.execute(\"Select INSTR(FIRST_NAME, BINARY'a') from iNeuron.Worker where FIRST_NAME = 'Amitabh';\")\n",
    "cursor.fetchall()"
   ]
  },
  {
   "cell_type": "code",
   "execution_count": 13,
   "metadata": {},
   "outputs": [
    {
     "name": "stdout",
     "output_type": "stream",
     "text": [
      "True\n",
      "Table Created!!\n",
      "DATA Inserted!!\n"
     ]
    }
   ],
   "source": [
    "\n",
    "\n",
    "\n",
    "# Connect To DB Code:\n",
    "import mysql.connector as connection\n",
    "\n",
    "try:\n",
    "    mydb = connection.connect(host=\"localhost\", user=\"root\", passwd=\"Mohor@123\",use_pure=True)\n",
    "    # check if the connection is established\n",
    "    print(mydb.is_connected())\n",
    "    \n",
    "#create table\n",
    "    #query = \"CREATE TABLE iNeuron.Worker (Worker_ID int(20) PRIMARY KEY, First_Name VARCHAR(60),Last_Name VARCHAR(60), Department VARCHAR(60), Worker_Alias_Name VARCHAR(60))\"\n",
    "    query = \"CREATE TABLE iNeuron.emp(emp_id int PRIMARY KEY,emp_name text,emp_city text,Department text,emp_sal VARCHAR(60))\"\n",
    "    cursor = mydb.cursor()\n",
    "    cursor.execute(query)\n",
    "    print(\"Table Created!!\")\n",
    "#insert values\n",
    "    cursor.execute(\"INSERT INTO iNeuron.emp VALUES ('1000','Sachin','ujuuu','XYZ',540000)\")\n",
    "    cursor.execute(\"INSERT INTO iNeuron.emp VALUES ('1001','Tanhi','Ktyuiu','ABC',5403450)\")\n",
    "    cursor.execute(\"INSERT INTO iNeuron.emp VALUES ('1002','jfhg','jhfgg','ABC',540456000)\")\n",
    "    cursor.execute(\"INSERT INTO iNeuron.emp VALUES ('1003','bfhjdk','jrhydgf','XYZ',345540000)\")\n",
    "    cursor.execute(\"INSERT INTO iNeuron.emp VALUES ('1004','euegeg','fhhffg','XYZ',78540000)\")\n",
    "    cursor.execute(\"INSERT INTO iNeuron.emp VALUES ('1005','iruyugbf','iurrygf','XYZ',546780000)\")\n",
    "    cursor.execute(\"INSERT INTO iNeuron.emp VALUES ('1006','iuehrf','irufhf','ABC',9876540000)\")\n",
    "    mydb.commit()\n",
    "    print(\"DATA Inserted!!\")\n",
    "except Exception as e:\n",
    "    print(str(e))"
   ]
  },
  {
   "cell_type": "code",
   "execution_count": 16,
   "metadata": {},
   "outputs": [
    {
     "data": {
      "text/plain": [
       "[(1000, 'Sachin', 'ujuuu', 'XYZ', '540000'),\n",
       " (1001, 'Tanhi', 'Ktyuiu', 'ABC', '5403450'),\n",
       " (1002, 'jfhg', 'jhfgg', 'ABC', '540456000'),\n",
       " (1003, 'bfhjdk', 'jrhydgf', 'XYZ', '345540000'),\n",
       " (1004, 'euegeg', 'fhhffg', 'XYZ', '78540000'),\n",
       " (1005, 'iruyugbf', 'iurrygf', 'XYZ', '546780000'),\n",
       " (1006, 'iuehrf', 'irufhf', 'ABC', '9876540000')]"
      ]
     },
     "execution_count": 16,
     "metadata": {},
     "output_type": "execute_result"
    }
   ],
   "source": [
    "cursor.execute(\"SELECT * FROM iNeuron.emp\")\n",
    "cursor.fetchall()"
   ]
  },
  {
   "cell_type": "code",
   "execution_count": 15,
   "metadata": {},
   "outputs": [
    {
     "data": {
      "text/plain": [
       "[('XYZ', '78540000'), ('ABC', '9876540000')]"
      ]
     },
     "execution_count": 15,
     "metadata": {},
     "output_type": "execute_result"
    }
   ],
   "source": [
    "# Q-3. Write an SQL query to print the name of employees having the highest salary in each department.\n",
    "\n",
    "cursor.execute(\"SELECT department, MAX(emp_sal) FROM iNeuron.emp GROUP BY department\")\n",
    "cursor.fetchall()"
   ]
  },
  {
   "cell_type": "code",
   "execution_count": null,
   "metadata": {},
   "outputs": [],
   "source": []
  }
 ],
 "metadata": {
  "kernelspec": {
   "display_name": "Python 3",
   "language": "python",
   "name": "python3"
  }
 },
 "nbformat": 4,
 "nbformat_minor": 4
}
