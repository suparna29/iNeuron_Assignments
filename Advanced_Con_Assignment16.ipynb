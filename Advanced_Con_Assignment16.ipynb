{
 "cells": [
  {
   "cell_type": "code",
   "execution_count": null,
   "metadata": {},
   "outputs": [],
   "source": [
    "Q1. What is the benefit of regular expressions?\n",
    "Ans:\n",
    "A Regular Expression is used for identifying a search pattern in a text string. It also helps in finding out the \n",
    "correctness of the data and even operations such as finding, replacing and formatting the data is possible using Regular\n",
    "Expressions"
   ]
  },
  {
   "cell_type": "code",
   "execution_count": null,
   "metadata": {},
   "outputs": [],
   "source": [
    "Q2. Describe the difference between the effects of \"(ab)c+\" and \"a(bc)+.\" Which of these, if any, is the unqualified \n",
    "pattern \"abc+\"?\n"
   ]
  },
  {
   "cell_type": "code",
   "execution_count": 13,
   "metadata": {},
   "outputs": [],
   "source": [
    "def can_add_operator(string_):\n",
    "    n = 0\n",
    "    for letter in string_:\n",
    "        if letter not in ['+', '-', '*', '/']:\n",
    "            n += 1\n",
    "        else:\n",
    "            n -= 1\n",
    "    result = n > 1\n",
    "    return result"
   ]
  },
  {
   "cell_type": "code",
   "execution_count": 14,
   "metadata": {},
   "outputs": [
    {
     "data": {
      "text/plain": [
       "False"
      ]
     },
     "execution_count": 14,
     "metadata": {},
     "output_type": "execute_result"
    }
   ],
   "source": [
    "can_add_operator('ab*c+')\n"
   ]
  },
  {
   "cell_type": "code",
   "execution_count": 12,
   "metadata": {},
   "outputs": [
    {
     "data": {
      "text/plain": [
       "True"
      ]
     },
     "execution_count": 12,
     "metadata": {},
     "output_type": "execute_result"
    }
   ],
   "source": [
    "can_add_operator('ab*c')"
   ]
  },
  {
   "cell_type": "code",
   "execution_count": null,
   "metadata": {},
   "outputs": [],
   "source": [
    "Q3. How much do you need to use the following sentence while using regular expressions?\n",
    "import re\n",
    "Ans:\n",
    "The Python module re provides full support for Perl-like regular expressions in Python. \n",
    "The re module raises the exception re.error if an error occurs while compiling or using a regular expression."
   ]
  },
  {
   "cell_type": "code",
   "execution_count": null,
   "metadata": {},
   "outputs": [],
   "source": [
    "Q4. Which characters have special significance in square brackets when expressing a range, and under what circumstances?\n",
    "Ans:\n",
    "Inside a character class, only the character class metacharacters (backslash, circumflex anchor and hyphen) have special \n",
    "meaning. You must use a backslash when you use character class metacharacters as literals inside a character class only.\n"
   ]
  },
  {
   "cell_type": "code",
   "execution_count": null,
   "metadata": {},
   "outputs": [],
   "source": [
    "Q5. How does compiling a regular-expression object benefit you?\n",
    "Ans:\n",
    "when you compile a regular expression, you can specify a number of options modifying the way that Python will treat the \n",
    "regular expression. Each option is defined as a constant in the re module in two forms; a long form and a single \n",
    "letter abbreviation.\n"
   ]
  },
  {
   "cell_type": "code",
   "execution_count": null,
   "metadata": {},
   "outputs": [],
   "source": [
    "Q6. What are some examples of how to use the match object returned by re.match and re.search?\n",
    "Ans:\n",
    "There is a difference between the use of both functions. Both return the first match of a substring found in the string, \n",
    "but re.match() searches only from the beginning of the string and return match object if found. But if a match of substring\n",
    "is found somewhere in the middle of the string, it returns none. \n",
    "While re.search() searches for the whole string even if the string contains multi-lines and tries to find a match of the\n",
    "substring in all the lines of string."
   ]
  },
  {
   "cell_type": "code",
   "execution_count": 35,
   "metadata": {},
   "outputs": [
    {
     "name": "stdout",
     "output_type": "stream",
     "text": [
      "<re.Match object; span=(0, 4), match='cows'>\n",
      "<re.Match object; span=(0, 4), match='cows'>\n",
      "<re.Match object; span=(14, 18), match='cows'>\n",
      "None\n"
     ]
    }
   ],
   "source": [
    "# import re module\n",
    "import re\n",
    " \n",
    "Substring ='cows'\n",
    " \n",
    "\n",
    "String1 ='''cows are veru useful animals.Ram has three cows.'''\n",
    "\n",
    "String2 ='''Ram has three cows.Two cows of them are black. Another one is brown in color.'''\n",
    " \n",
    "# Use of re.search() Method\n",
    "print(re.search(Substring, String1, re.IGNORECASE))\n",
    "# Use of re.match() Method\n",
    "print(re.match(Substring, String1, re.IGNORECASE))\n",
    " \n",
    "# Use of re.search() Method\n",
    "print(re.search(Substring, String2, re.IGNORECASE))\n",
    "# Use of re.match() Method\n",
    "print(re.match(Substring, String2, re.IGNORECASE))\n"
   ]
  },
  {
   "cell_type": "code",
   "execution_count": null,
   "metadata": {},
   "outputs": [],
   "source": [
    "Q7. What is the difference between using a vertical bar (|) as an alteration and using square brackets as a character set?\n",
    "Ans:\n",
    "| is used to provide 'or' functionality when used within ()'s, while the [] denote character classes, as in match any of \n",
    "the characters/symbols inside the [] for the specified number of characters denoted by the following ?*+{#} specifiers, \n",
    "or if a ^ is used, it means don't match that symbol. "
   ]
  },
  {
   "cell_type": "code",
   "execution_count": null,
   "metadata": {},
   "outputs": [],
   "source": [
    "Q8. In regular-expression search patterns, why is it necessary to use the raw-string indicator (r)? In\n",
    "replacement strings?\n",
    "Ans:\n",
    "Python raw string is created by prefixing a string literal with 'r' or 'R'. Python raw string treats backslash (\\) as a \n",
    "literal character. This is useful when we want to have a string that contains backslash and don't want it to be treated as\n",
    "an escape character."
   ]
  },
  {
   "cell_type": "code",
   "execution_count": null,
   "metadata": {},
   "outputs": [],
   "source": []
  }
 ],
 "metadata": {
  "kernelspec": {
   "display_name": "Python 3",
   "language": "python",
   "name": "python3"
  },
  "language_info": {
   "codemirror_mode": {
    "name": "ipython",
    "version": 3
   },
   "file_extension": ".py",
   "mimetype": "text/x-python",
   "name": "python",
   "nbconvert_exporter": "python",
   "pygments_lexer": "ipython3",
   "version": "3.8.5"
  }
 },
 "nbformat": 4,
 "nbformat_minor": 4
}
