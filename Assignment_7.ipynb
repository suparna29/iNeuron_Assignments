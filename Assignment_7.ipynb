{
 "cells": [
  {
   "cell_type": "code",
   "execution_count": null,
   "metadata": {},
   "outputs": [],
   "source": [
    "# 1.What is the name of the feature responsible for generating Regex objects?\n",
    "Ans:\n",
    "There are two ways to create a RegExp object-\n",
    "    1) a literal notation and \n",
    "    2) a constructor\n",
    "The literal notation's parameters are enclosed between slashes and do not use quotation marks.\n",
    "The constructor function's parameters are not enclosed between slashes but do use quotation marks."
   ]
  },
  {
   "cell_type": "code",
   "execution_count": null,
   "metadata": {},
   "outputs": [],
   "source": [
    "# 2.Why do raw strings often appear in Regex objects?\n",
    "Ans:\n",
    "Raw strings are used so that backslashes do not have to be escaped. Parentheses and periods have specific meanings in \n",
    "regular expression syntax.\n"
   ]
  },
  {
   "cell_type": "code",
   "execution_count": null,
   "metadata": {},
   "outputs": [],
   "source": [
    "# 3.What is the return value of the search() method?\n",
    "Ans:\n",
    "The search() method searches a string for a specified value and returns the position of the match. The search value can \n",
    "be string or a regular expression. \n",
    "search() method returns -1 if no match is found."
   ]
  },
  {
   "cell_type": "code",
   "execution_count": null,
   "metadata": {},
   "outputs": [],
   "source": [
    "# 4.From a Match item, how do you get the actual strings that match the pattern?\n",
    "Ans:\n",
    "Steps of Regular Expression Matching\n",
    "Import the regex module with import re.\n",
    "Create a Regex object with the re. compile() function\n",
    "Pass the string you want to search into the Regex object's search() method.\n",
    "Call the Match object's group() method to return a string of the actual matched text"
   ]
  },
  {
   "cell_type": "code",
   "execution_count": 10,
   "metadata": {},
   "outputs": [
    {
     "name": "stdout",
     "output_type": "stream",
     "text": [
      "Phone number found: 111-222-3333\n"
     ]
    }
   ],
   "source": [
    "# 5.In the regex which created from the r'(\\d\\d\\d)-(\\d\\d\\d-\\d\\d\\d\\d)', what does group zero cover? Group 2? Group 1?\n",
    "import re\n",
    "phoneNumRegex = re.compile(r'\\d\\d\\d-\\d\\d\\d-\\d\\d\\d\\d')\n",
    "mob_no = phoneNumRegex.search('My number is 111-222-3333')                          \n",
    "print('Phone number found: ' + mob_no.group())\n"
   ]
  },
  {
   "cell_type": "code",
   "execution_count": 11,
   "metadata": {},
   "outputs": [
    {
     "data": {
      "text/plain": [
       "'111-222-3333'"
      ]
     },
     "execution_count": 11,
     "metadata": {},
     "output_type": "execute_result"
    }
   ],
   "source": [
    "mob_no.group(0)"
   ]
  },
  {
   "cell_type": "code",
   "execution_count": 12,
   "metadata": {},
   "outputs": [
    {
     "ename": "IndexError",
     "evalue": "no such group",
     "output_type": "error",
     "traceback": [
      "\u001b[1;31m---------------------------------------------------------------------------\u001b[0m",
      "\u001b[1;31mIndexError\u001b[0m                                Traceback (most recent call last)",
      "\u001b[1;32m<ipython-input-12-29bccfcf0e96>\u001b[0m in \u001b[0;36m<module>\u001b[1;34m\u001b[0m\n\u001b[1;32m----> 1\u001b[1;33m \u001b[0mmob_no\u001b[0m\u001b[1;33m.\u001b[0m\u001b[0mgroup\u001b[0m\u001b[1;33m(\u001b[0m\u001b[1;36m2\u001b[0m\u001b[1;33m)\u001b[0m\u001b[1;33m\u001b[0m\u001b[1;33m\u001b[0m\u001b[0m\n\u001b[0m",
      "\u001b[1;31mIndexError\u001b[0m: no such group"
     ]
    }
   ],
   "source": [
    "mob_no.group(2)"
   ]
  },
  {
   "cell_type": "code",
   "execution_count": 13,
   "metadata": {},
   "outputs": [
    {
     "ename": "IndexError",
     "evalue": "no such group",
     "output_type": "error",
     "traceback": [
      "\u001b[1;31m---------------------------------------------------------------------------\u001b[0m",
      "\u001b[1;31mIndexError\u001b[0m                                Traceback (most recent call last)",
      "\u001b[1;32m<ipython-input-13-a3e3fd918884>\u001b[0m in \u001b[0;36m<module>\u001b[1;34m\u001b[0m\n\u001b[1;32m----> 1\u001b[1;33m \u001b[0mmob_no\u001b[0m\u001b[1;33m.\u001b[0m\u001b[0mgroup\u001b[0m\u001b[1;33m(\u001b[0m\u001b[1;36m3\u001b[0m\u001b[1;33m)\u001b[0m\u001b[1;33m\u001b[0m\u001b[1;33m\u001b[0m\u001b[0m\n\u001b[0m",
      "\u001b[1;31mIndexError\u001b[0m: no such group"
     ]
    }
   ],
   "source": [
    "mob_no.group(3)"
   ]
  },
  {
   "cell_type": "code",
   "execution_count": null,
   "metadata": {},
   "outputs": [],
   "source": [
    "# 6.In standard expression syntax, parentheses and intervals have distinct meanings. How can you tell a regex that you want\n",
    "# it to fit real parentheses and periods?\n",
    "Ans:\n",
    ". dot or period (matches literal dot)\n",
    "\n",
    "{ open quantifier\n",
    "} close quantifier\n",
    "\n",
    "[ open character class\n",
    "] close character class\n",
    "\n",
    "( open a capturing group\n",
    ") close capturing group\n",
    "\n",
    "Example of a regular expression that allows literal parentheses to optionally wrap the first sequence of three digits, \n",
    "and makes the area code optional as well\n",
    "\n",
    "^(\\(\\d{3}\\)|^\\d{3}[.-]?)?\\d{3}[.-]?\\d{4}$"
   ]
  },
  {
   "cell_type": "code",
   "execution_count": 16,
   "metadata": {},
   "outputs": [
    {
     "name": "stdout",
     "output_type": "stream",
     "text": [
      "guru99@google.com\n",
      "careerguru99@hotmail.com\n",
      "users@yahoomail.com\n"
     ]
    }
   ],
   "source": [
    "# 7.The findall() method returns a string list or a list of string tuples. What causes it to return one of the two options?\n",
    "\n",
    "import re\n",
    "abc = 'guru99@google.com, careerguru99@hotmail.com, users@yahoomail.com'\n",
    "emails = re.findall(r'[\\w\\.-]+@[\\w\\.-]+', abc)\n",
    "for email in emails:\n",
    "    print(email)"
   ]
  },
  {
   "cell_type": "code",
   "execution_count": null,
   "metadata": {},
   "outputs": [],
   "source": [
    "# 8.In standard expressions, what does the | character mean?\n",
    "Ans:\n",
    "| (the vertical bar) indicates alternation, that is, a given choice of alternatives. In other words, this says “match an \n",
    "area code with parentheses or without them.”"
   ]
  },
  {
   "cell_type": "code",
   "execution_count": null,
   "metadata": {},
   "outputs": [],
   "source": [
    "# 9. In regular expressions, what does the character stand for?\n",
    "Ans:\n",
    ", commna is to separate quantities"
   ]
  },
  {
   "cell_type": "code",
   "execution_count": null,
   "metadata": {},
   "outputs": [],
   "source": [
    "# 10.In regular expressions, what is the difference between the + and * characters?\n",
    "Ans:\n",
    "quantifier plus sign (+) means 'one or more'. One ore more occurrences.\n",
    "quantifier asterisk (*) means 'zero or more'. Any number of occurrences (including 0 occurrences)"
   ]
  },
  {
   "cell_type": "code",
   "execution_count": null,
   "metadata": {},
   "outputs": [],
   "source": [
    "# 11.What is the difference between {4} and {4,5} in regular expression?\n",
    "Ans:\n",
    "{4} means, count exactly 4 digits\n",
    "{4,5} means the range, the count from 4 to 5 digit"
   ]
  },
  {
   "cell_type": "code",
   "execution_count": null,
   "metadata": {},
   "outputs": [],
   "source": [
    "# 12.What do you mean by the \\d, \\w, and \\s shorthand character classes signify in regular expressions?\n",
    "Ans:\n",
    "Shorthand character classes can be used both inside and outside the square brackets. \\s\\d matches a whitespace character \n",
    "followed by a digit. [\\s\\d] matches a single character that is either whitespace or a digit"
   ]
  },
  {
   "cell_type": "code",
   "execution_count": null,
   "metadata": {},
   "outputs": [],
   "source": [
    "# 13.What do means by \\D, \\W, and \\S shorthand character classes signify in regular expressions?\n",
    "Ans:\n",
    "The \\D, \\W, and \\S shorthand character classes match a single character that is not a digit, word, or space character, \n",
    "respectively."
   ]
  },
  {
   "cell_type": "code",
   "execution_count": null,
   "metadata": {},
   "outputs": [],
   "source": [
    "# 14.What is the difference between .*? and .* ?\n",
    "Ans:\n",
    "(.*?) matches any character (.) any number of times (*), as few times as possible to make the regex match (?). \n",
    "You'll get a match on any string, but you'll only capture a blank string because of the question mark. This feature is \n",
    "much more useful when you have a more complicated regex. Here, the parser doesn't have to capture anything at all to get a \n",
    "match. The asterisk allows any number of characters in the capturing group, while the question mark makes the parser save \n",
    "as many as possible from the input text for later, resulting in nothing being captured.\n",
    "\n",
    "(.*)? captures a group zero or one times (?). That group consists of a run of any length (*) of any character (.). This \n",
    "also will match anything, but it will capture the first line, since the dot matches anything except a newline."
   ]
  },
  {
   "cell_type": "code",
   "execution_count": 1,
   "metadata": {},
   "outputs": [
    {
     "data": {
      "text/plain": [
       "['123']"
      ]
     },
     "execution_count": 1,
     "metadata": {},
     "output_type": "execute_result"
    }
   ],
   "source": [
    "# 15.What is the syntax for matching both numbers and lowercase letters with a character class?\n",
    "\n",
    "import re\n",
    "re.findall(r'[0-9]+', 'abc123xyz')\n"
   ]
  },
  {
   "cell_type": "code",
   "execution_count": null,
   "metadata": {},
   "outputs": [],
   "source": [
    "# 16.What is the procedure for making a normal expression in regax case insensitive?\n",
    "Ans:\n",
    "Use the (?i) and [optionally] (?-i) mode modifiers: (?i)G[a-b](?-i).*\n",
    "Put all the variations (i.e. lowercase and uppercase) in the regex - useful if mode modifiers are not supported: \n",
    "[gG][a-bA-B].*"
   ]
  },
  {
   "cell_type": "code",
   "execution_count": null,
   "metadata": {},
   "outputs": [],
   "source": [
    "# 17.What does the . character normally match? What does it match if re.DOTALL is passed as 2nd argument in re.compile()?\n",
    "Ans:\n",
    "The dot character matches any single character.\n",
    "For example, the terminology rule regular expression, \"/a.b/\", matches all text where there is an \"a\" followed by any \n",
    "single character, followed by a \"b\", as in, \"a5b\".\n",
    "\n",
    "If re.DOTALL is passed as the second argument to re.compile(), then the dot will also match newline characters"
   ]
  },
  {
   "cell_type": "code",
   "execution_count": 8,
   "metadata": {},
   "outputs": [
    {
     "data": {
      "text/plain": [
       "'123abc: 666xyz: lmn-11 77def:'"
      ]
     },
     "execution_count": 8,
     "metadata": {},
     "output_type": "execute_result"
    }
   ],
   "source": [
    "# 18.If numReg = re.compile(r'\\d+'), what will numRegex.sub('X', '11 drummers, 10 pipers, five rings, 4 hen') return?\n",
    "\n",
    "import re\n",
    "s = 'abc123 xyz666 lmn-11 def77'\n",
    "re.sub(r'\\b([a-z]+)(\\d+)', r'\\2\\1:', s)\n"
   ]
  },
  {
   "cell_type": "code",
   "execution_count": null,
   "metadata": {},
   "outputs": [],
   "source": [
    "# 19.What does passing re.VERBOSE as the 2nd argument to re.compile() allow to do?\n",
    "Ans:\n",
    "The re.VERBOSE argument allows you to add whitespace and comments to the string passed to re"
   ]
  },
  {
   "cell_type": "markdown",
   "metadata": {},
   "source": [
    "20. How would you write a regex that match a number with comma for every three digits? It must\n",
    "match the given following:\n",
    "&#39;42&#39;\n",
    "&#39;1,234&#39;\n",
    "&#39;6,368,745&#39;\n",
    "\n",
    "but not the following:\n",
    "&#39;12,34,567&#39; (which has only two digits between the commas)\n",
    "&#39;1234&#39; (which lacks commas)\n"
   ]
  },
  {
   "cell_type": "code",
   "execution_count": 11,
   "metadata": {},
   "outputs": [
    {
     "name": "stdout",
     "output_type": "stream",
     "text": [
      "['42', '1,234', '6,368,745']\n"
     ]
    }
   ],
   "source": [
    "import re\n",
    "\n",
    "s = '42 1,234 6,368,745 12,34,567 1234'\n",
    "\n",
    "rgx = re.compile(',[0-9]{1,2},|[0-9]{4,}')\n",
    "nums = [x for x in s.split() if not rgx.search(x)]\n",
    "\n",
    "print (nums)  "
   ]
  },
  {
   "cell_type": "markdown",
   "metadata": {},
   "source": [
    "21. \n",
    "How would you write a regex that matches the full name of someone whose last name is\n",
    "Watanabe? You can assume that the first name that comes before it will always be one word that\n",
    "begins with a capital letter. The regex must match the following:\n",
    "&#39;Haruto Watanabe&#39;\n",
    "&#39;Alice Watanabe&#39;\n",
    "&#39;RoboCop Watanabe&#39;\n",
    "but not the following:\n",
    "&#39;haruto Watanabe&#39; (where the first name is not capitalized)\n",
    "&#39;Mr. Watanabe&#39; (where the preceding word has a nonletter character)\n",
    "&#39;Watanabe&#39; (which has no first name)\n",
    "&#39;Haruto watanabe&#39; (where Watanabe is not capitalized)"
   ]
  },
  {
   "cell_type": "code",
   "execution_count": 15,
   "metadata": {},
   "outputs": [
    {
     "name": "stdout",
     "output_type": "stream",
     "text": [
      "\"Haruto Watanabe\" does not match\n",
      "\"Alice Watanabe\" does not match\n",
      "\"RoboCop Watanabe\" does not match\n"
     ]
    }
   ],
   "source": [
    "import re\n",
    "\n",
    "def printMatch(name):\n",
    "    pat = re.compile(r'\\b[A-Z][a-zA-Z]+\\Watanabe')\n",
    "    if pat.search(name):\n",
    "        print ('\"'+name+'\" matches')\n",
    "    else:\n",
    "        print ('\"'+name+'\" does not match')\n",
    "\n",
    "printMatch('Haruto Watanabe')\n",
    "printMatch('Alice Watanabe')\n",
    "printMatch('RoboCop Watanabe')\n"
   ]
  },
  {
   "cell_type": "markdown",
   "metadata": {},
   "source": [
    "22. How would you write a regex that matches a sentence where the first word is either Alice, Bob,\n",
    "or Carol; the second word is either eats, pets, or throws; the third word is apples, cats, or baseballs;\n",
    "and the sentence ends with a period? This regex should be case-insensitive. It must match the\n",
    "following:\n",
    "&#39;Alice eats apples.&#39;\n",
    "&#39;Bob pets cats.&#39;\n",
    "&#39;Carol throws baseballs.&#39;\n",
    "&#39;Alice throws Apples.&#39;\n",
    "&#39;BOB EATS CATS.&#39;\n",
    "but not the following:\n",
    "&#39;RoboCop eats apples.&#39;\n",
    "&#39;ALICE THROWS FOOTBALLS.&#39;\n",
    "&#39;Carol eats 7 cats.&#39;"
   ]
  },
  {
   "cell_type": "code",
   "execution_count": 20,
   "metadata": {},
   "outputs": [
    {
     "ename": "TypeError",
     "evalue": "expected string or bytes-like object",
     "output_type": "error",
     "traceback": [
      "\u001b[1;31m---------------------------------------------------------------------------\u001b[0m",
      "\u001b[1;31mTypeError\u001b[0m                                 Traceback (most recent call last)",
      "\u001b[1;32m<ipython-input-20-7fa11005f104>\u001b[0m in \u001b[0;36m<module>\u001b[1;34m\u001b[0m\n\u001b[0;32m      1\u001b[0m \u001b[0mregex\u001b[0m\u001b[1;33m=\u001b[0m\u001b[0mre\u001b[0m\u001b[1;33m.\u001b[0m\u001b[0mcompile\u001b[0m\u001b[1;33m(\u001b[0m\u001b[1;34mr'Alice|Bob|Carol\\seats|pets|throws\\sapples\\.|cats\\.|baseballs\\.'\u001b[0m\u001b[1;33m,\u001b[0m\u001b[0mre\u001b[0m\u001b[1;33m.\u001b[0m\u001b[0mIGNORECASE\u001b[0m\u001b[1;33m)\u001b[0m\u001b[1;33m\u001b[0m\u001b[1;33m\u001b[0m\u001b[0m\n\u001b[1;32m----> 2\u001b[1;33m \u001b[0mmo\u001b[0m\u001b[1;33m=\u001b[0m\u001b[0mregex\u001b[0m\u001b[1;33m.\u001b[0m\u001b[0msearch\u001b[0m\u001b[1;33m(\u001b[0m\u001b[0mstr\u001b[0m\u001b[1;33m)\u001b[0m\u001b[1;33m\u001b[0m\u001b[1;33m\u001b[0m\u001b[0m\n\u001b[0m\u001b[0;32m      3\u001b[0m \u001b[0mma\u001b[0m\u001b[1;33m=\u001b[0m\u001b[0mmo\u001b[0m\u001b[1;33m.\u001b[0m\u001b[0mgroup\u001b[0m\u001b[1;33m(\u001b[0m\u001b[1;33m)\u001b[0m\u001b[1;33m\u001b[0m\u001b[1;33m\u001b[0m\u001b[0m\n",
      "\u001b[1;31mTypeError\u001b[0m: expected string or bytes-like object"
     ]
    }
   ],
   "source": [
    "regex=re.compile(r'Alice|Bob|Carol\\seats|pets|throws\\sapples\\.|cats\\.|baseballs\\.',re.IGNORECASE)\n",
    "mo=regex.search(str)\n",
    "ma=mo.group()\n"
   ]
  },
  {
   "cell_type": "code",
   "execution_count": null,
   "metadata": {},
   "outputs": [],
   "source": []
  }
 ],
 "metadata": {
  "kernelspec": {
   "display_name": "Python 3",
   "language": "python",
   "name": "python3"
  },
  "language_info": {
   "codemirror_mode": {
    "name": "ipython",
    "version": 3
   },
   "file_extension": ".py",
   "mimetype": "text/x-python",
   "name": "python",
   "nbconvert_exporter": "python",
   "pygments_lexer": "ipython3",
   "version": "3.8.5"
  }
 },
 "nbformat": 4,
 "nbformat_minor": 4
}
