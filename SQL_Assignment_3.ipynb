{
 "cells": [
  {
   "cell_type": "code",
   "execution_count": 4,
   "metadata": {},
   "outputs": [
    {
     "name": "stdout",
     "output_type": "stream",
     "text": [
      "True\n",
      "Table Created!!\n",
      "DATA Inserted!!\n"
     ]
    }
   ],
   "source": [
    "# Connect To DB Code:\n",
    "import mysql.connector as connection\n",
    "\n",
    "try:\n",
    "    mydb = connection.connect(host=\"localhost\", user=\"root\", passwd=\"Mohor@123\",use_pure=True)\n",
    "    # check if the connection is established\n",
    "    print(mydb.is_connected())\n",
    "    \n",
    "#create table\n",
    "    #query = \"CREATE TABLE iNeuron.Worker (Worker_ID int(20) PRIMARY KEY, First_Name VARCHAR(60),Last_Name VARCHAR(60), Department VARCHAR(60), Worker_Alias_Name VARCHAR(60))\"\n",
    "    query = \"CREATE TABLE iNeuron.emp1(emp_id int PRIMARY KEY,emp_name text,emp_city text,Department text,emp_sal VARCHAR(60))\"\n",
    "    cursor = mydb.cursor()\n",
    "    cursor.execute(query)\n",
    "    print(\"Table Created!!\")\n",
    "#insert values\n",
    "    cursor.execute(\"INSERT INTO iNeuron.emp1 VALUES ('1000','Sachin    ','ujuuu','XYZ',540000)\")\n",
    "    cursor.execute(\"INSERT INTO iNeuron.emp1 VALUES ('1001','Tanhi    ','Ktyuiu','ABC',5403450)\")\n",
    "    cursor.execute(\"INSERT INTO iNeuron.emp1 VALUES ('1002','jfhg   ','jhfgg','ABC',540456000)\")\n",
    "    cursor.execute(\"INSERT INTO iNeuron.emp1 VALUES ('1003','bfhjdk   ','jrhydgf','XYZ',345540000)\")\n",
    "    cursor.execute(\"INSERT INTO iNeuron.emp1 VALUES ('1004','euegeg    ','fhhffg','XYZ',78540000)\")\n",
    "    cursor.execute(\"INSERT INTO iNeuron.emp1 VALUES ('1005','iruyugbf    ','iurrygf','XYZ',546780000)\")\n",
    "    cursor.execute(\"INSERT INTO iNeuron.emp1 VALUES ('1006','iuehrf   ','irufhf','ABC',9876540000)\")\n",
    "    mydb.commit()\n",
    "    print(\"DATA Inserted!!\")\n",
    "except Exception as e:\n",
    "    print(str(e))"
   ]
  },
  {
   "cell_type": "code",
   "execution_count": 5,
   "metadata": {},
   "outputs": [
    {
     "data": {
      "text/plain": [
       "[(1000, 'Sachin    ', 'ujuuu', 'XYZ', '540000'),\n",
       " (1001, 'Tanhi    ', 'Ktyuiu', 'ABC', '5403450'),\n",
       " (1002, 'jfhg   ', 'jhfgg', 'ABC', '540456000'),\n",
       " (1003, 'bfhjdk   ', 'jrhydgf', 'XYZ', '345540000'),\n",
       " (1004, 'euegeg    ', 'fhhffg', 'XYZ', '78540000'),\n",
       " (1005, 'iruyugbf    ', 'iurrygf', 'XYZ', '546780000'),\n",
       " (1006, 'iuehrf   ', 'irufhf', 'ABC', '9876540000')]"
      ]
     },
     "execution_count": 5,
     "metadata": {},
     "output_type": "execute_result"
    }
   ],
   "source": [
    "cursor.execute(\"SELECT * FROM iNeuron.emp1\")\n",
    "cursor.fetchall()"
   ]
  },
  {
   "cell_type": "code",
   "execution_count": 6,
   "metadata": {},
   "outputs": [
    {
     "data": {
      "text/plain": [
       "[('Sachin',),\n",
       " ('Tanhi',),\n",
       " ('jfhg',),\n",
       " ('bfhjdk',),\n",
       " ('euegeg',),\n",
       " ('iruyugbf',),\n",
       " ('iuehrf',)]"
      ]
     },
     "execution_count": 6,
     "metadata": {},
     "output_type": "execute_result"
    }
   ],
   "source": [
    "## Q-1. Write an SQL query to print the FIRST_NAME from Worker table after removing white spaces from the right side.\n",
    "cursor.execute(\"SELECT TRIM(emp_name) FROM iNeuron.emp1;\")\n",
    "cursor.fetchall()"
   ]
  },
  {
   "cell_type": "code",
   "execution_count": 12,
   "metadata": {},
   "outputs": [
    {
     "name": "stdout",
     "output_type": "stream",
     "text": [
      "Table Created!!\n",
      "DATA Inserted!!\n"
     ]
    }
   ],
   "source": [
    "#create table\n",
    "query = \"CREATE TABLE iNeuron.Worker1 (Worker_ID int(20) PRIMARY KEY, First_Name VARCHAR(60),Last_Name VARCHAR(60), Department VARCHAR(60), Worker_Alias_Name VARCHAR(60))\"\n",
    "cursor = mydb.cursor()\n",
    "cursor.execute(query)\n",
    "print(\"Table Created!!\")\n",
    "#insert values\n",
    "cursor.execute(\"INSERT INTO iNeuron.Worker1 VALUES ('1000','Sachin','Kumar','XYZ','aaa')\")\n",
    "cursor.execute(\"INSERT INTO iNeuron.Worker1 VALUES ('1001','Tanhi','Kumari','ABCD','bbb')\")\n",
    "cursor.execute(\"INSERT INTO iNeuron.Worker1 VALUES ('1002','jfhg','jhfgg','ABCD','ccc')\")\n",
    "cursor.execute(\"INSERT INTO iNeuron.Worker1 VALUES ('1003','bfhjdk','jrhydgf','XYZ','ddd')\")\n",
    "cursor.execute(\"INSERT INTO iNeuron.Worker1 VALUES ('1004','euegeg','fhhffg','XYZ','eee')\")\n",
    "cursor.execute(\"INSERT INTO iNeuron.Worker1 VALUES ('1005','iruyugbf','iurrygf','XYZ','fff')\")\n",
    "cursor.execute(\"INSERT INTO iNeuron.Worker1 VALUES ('1006','iuehrf','irufhf','ABCD','ggg')\")\n",
    "mydb.commit()\n",
    "print(\"DATA Inserted!!\")"
   ]
  },
  {
   "cell_type": "code",
   "execution_count": 13,
   "metadata": {},
   "outputs": [
    {
     "data": {
      "text/plain": [
       "[(1000, 'Sachin', 'Kumar', 'XYZ', 'aaa'),\n",
       " (1001, 'Tanhi', 'Kumari', 'ABCD', 'bbb'),\n",
       " (1002, 'jfhg', 'jhfgg', 'ABCD', 'ccc'),\n",
       " (1003, 'bfhjdk', 'jrhydgf', 'XYZ', 'ddd'),\n",
       " (1004, 'euegeg', 'fhhffg', 'XYZ', 'eee'),\n",
       " (1005, 'iruyugbf', 'iurrygf', 'XYZ', 'fff'),\n",
       " (1006, 'iuehrf', 'irufhf', 'ABCD', 'ggg')]"
      ]
     },
     "execution_count": 13,
     "metadata": {},
     "output_type": "execute_result"
    }
   ],
   "source": [
    "cursor.execute(\"select * from iNeuron.Worker1\")\n",
    "cursor.fetchall()"
   ]
  },
  {
   "cell_type": "code",
   "execution_count": 15,
   "metadata": {},
   "outputs": [
    {
     "data": {
      "text/plain": [
       "[('XYZ',), ('ABCD',)]"
      ]
     },
     "execution_count": 15,
     "metadata": {},
     "output_type": "execute_result"
    }
   ],
   "source": [
    "cursor.execute(\"select DISTINCT department from iNeuron.Worker1\")\n",
    "cursor.fetchall()"
   ]
  },
  {
   "cell_type": "code",
   "execution_count": 16,
   "metadata": {},
   "outputs": [
    {
     "data": {
      "text/plain": [
       "[(3,), (4,)]"
      ]
     },
     "execution_count": 16,
     "metadata": {},
     "output_type": "execute_result"
    }
   ],
   "source": [
    "# Q-2. Write an SQL query that fetches the unique values of DEPARTMENT from Worker table and prints its length.\n",
    "cursor.execute(\"select DISTINCT length(department) from iNeuron.Worker1\")\n",
    "cursor.fetchall()"
   ]
  },
  {
   "cell_type": "code",
   "execution_count": 18,
   "metadata": {},
   "outputs": [
    {
     "data": {
      "text/plain": [
       "[(1000, 'Sachin', 'ujuuu', 'XYZ', '540000'),\n",
       " (1001, 'Tanhi', 'Ktyuiu', 'ABC', '5403450'),\n",
       " (1002, 'jfhg', 'jhfgg', 'ABC', '540456000'),\n",
       " (1003, 'bfhjdk', 'jrhydgf', 'XYZ', '345540000'),\n",
       " (1004, 'euegeg', 'fhhffg', 'XYZ', '78540000'),\n",
       " (1005, 'iruyugbf', 'iurrygf', 'XYZ', '546780000'),\n",
       " (1006, 'iuehrf', 'irufhf', 'ABC', '9876540000')]"
      ]
     },
     "execution_count": 18,
     "metadata": {},
     "output_type": "execute_result"
    }
   ],
   "source": [
    "cursor.execute(\"select * from iNeuron.emp\")\n",
    "cursor.fetchall()"
   ]
  },
  {
   "cell_type": "code",
   "execution_count": 32,
   "metadata": {},
   "outputs": [
    {
     "data": {
      "text/plain": [
       "[(1005, 'iruyugbf', 'iurrygf', 'XYZ', '546780000')]"
      ]
     },
     "execution_count": 32,
     "metadata": {},
     "output_type": "execute_result"
    }
   ],
   "source": [
    "# Q-3. Write an SQL query to fetch nth max salaries from a table.\n",
    "# n=3\n",
    "cursor.execute(\"SELECT * FROM iNeuron.emp Emp1 WHERE (3)=(SELECT COUNT(DISTINCT(Emp2.emp_sal))FROM iNeuron.emp Emp2 WHERE Emp2.emp_sal >= Emp1.emp_sal)\")\n",
    "cursor.fetchall()"
   ]
  }
 ],
 "metadata": {
  "kernelspec": {
   "display_name": "Python 3",
   "language": "python",
   "name": "python3"
  },
  "language_info": {
   "codemirror_mode": {
    "name": "ipython",
    "version": 3
   },
   "file_extension": ".py",
   "mimetype": "text/x-python",
   "name": "python",
   "nbconvert_exporter": "python",
   "pygments_lexer": "ipython3",
   "version": "3.8.5"
  }
 },
 "nbformat": 4,
 "nbformat_minor": 4
}
