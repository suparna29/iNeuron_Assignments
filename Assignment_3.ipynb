{
  "nbformat": 4,
  "nbformat_minor": 0,
  "metadata": {
    "colab": {
      "name": "Untitled0.ipynb",
      "provenance": []
    },
    "kernelspec": {
      "name": "python3",
      "display_name": "Python 3"
    },
    "language_info": {
      "name": "python"
    }
  },
  "cells": [
    {
      "cell_type": "code",
      "metadata": {
        "id": "F8D6wc8-GLbe"
      },
      "source": [
        ""
      ],
      "execution_count": null,
      "outputs": []
    },
    {
      "cell_type": "markdown",
      "metadata": {
        "id": "ia0FTQ2EoZfL"
      },
      "source": [
        "1. Why are functions advantageous to have in your programs?\n",
        "Ans: A function is almost like a mini-program that we can write separately from the main program. Function allows to reduce a complicated program into smaller, more manageable chunks which reduces the overall complexity of the program.\n",
        "\n",
        "2. When does the code in a function run: when it's specified or when it's called?\n",
        "Ans: When it's called.\n",
        "\n",
        "3. What statement creates a function?\n",
        "Ans: A statement that executes a function. It consists of the name of the function followed by a list of arguments enclosed in parentheses. Using the output from one function call as the input to another. A statement that creates a new function, specifying its name, parameters, and the statements it executes\n",
        "\n",
        "4. What is the difference between a function and a function call?\n",
        "Ans: A function is procedure to achieve a particular result while function call is using this function to achive that task\n",
        "\n",
        "5. How many global scopes are there in a Python program? How many local scopes?\n",
        "Ans: 1 global scope, 1 local scope\n",
        "\n",
        "6. What happens to variables in a local scope when the function call returns?\n",
        "Ans: A local variable retains its value until the next time the function is called. A local variable becomes undefined after the function call completes. The local variable can be used outside the function any time after the function call completes.\n",
        "\n",
        "7. What is the concept of a return value? Is it possible to have a return value in an expression?\n",
        "Ans: A return is a value that a function returns to the calling script or function when it completes its task.\n",
        "If the return value is a numeric value, you can use that value in a math expression or any other kind of expression in which the value has a logical meaning.\n",
        "\n",
        "8. If a function does not have a return statement, what is the return value of a call to that function?\n",
        "Ans: If no return statement appears in a function definition, control automatically returns to the calling function after the last statement of the called function is executed. In this case, the return value of the called function is undefined\n",
        "\n",
        "9. How do you make a function variable refer to the global variable?\n",
        "Ans: Global variables can be used by everyone, both inside and outside of functions.\n",
        "\n",
        "10. What is the data type of None?\n",
        "Ans: NoneType\n",
        "\n",
        "11. What does the sentence import areallyourpetsnamederic do?\n",
        "Ans: It tries to import a module named areallyourpetsnamederic\n",
        "\n",
        "12. If you had a bacon() feature in a spam module, what would you call it after importing spam?\n",
        "Ans: spam.bacon()\n",
        "\n",
        "13. What can you do to save a programme from crashing if it encounters an error?\n",
        "Ans: Take a screeenshot of the program\n",
        "\n",
        "14. What is the purpose of the try clause? What is the purpose of the except clause?\n",
        "Ans: The try and except block in Python is used to catch and handle exceptions. Python executes code following the try statement as a normal part of the program. The code that follows the except statement is the program's response to any exceptions in the preceding try clause."
      ]
    }
  ]
}