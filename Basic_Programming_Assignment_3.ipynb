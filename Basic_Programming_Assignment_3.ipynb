{
  "nbformat": 4,
  "nbformat_minor": 0,
  "metadata": {
    "colab": {
      "name": "Basic_Programming_Assignment_3.ipynb",
      "provenance": [],
      "collapsed_sections": []
    },
    "kernelspec": {
      "name": "python3",
      "display_name": "Python 3"
    },
    "language_info": {
      "name": "python"
    }
  },
  "cells": [
    {
      "cell_type": "code",
      "metadata": {
        "colab": {
          "base_uri": "https://localhost:8080/"
        },
        "id": "fzU7kPxDXbEV",
        "outputId": "077c43b7-e294-44f8-ed09-4c3bfbe41e1a"
      },
      "source": [
        "# 1. Write a Python Program to Check if a Number is Positive, Negative or Zero?\n",
        "\n",
        "a = float(input(\"Enter a number: \"))\n",
        "if a > 0:\n",
        "  print(\"Value entered is a positive number\")\n",
        "elif a < 0:\n",
        "  print(\"Value enterted is a negetive number \")\n",
        "else:\n",
        "  print(\"Value entered is Zero\")\n",
        "  "
      ],
      "execution_count": 21,
      "outputs": [
        {
          "output_type": "stream",
          "text": [
            "Enter a number: 89\n",
            "Value entered is a positive number\n"
          ],
          "name": "stdout"
        }
      ]
    },
    {
      "cell_type": "code",
      "metadata": {
        "colab": {
          "base_uri": "https://localhost:8080/"
        },
        "id": "Dmrxm7UYXbJ0",
        "outputId": "ca3baecb-7bd2-4932-e998-5dd4a69f0202"
      },
      "source": [
        "# 2.Write a Python Program to Check if a Number is Odd or Even?\n",
        "a = float(input(\"Enter a number: \"))\n",
        "if a % 2 == 0:\n",
        "  print(\"The number is a Even number.\")\n",
        "else :\n",
        "  print(\"The number is an odd number.\")\n"
      ],
      "execution_count": 24,
      "outputs": [
        {
          "output_type": "stream",
          "text": [
            "Enter a number: 67\n",
            "The number is an odd number.\n"
          ],
          "name": "stdout"
        }
      ]
    },
    {
      "cell_type": "code",
      "metadata": {
        "colab": {
          "base_uri": "https://localhost:8080/"
        },
        "id": "bXyoOCxSXbMs",
        "outputId": "36bdd8f5-57c8-487f-f686-00902a8a96f4"
      },
      "source": [
        "# 3. Write a Python Program to Check Leap Year?\n",
        "yyyy = int(input(\"Enter a year to check if it is Leap year or not: \"))\n",
        "if yyyy % 4 == 0:\n",
        "  print(\"This year is leap year\")\n",
        "else:\n",
        "  print(\"This year is not a leap year\")"
      ],
      "execution_count": 26,
      "outputs": [
        {
          "output_type": "stream",
          "text": [
            "Enter a year to check if it is Leap year or not: 2014\n",
            "This year is not a leap year\n"
          ],
          "name": "stdout"
        }
      ]
    },
    {
      "cell_type": "code",
      "metadata": {
        "colab": {
          "base_uri": "https://localhost:8080/"
        },
        "id": "IykYfBLRXage",
        "outputId": "056fbed9-b7a3-4c3e-88a9-80d4393d8ae1"
      },
      "source": [
        "# 4. Write a Python Program to Check Prime Number?\n",
        "num = int(input(\"Enter a number to check if prime or not: \"))\n",
        "if num > 1:\n",
        "  # Iterate from 2 to n / 2\n",
        "  for i in range(2, int(num/2)):\n",
        "    # If num is divisible by any number between 2 and (n / 2), it is not prime\n",
        "    if num % i == 0:\n",
        "      print(num,\"is not a prime number\")\n",
        "      break\n",
        "  else:\n",
        "      print(num,\"is a prime number\")\n",
        "\n",
        "\n"
      ],
      "execution_count": 56,
      "outputs": [
        {
          "output_type": "stream",
          "text": [
            "Enter a number to check if prime or not: 37\n",
            "37 is a prime number\n"
          ],
          "name": "stdout"
        }
      ]
    },
    {
      "cell_type": "code",
      "metadata": {
        "colab": {
          "base_uri": "https://localhost:8080/"
        },
        "id": "tgOoHQe5mRIi",
        "outputId": "8de2a897-d1c3-4cb9-dccc-b9cfc942f721"
      },
      "source": [
        "# 5. Write a Python Program to Print all Prime Numbers in an Interval of 1-10000?\n",
        "a = int(input(\"Enter lower range: \"))\n",
        "b = int(input(\"Enter upper range: \"))\n",
        "for num in range (a, b+1):\n",
        "  for i in range (2, num):\n",
        "    if num % i == 0:\n",
        "      break\n",
        "  else:\n",
        "    print(num)\n"
      ],
      "execution_count": 62,
      "outputs": [
        {
          "output_type": "stream",
          "text": [
            "Enter lower range: 1\n",
            "Enter upper range: 10\n",
            "1\n",
            "2\n",
            "3\n",
            "5\n",
            "7\n"
          ],
          "name": "stdout"
        }
      ]
    },
    {
      "cell_type": "code",
      "metadata": {
        "id": "dt_bn0wVmRUo"
      },
      "source": [
        ""
      ],
      "execution_count": null,
      "outputs": []
    }
  ]
}