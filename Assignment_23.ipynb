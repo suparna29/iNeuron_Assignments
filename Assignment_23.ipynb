{
 "cells": [
  {
   "cell_type": "code",
   "execution_count": 10,
   "metadata": {},
   "outputs": [
    {
     "name": "stdout",
     "output_type": "stream",
     "text": [
      "1 2 8\n"
     ]
    }
   ],
   "source": [
    "# 1.What is the result of the code, and why? \n",
    "\n",
    "def func(a, b=6, c=8): \n",
    "    print(a, b, c)\n",
    "func(1, 2)\n",
    "# passing value inside fun() as 1,2 is assigning value in a,overwriting value of b and not doing anything with c value"
   ]
  },
  {
   "cell_type": "code",
   "execution_count": 11,
   "metadata": {},
   "outputs": [
    {
     "name": "stdout",
     "output_type": "stream",
     "text": [
      "1 2 3\n"
     ]
    }
   ],
   "source": [
    "# 2.What is the result of this code, and why?\n",
    "def func(a, b, c=5):\n",
    "    print(a, b, c)\n",
    "func(1, c=3, b=2)\n",
    "# passing value inside fun() as 1, c=3, b=2 is assigning value in a,b and overwriting value of c"
   ]
  },
  {
   "cell_type": "code",
   "execution_count": 22,
   "metadata": {},
   "outputs": [
    {
     "name": "stdout",
     "output_type": "stream",
     "text": [
      "1 (2, 3)\n"
     ]
    }
   ],
   "source": [
    "# 3.How about this code: what is its result, and why?\n",
    "def func(a, *pargs): \n",
    "    print(a, pargs)\n",
    "func(1, 2, 3)\n",
    "# we use *args to pass more number of arguments in the function"
   ]
  },
  {
   "cell_type": "code",
   "execution_count": 13,
   "metadata": {},
   "outputs": [
    {
     "name": "stdout",
     "output_type": "stream",
     "text": [
      "1 {'c': 3, 'b': 2}\n"
     ]
    }
   ],
   "source": [
    "# 4.What does this code print, and why?\n",
    "def func(a, **kargs): \n",
    "    print(a, kargs)\n",
    "func(a=1, c=3, b=2)\n",
    "# **kwargs we use to pass more number of arguments in key value pair in the functions."
   ]
  },
  {
   "cell_type": "code",
   "execution_count": 23,
   "metadata": {},
   "outputs": [
    {
     "name": "stdout",
     "output_type": "stream",
     "text": [
      "1 5 6 5\n"
     ]
    }
   ],
   "source": [
    "# 5.What gets printed by this, and explain?\n",
    "def func(a, b, c=8, d=5):\n",
    "    print(a, b, c, d)\n",
    "func(1, *(5, 6))"
   ]
  },
  {
   "cell_type": "code",
   "execution_count": 32,
   "metadata": {},
   "outputs": [
    {
     "data": {
      "text/plain": [
       "(1, ['x'], {'a': 'y'})"
      ]
     },
     "execution_count": 32,
     "metadata": {},
     "output_type": "execute_result"
    }
   ],
   "source": [
    "# 6.what is the result of this, and explain?\n",
    "def func(a, b, c): \n",
    "    a = 2 \n",
    "    b[0] = 'x'\n",
    "    c['a'] = 'y'\n",
    "l=1 \n",
    "m=[1] \n",
    "n={'a':0}\n",
    "func(l, m, n)\n",
    "l, m, n\n",
    "    "
   ]
  },
  {
   "cell_type": "code",
   "execution_count": null,
   "metadata": {},
   "outputs": [],
   "source": []
  }
 ],
 "metadata": {
  "kernelspec": {
   "display_name": "Python 3",
   "language": "python",
   "name": "python3"
  },
  "language_info": {
   "codemirror_mode": {
    "name": "ipython",
    "version": 3
   },
   "file_extension": ".py",
   "mimetype": "text/x-python",
   "name": "python",
   "nbconvert_exporter": "python",
   "pygments_lexer": "ipython3",
   "version": "3.8.5"
  }
 },
 "nbformat": 4,
 "nbformat_minor": 4
}
