{
 "cells": [
  {
   "cell_type": "code",
   "execution_count": null,
   "metadata": {},
   "outputs": [],
   "source": [
    "Q1. Describe three applications for exception processing\n",
    "Ans:\n",
    "SystemExit: Raised by sys.exit() function.\n",
    "TypeError: Raised when a function or operation is applied to an object of incorrect type.\n",
    "UnboundLocalError: Raised when a reference is made to a local variable in a function or method, but no value has been bound\n",
    "to that variable."
   ]
  },
  {
   "cell_type": "code",
   "execution_count": null,
   "metadata": {},
   "outputs": [],
   "source": [
    "Q2. What happens if you don't do something extra to treat an exception?\n",
    "Ans:\n",
    "When an exception occurrs, if we don't handle it, the program terminates abruptly and the code passed the line that caused\n",
    "the exception will not get executed."
   ]
  },
  {
   "cell_type": "code",
   "execution_count": null,
   "metadata": {},
   "outputs": [],
   "source": [
    "Q3. What are your options for recovering from an exception in your script?\n",
    "Ans:\n",
    "try/except: catch the error and recover from exceptions hoist by programmers or Python itself.\n",
    "try/finally: Whether exception occurs or not, it automatically performs the clean-up action.\n",
    "assert: triggers an exception conditionally in the code.\n",
    "raise: manually triggers an exception in the code.\n",
    "with/as: implement context managers in older versions of Python such as - Python 2.6 & Python 3.0."
   ]
  },
  {
   "cell_type": "code",
   "execution_count": null,
   "metadata": {},
   "outputs": [],
   "source": [
    "Q4. Describe two methods for triggering exceptions in your script.\n",
    "Ans:\n",
    "A single try statement can have multiple except statements.\n",
    "We can also provide a generic except clause which handles any exception.\n",
    "After the except clause(s), we can include an else-clause.\n",
    "The else-block is a good place for code that does not need the try: block's protection."
   ]
  },
  {
   "cell_type": "code",
   "execution_count": 2,
   "metadata": {},
   "outputs": [
    {
     "name": "stdout",
     "output_type": "stream",
     "text": [
      "enter the first number: 7\n",
      "enter the second number: 0\n",
      "There is some issue wth my code division by zero\n"
     ]
    }
   ],
   "source": [
    "# Q5. Identify two methods for specifying actions to be executed at termination time, regardless of whether or not an exception exists.\n",
    "\n",
    "try:\n",
    "    a = int(input(\"enter the first number: \"))\n",
    "    b = int(input(\"enter the second number: \"))\n",
    "    c = a/b\n",
    "except ArithmeticError as e:\n",
    "    print(\"There is some issue wth my code\", e)\n",
    "    f= open(\"test.txt\", 'w+')\n",
    "    f.read()\n",
    "else: \n",
    "    print(\"this will execute once try will execute with sucess \")\n",
    "    \n",
    "    try:\n",
    "        f = open(\"test.txt\",'r')\n",
    "    except: \n",
    "        print(\"this is the issue with internal try block\")"
   ]
  },
  {
   "cell_type": "code",
   "execution_count": null,
   "metadata": {},
   "outputs": [],
   "source": []
  }
 ],
 "metadata": {
  "kernelspec": {
   "display_name": "Python 3",
   "language": "python",
   "name": "python3"
  },
  "language_info": {
   "codemirror_mode": {
    "name": "ipython",
    "version": 3
   },
   "file_extension": ".py",
   "mimetype": "text/x-python",
   "name": "python",
   "nbconvert_exporter": "python",
   "pygments_lexer": "ipython3",
   "version": "3.8.5"
  }
 },
 "nbformat": 4,
 "nbformat_minor": 4
}
