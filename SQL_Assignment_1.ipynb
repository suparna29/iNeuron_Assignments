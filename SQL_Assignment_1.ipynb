{
 "cells": [
  {
   "cell_type": "code",
   "execution_count": 21,
   "metadata": {},
   "outputs": [
    {
     "name": "stdout",
     "output_type": "stream",
     "text": [
      "True\n",
      "Database Created!!\n",
      "Table Created!!\n",
      "DATA Inserted!!\n"
     ]
    }
   ],
   "source": [
    "## Q-1. Write an SQL query to fetch “FIRST_NAME” from Worker table using the alias name as <WORKER_NAME>\n",
    "\n",
    "# Connect To DB Code:\n",
    "import mysql.connector as connection\n",
    "\n",
    "try:\n",
    "    mydb = connection.connect(host=\"localhost\", user=\"root\", passwd=\"Mohor@123\",use_pure=True)\n",
    "    # check if the connection is established\n",
    "    print(mydb.is_connected())\n",
    "    \n",
    "#create DB\n",
    "    query = \"Create database iNeuron;\"\n",
    "    cursor = mydb.cursor()\n",
    "    cursor.execute(query)\n",
    "    print(\"Database Created!!\")\n",
    "#create table\n",
    "    query = \"CREATE TABLE iNeuron.Worker (Worker_ID int(20) PRIMARY KEY, First_Name VARCHAR(60),Last_Name VARCHAR(60), Department VARCHAR(60), Worker_Alias_Name VARCHAR(60))\"\n",
    "    cursor = mydb.cursor()\n",
    "    cursor.execute(query)\n",
    "    print(\"Table Created!!\")\n",
    "#insert values\n",
    "    cursor.execute(\"INSERT INTO iNeuron.Worker VALUES ('1000','Sachin','Kumar','XYZ','aaa')\")\n",
    "    cursor.execute(\"INSERT INTO iNeuron.Worker VALUES ('1001','Tanhi','Kumari','ABC','bbb')\")\n",
    "    cursor.execute(\"INSERT INTO iNeuron.Worker VALUES ('1002','jfhg','jhfgg','ABC','ccc')\")\n",
    "    cursor.execute(\"INSERT INTO iNeuron.Worker VALUES ('1003','bfhjdk','jrhydgf','XYZ','ddd')\")\n",
    "    cursor.execute(\"INSERT INTO iNeuron.Worker VALUES ('1004','euegeg','fhhffg','XYZ','eee')\")\n",
    "    cursor.execute(\"INSERT INTO iNeuron.Worker VALUES ('1005','iruyugbf','iurrygf','XYZ','fff')\")\n",
    "    cursor.execute(\"INSERT INTO iNeuron.Worker VALUES ('1006','iuehrf','irufhf','ABC','ggg')\")\n",
    "    mydb.commit()\n",
    "    print(\"DATA Inserted!!\")\n",
    "except Exception as e:\n",
    "    print(str(e))\n"
   ]
  },
  {
   "cell_type": "code",
   "execution_count": 25,
   "metadata": {},
   "outputs": [
    {
     "data": {
      "text/plain": [
       "[(1000, 'Sachin', 'Kumar', 'XYZ', 'aaa'),\n",
       " (1001, 'Tanhi', 'Kumari', 'ABC', 'bbb'),\n",
       " (1002, 'jfhg', 'jhfgg', 'ABC', 'ccc'),\n",
       " (1003, 'bfhjdk', 'jrhydgf', 'XYZ', 'ddd'),\n",
       " (1004, 'euegeg', 'fhhffg', 'XYZ', 'eee'),\n",
       " (1005, 'iruyugbf', 'iurrygf', 'XYZ', 'fff'),\n",
       " (1006, 'iuehrf', 'irufhf', 'ABC', 'ggg')]"
      ]
     },
     "execution_count": 25,
     "metadata": {},
     "output_type": "execute_result"
    }
   ],
   "source": [
    "cursor.execute(\"select * from iNeuron.Worker\")\n",
    "cursor.fetchall()"
   ]
  },
  {
   "cell_type": "code",
   "execution_count": 26,
   "metadata": {},
   "outputs": [
    {
     "data": {
      "text/plain": [
       "[('bfhjdk',)]"
      ]
     },
     "execution_count": 26,
     "metadata": {},
     "output_type": "execute_result"
    }
   ],
   "source": [
    "#fetch firstname \n",
    "cursor.execute(\"select First_name from iNeuron.Worker where Worker_Alias_Name = 'ddd'\")\n",
    "cursor.fetchall()"
   ]
  },
  {
   "cell_type": "code",
   "execution_count": 27,
   "metadata": {},
   "outputs": [
    {
     "data": {
      "text/plain": [
       "[('XYZ',), ('ABC',)]"
      ]
     },
     "execution_count": 27,
     "metadata": {},
     "output_type": "execute_result"
    }
   ],
   "source": [
    "## Q-2. Write an SQL query to fetch unique values of DEPARTMENT from Worker table. \n",
    "cursor.execute(\"select DISTINCT department from iNeuron.Worker\")\n",
    "cursor.fetchall()"
   ]
  },
  {
   "cell_type": "code",
   "execution_count": 28,
   "metadata": {},
   "outputs": [
    {
     "data": {
      "text/plain": [
       "[(1002, 'jfhg', 'jhfgg', 'ABC', 'ccc'),\n",
       " (1003, 'bfhjdk', 'jrhydgf', 'XYZ', 'ddd'),\n",
       " (1004, 'euegeg', 'fhhffg', 'XYZ', 'eee'),\n",
       " (1005, 'iruyugbf', 'iurrygf', 'XYZ', 'fff'),\n",
       " (1006, 'iuehrf', 'irufhf', 'ABC', 'ggg')]"
      ]
     },
     "execution_count": 28,
     "metadata": {},
     "output_type": "execute_result"
    }
   ],
   "source": [
    "## Q-3. Write an SQL query to show the last 5 record from a table.\n",
    "cursor.execute(\"SELECT * FROM (SELECT * FROM iNeuron.Worker ORDER BY Worker_ID DESC LIMIT 5)Var1 ORDER BY Worker_ID ASC;\")\n",
    "cursor.fetchall()"
   ]
  },
  {
   "cell_type": "code",
   "execution_count": null,
   "metadata": {},
   "outputs": [],
   "source": []
  }
 ],
 "metadata": {
  "kernelspec": {
   "display_name": "Python 3",
   "language": "python",
   "name": "python3"
  },
  "language_info": {
   "codemirror_mode": {
    "name": "ipython",
    "version": 3
   },
   "file_extension": ".py",
   "mimetype": "text/x-python",
   "name": "python",
   "nbconvert_exporter": "python",
   "pygments_lexer": "ipython3",
   "version": "3.8.5"
  }
 },
 "nbformat": 4,
 "nbformat_minor": 4
}
