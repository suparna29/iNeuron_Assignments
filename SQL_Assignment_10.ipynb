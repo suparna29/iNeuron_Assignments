{
 "cells": [
  {
   "cell_type": "code",
   "execution_count": 10,
   "metadata": {},
   "outputs": [
    {
     "data": {
      "text/plain": [
       "[(1000, 'Rahul', 'ujuuu', 'XYZ', '540000'),\n",
       " (1001, 'Janvi', 'Ktyuiu', 'ABC', '5403450'),\n",
       " (1002, 'Tara', 'jhfgg', 'ABC', '540456000'),\n",
       " (1003, 'Ullash', 'jrhydgf', 'XYZ', '345540000'),\n",
       " (1004, 'Hunny', 'fhhffg', 'XYZ', '78540000'),\n",
       " (1005, 'Tiyasha', 'iurrygf', 'XYZ', '546780000'),\n",
       " (1006, 'Jaggu', 'irufhf', 'ABC', '9876540000'),\n",
       " (1007, 'Sachin', 'ujuuu', 'XYZ', '540000'),\n",
       " (1008, 'Tanhi', 'Ktyuiu', 'ABC', '5403450'),\n",
       " (1009, 'jfhg', 'jhfgg', 'ABC', '540456000'),\n",
       " (10010, 'bfhjdk', 'jrhydgf', 'XYZ', '345540000'),\n",
       " (10011, 'euegeg', 'fhhffg', 'XYZ', '78540000'),\n",
       " (10012, 'iruyugbf', 'iurrygf', 'XYZ', '546780000'),\n",
       " (10013, 'iuehrf', 'irufhf', 'ABC', '9876540000')]"
      ]
     },
     "execution_count": 10,
     "metadata": {},
     "output_type": "execute_result"
    }
   ],
   "source": [
    "import mysql.connector as connection\n",
    "mydb = connection.connect(host=\"localhost\", user=\"root\", passwd=\"Mohor@123\",use_pure=True)\n",
    "cursor= mydb.cursor()\n",
    "cursor.execute(\"SELECT * FROM iNeuron.emp;\")\n",
    "cursor.fetchall()"
   ]
  },
  {
   "cell_type": "code",
   "execution_count": 2,
   "metadata": {},
   "outputs": [
    {
     "data": {
      "text/plain": [
       "[(1004, 'euegeg', 'fhhffg', 'XYZ', '78540000')]"
      ]
     },
     "execution_count": 2,
     "metadata": {},
     "output_type": "execute_result"
    }
   ],
   "source": [
    "# Q-19. Write an SQL query to determine the 5th highest salary without using TOP or limit method\n",
    "\n",
    "cursor.execute(\"SELECT * FROM iNeuron.emp Emp1 WHERE (5)=(SELECT COUNT(DISTINCT(Emp2.emp_sal))FROM iNeuron.emp Emp2 WHERE Emp2.emp_sal >= Emp1.emp_sal)\")\n",
    "cursor.fetchall()"
   ]
  },
  {
   "cell_type": "code",
   "execution_count": 3,
   "metadata": {},
   "outputs": [
    {
     "name": "stdout",
     "output_type": "stream",
     "text": [
      "Table Created!!\n"
     ]
    }
   ],
   "source": [
    "cursor.execute(\"CREATE TABLE iNeuron.empsame LIKE iNeuron.emp;\")\n",
    "print(\"Table Created!!\")"
   ]
  },
  {
   "cell_type": "code",
   "execution_count": 5,
   "metadata": {},
   "outputs": [
    {
     "name": "stdout",
     "output_type": "stream",
     "text": [
      "DATA Inserted!!\n"
     ]
    }
   ],
   "source": [
    "cursor.execute(\"INSERT INTO iNeuron.empsame VALUES ('1007','Sachin','ujuuu','XYZ',540000)\")\n",
    "cursor.execute(\"INSERT INTO iNeuron.empsame VALUES ('1008','Tanhi','Ktyuiu','ABC',5403450)\")\n",
    "cursor.execute(\"INSERT INTO iNeuron.empsame VALUES ('1009','jfhg','jhfgg','ABC',540456000)\")\n",
    "cursor.execute(\"INSERT INTO iNeuron.empsame VALUES ('10010','bfhjdk','jrhydgf','XYZ',345540000)\")\n",
    "cursor.execute(\"INSERT INTO iNeuron.empsame VALUES ('10011','euegeg','fhhffg','XYZ',78540000)\")\n",
    "cursor.execute(\"INSERT INTO iNeuron.empsame VALUES ('10012','iruyugbf','iurrygf','XYZ',546780000)\")\n",
    "cursor.execute(\"INSERT INTO iNeuron.empsame VALUES ('10013','iuehrf','irufhf','ABC',9876540000)\")\n",
    "mydb.commit()\n",
    "print(\"DATA Inserted!!\")"
   ]
  },
  {
   "cell_type": "code",
   "execution_count": 11,
   "metadata": {},
   "outputs": [
    {
     "data": {
      "text/plain": [
       "[(1000, 'Rahul', 'ujuuu', 'XYZ', '540000'),\n",
       " (1001, 'Janvi', 'Ktyuiu', 'ABC', '5403450'),\n",
       " (1002, 'Tara', 'jhfgg', 'ABC', '540456000'),\n",
       " (1003, 'Ullash', 'jrhydgf', 'XYZ', '345540000'),\n",
       " (1004, 'Hunny', 'fhhffg', 'XYZ', '78540000'),\n",
       " (1005, 'Tiyasha', 'iurrygf', 'XYZ', '546780000'),\n",
       " (1006, 'Jaggu', 'irufhf', 'ABC', '9876540000'),\n",
       " (1007, 'Sachin', 'ujuuu', 'XYZ', '540000'),\n",
       " (1008, 'Tanhi', 'Ktyuiu', 'ABC', '5403450'),\n",
       " (1009, 'jfhg', 'jhfgg', 'ABC', '540456000'),\n",
       " (10010, 'bfhjdk', 'jrhydgf', 'XYZ', '345540000'),\n",
       " (10011, 'euegeg', 'fhhffg', 'XYZ', '78540000'),\n",
       " (10012, 'iruyugbf', 'iurrygf', 'XYZ', '546780000'),\n",
       " (10013, 'iuehrf', 'irufhf', 'ABC', '9876540000')]"
      ]
     },
     "execution_count": 11,
     "metadata": {},
     "output_type": "execute_result"
    }
   ],
   "source": [
    "cursor.execute(\"SELECT * FROM iNeuron.empsame\")\n",
    "cursor.fetchall()"
   ]
  },
  {
   "cell_type": "code",
   "execution_count": 13,
   "metadata": {},
   "outputs": [
    {
     "data": {
      "text/plain": [
       "[('Jaggu', '9876540000'),\n",
       " ('iuehrf', '9876540000'),\n",
       " ('Hunny', '78540000'),\n",
       " ('euegeg', '78540000'),\n",
       " ('Tiyasha', '546780000'),\n",
       " ('iruyugbf', '546780000'),\n",
       " ('Tara', '540456000'),\n",
       " ('jfhg', '540456000'),\n",
       " ('Janvi', '5403450'),\n",
       " ('Tanhi', '5403450'),\n",
       " ('Rahul', '540000'),\n",
       " ('Sachin', '540000'),\n",
       " ('Ullash', '345540000'),\n",
       " ('bfhjdk', '345540000')]"
      ]
     },
     "execution_count": 13,
     "metadata": {},
     "output_type": "execute_result"
    }
   ],
   "source": [
    "# Q-20. Write an SQL query to fetch the list of employees with the same salary.\n",
    "\n",
    "cursor.execute(\"SELECT emp_name, emp_sal From (SELECT emp_name, emp_sal, Count(*) Over (Partition by emp_sal) as SalaryCnt FROM iNeuron.empsame) S1 WHERE SalaryCnt>1 ORDER By emp_sal Desc\")\n",
    "cursor.fetchall()"
   ]
  },
  {
   "cell_type": "code",
   "execution_count": null,
   "metadata": {},
   "outputs": [],
   "source": []
  }
 ],
 "metadata": {
  "kernelspec": {
   "display_name": "Python 3",
   "language": "python",
   "name": "python3"
  },
  "language_info": {
   "codemirror_mode": {
    "name": "ipython",
    "version": 3
   },
   "file_extension": ".py",
   "mimetype": "text/x-python",
   "name": "python",
   "nbconvert_exporter": "python",
   "pygments_lexer": "ipython3",
   "version": "3.8.5"
  }
 },
 "nbformat": 4,
 "nbformat_minor": 4
}
