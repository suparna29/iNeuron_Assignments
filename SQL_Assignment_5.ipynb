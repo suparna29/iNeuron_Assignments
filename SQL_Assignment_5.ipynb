{
 "cells": [
  {
   "cell_type": "code",
   "execution_count": 5,
   "metadata": {},
   "outputs": [
    {
     "name": "stdout",
     "output_type": "stream",
     "text": [
      "True\n",
      "DATA Inserted!!\n"
     ]
    },
    {
     "data": {
      "text/plain": [
       "[(100, 'Amitabh', 'Finda', 'ABC', 'ami'),\n",
       " (1000, 'Sachin', 'Kumar', 'XYZ', 'aaa'),\n",
       " (1001, 'Tanhi', 'Kumari', 'ABC', 'bbb'),\n",
       " (1002, 'jfhg', 'jhfgg', 'ABC', 'ccc'),\n",
       " (1003, 'bfhjdk', 'jrhydgf', 'XYZ', 'ddd'),\n",
       " (1004, 'euegeg', 'fhhffg', 'XYZ', 'eee'),\n",
       " (1005, 'iruyugbf', 'iurrygf', 'XYZ', 'fff'),\n",
       " (1006, 'iuehrf', 'irufhf', 'ABC', 'ggg'),\n",
       " (2000, 'Vipul', 'sdfghj', 'ABC', 'aaa'),\n",
       " (2001, 'Satish', 'qwerty', 'XYZ', 'zzz'),\n",
       " (2003, 'Vipul', 'sdfghj', 'ABC', 'aaa'),\n",
       " (2004, 'Satish', 'qwerty', 'XYZ', 'zzz'),\n",
       " (10007, 'Amitabh', 'Finda', 'ABC', 'ami')]"
      ]
     },
     "execution_count": 5,
     "metadata": {},
     "output_type": "execute_result"
    }
   ],
   "source": [
    "# establish connection\n",
    "import mysql.connector as connection\n",
    "mydb = connection.connect(host=\"localhost\", user=\"root\", passwd=\"Mohor@123\",use_pure=True)\n",
    "# check if the connection is established\n",
    "print(mydb.is_connected())\n",
    "\n",
    "# insert data\n",
    "cursor = mydb.cursor()\n",
    "cursor.execute(\"INSERT INTO iNeuron.Worker VALUES ('2003','Vipul','sdfghj','ABC','aaa')\")\n",
    "cursor.execute(\"INSERT INTO iNeuron.Worker VALUES ('2004','Satish','qwerty','XYZ','zzz')\")\n",
    "mydb.commit()\n",
    "print(\"DATA Inserted!!\")\n",
    "\n",
    "# fetch data\n",
    "cursor.execute(\"select * from iNeuron.Worker\")\n",
    "cursor.fetchall()"
   ]
  },
  {
   "cell_type": "code",
   "execution_count": 8,
   "metadata": {},
   "outputs": [
    {
     "data": {
      "text/plain": [
       "[(100, 'Amitabh', 'Finda', 'ABC', 'ami'),\n",
       " (1000, 'Sachin', 'Kumar', 'XYZ', 'aaa'),\n",
       " (1001, 'Tanhi', 'Kumari', 'ABC', 'bbb'),\n",
       " (1002, 'jfhg', 'jhfgg', 'ABC', 'ccc'),\n",
       " (1003, 'bfhjdk', 'jrhydgf', 'XYZ', 'ddd'),\n",
       " (1004, 'euegeg', 'fhhffg', 'XYZ', 'eee'),\n",
       " (1005, 'iruyugbf', 'iurrygf', 'XYZ', 'fff'),\n",
       " (1006, 'iuehrf', 'irufhf', 'ABC', 'ggg'),\n",
       " (10007, 'Amitabh', 'Finda', 'ABC', 'ami')]"
      ]
     },
     "execution_count": 8,
     "metadata": {},
     "output_type": "execute_result"
    }
   ],
   "source": [
    "# Q-1. Write an SQL query to print details of workers excluding first names, “Vipul” and “Satish” from Worker table.\n",
    "cursor.execute(\"SELECT * FROM iNeuron.Worker WHERE first_name NOT IN ('Vipul', 'Satish')\")\n",
    "cursor.fetchall()"
   ]
  },
  {
   "cell_type": "code",
   "execution_count": 10,
   "metadata": {},
   "outputs": [
    {
     "data": {
      "text/plain": [
       "[(100, 'Amitabh', 'Finda', 'ABC', 'ami'),\n",
       " (2001, 'Satish', 'qwerty', 'XYZ', 'zzz'),\n",
       " (2004, 'Satish', 'qwerty', 'XYZ', 'zzz'),\n",
       " (10007, 'Amitabh', 'Finda', 'ABC', 'ami')]"
      ]
     },
     "execution_count": 10,
     "metadata": {},
     "output_type": "execute_result"
    }
   ],
   "source": [
    "# Q-2. Write an SQL query to print details of the Workers whose FIRST_NAME ends with ‘h’ and contains six alphabets.\n",
    "cursor.execute(\"SELECT * FROM iNeuron.worker WHERE first_name LIKE '%h'\")\n",
    "cursor.fetchall()"
   ]
  },
  {
   "cell_type": "code",
   "execution_count": 15,
   "metadata": {},
   "outputs": [
    {
     "name": "stdout",
     "output_type": "stream",
     "text": [
      "Table Created!!\n",
      "DATA Inserted!!\n"
     ]
    }
   ],
   "source": [
    "#create new emailvalidation table\n",
    "query = \"CREATE TABLE iNeuron.EmailVal (ID int(20) PRIMARY KEY, Name VARCHAR(60),Email VARCHAR(60), PhoneNo VARCHAR(60))\"\n",
    "cursor = mydb.cursor()\n",
    "cursor.execute(query)\n",
    "print(\"Table Created!!\")\n",
    "\n",
    "#insert values\n",
    "cursor.execute(\"INSERT INTO iNeuron.EmailVal VALUES (1, 'Superman', 'superman@kmail.com', '(655) 981-4455')\")\n",
    "cursor.execute(\"INSERT INTO iNeuron.EmailVal VALUES (2, 'Batman', 'batmankmail.com', '6a5-981-4455')\")\n",
    "cursor.execute(\"INSERT INTO iNeuron.EmailVal VALUES (3, 'Spiderman', 'spiderman@com', '657-8154455')\")\n",
    "cursor.execute(\"INSERT INTO iNeuron.EmailVal VALUES (4, 'Flash Gordon', 'flashgordon@com', '(99) 981-44555')\")\n",
    "cursor.execute(\"INSERT INTO iNeuron.EmailVal VALUES (5, 'Phantom', 'phantom.test@gmail.com', '(999) 981-4455')\")\n",
    "mydb.commit()\n",
    "print(\"DATA Inserted!!\")\n"
   ]
  },
  {
   "cell_type": "code",
   "execution_count": 18,
   "metadata": {},
   "outputs": [
    {
     "data": {
      "text/plain": [
       "[(1, 'Superman', 'superman@kmail.com', '(655) 981-4455'),\n",
       " (2, 'Batman', 'batmankmail.com', '6a5-981-4455'),\n",
       " (3, 'Spiderman', 'spiderman@com', '657-8154455'),\n",
       " (4, 'Flash Gordon', 'flashgordon@com', '(99) 981-44555'),\n",
       " (5, 'Phantom', 'phantom.test@gmail.com', '(999) 981-4455')]"
      ]
     },
     "execution_count": 18,
     "metadata": {},
     "output_type": "execute_result"
    }
   ],
   "source": [
    "cursor.execute(\"select * from iNeuron.EmailVal\")\n",
    "cursor.fetchall()"
   ]
  },
  {
   "cell_type": "code",
   "execution_count": 27,
   "metadata": {},
   "outputs": [
    {
     "data": {
      "text/plain": [
       "[('superman@kmail.com', 1),\n",
       " ('batmankmail.com', 0),\n",
       " ('spiderman@com', 0),\n",
       " ('flashgordon@com', 0),\n",
       " ('phantom.test@gmail.com', 1)]"
      ]
     },
     "execution_count": 27,
     "metadata": {},
     "output_type": "execute_result"
    }
   ],
   "source": [
    "# Q-3. Write a query to validate Email of Employee.\n",
    "cursor.execute(\"SELECT email, email REGEXP '^[A-Za-z0-9._%\\-+!#$&/=?^|~]+@[A-Za-z0-9.-]+[.][A-Za-z]+$' AS valid_email FROM iNeuron.EmailVal\")\n",
    "cursor.fetchall()"
   ]
  },
  {
   "cell_type": "code",
   "execution_count": null,
   "metadata": {},
   "outputs": [],
   "source": []
  }
 ],
 "metadata": {
  "kernelspec": {
   "display_name": "Python 3",
   "language": "python",
   "name": "python3"
  },
  "language_info": {
   "codemirror_mode": {
    "name": "ipython",
    "version": 3
   },
   "file_extension": ".py",
   "mimetype": "text/x-python",
   "name": "python",
   "nbconvert_exporter": "python",
   "pygments_lexer": "ipython3",
   "version": "3.8.5"
  }
 },
 "nbformat": 4,
 "nbformat_minor": 4
}
