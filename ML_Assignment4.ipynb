{
 "cells": [
  {
   "cell_type": "code",
   "execution_count": null,
   "metadata": {},
   "outputs": [],
   "source": [
    "1. What are the key tasks involved in getting ready to work with machine learning modeling?\n",
    "Ans:\n",
    "Step 1: Collect Data.\n",
    "Step 2: Clean/Prepare the data. \n",
    "Step 3: Choose the model.\n",
    "Step 4: Train your machine model.\n",
    "Step 5: Evaluation. \n",
    "Step 6: Parameter Tuning.\n",
    "Step 7: Prediction or Inference."
   ]
  },
  {
   "cell_type": "code",
   "execution_count": null,
   "metadata": {},
   "outputs": [],
   "source": [
    "2. What are the different forms of data used in machine learning? Give a specific example for each of them.\n",
    "Ans:\n",
    "Most data can be categorized into 4 basic types from a Machine Learning perspective:\n",
    "Nominal:\n",
    "Nominal Data Type is in use to express names or labels which are not order or measurable.\n",
    "Example: Male Or Female (Gender), Race, Country, Etc.\n",
    "\n",
    "Ordinal:\n",
    "Ordinal Data Type is also a Categorical Data Type like Nominal Data But it has some natural ordering associated with it.\n",
    "Example: Rating Scale, Shirt Sizes, Ranks, Grades, Etc.\n",
    "    \n",
    "Interval:\n",
    "Interval Data Type is Numeric Data which has proper order and the exact zero means the true absence of a value attached. \n",
    "Here zero means not a complete absence but has some value. This is the local scale.\n",
    "Example: Temperature Measured In Degree Celsius, Time, Sat Score, Credit Score, PH, Etc. Difference Between Values Is \n",
    "Familiar. In This Case, There Is No Absolute Zero. Absolute \n",
    "\n",
    "    \n",
    "Ratio:\n",
    "Ratio Data Type is Quantitative Data Type is the same as the Interval Data Type but has the absolute zero. Here zero means \n",
    "complete absence and the scale starts from zero. This is the Global Scale.\n",
    "Example: Temperature In Kelvin, Height, Weight, Etc."
   ]
  },
  {
   "cell_type": "code",
   "execution_count": null,
   "metadata": {},
   "outputs": [],
   "source": [
    "3. Distinguish: \n",
    "i. Numeric vs. categorical attributes \n",
    "Ans:\n",
    "Both numerical and categorical data can take numerical values. \n",
    "Categorical data can take values like identification number, postal code, phone number, etc. The only difference is that \n",
    "arithmetic operations cannot be performed on the values taken by categorical data.\n",
    "    \n",
    "ii. Feature selection vs. dimensionality reduction\n",
    "Ans:\n",
    "While both methods are used for reducing the number of features in a dataset, there is an important difference.\n",
    "Feature selection is simply selecting and excluding given features without changing them. Dimensionality reduction \n",
    "transforms features into a lower dimension."
   ]
  },
  {
   "cell_type": "code",
   "execution_count": null,
   "metadata": {},
   "outputs": [],
   "source": [
    "4. Make quick notes on any two of the following: \n",
    "i.The histogram\n",
    "Ans:\n",
    "A histogram is a graphical representation that organizes a group of data points into user-specified ranges. Similar in \n",
    "appearance to a bar graph, the histogram condenses a data series into an easily interpreted visual by taking many data \n",
    "points and grouping them into logical ranges or bins.\n",
    "\n",
    "ii.Use a scatter plot\n",
    "Ans:\n",
    "A scatter plot uses dots to represent values for two different numeric variables. The position of each dot on the\n",
    "horizontal and vertical axis indicates values for an individual data point. Scatter plots are used to observe relationships\n",
    "between variables.\n",
    "    \n",
    "iii.PCA (Personal Computer Aid)\n",
    "Ans:\n",
    "A personal computer (PC) is a multi-purpose computer whose size, capabilities, and price make it feasible for individual \n",
    "use. Personal computers are intended to be operated directly by an end user, rather than by a computer expert or \n",
    "technician."
   ]
  },
  {
   "cell_type": "code",
   "execution_count": null,
   "metadata": {},
   "outputs": [],
   "source": [
    "5. Why is it necessary to investigate data? Is there a discrepancy in how qualitative and quantitative data are explored?\n",
    "Ans:\n",
    "If your data set is messy, building models will not help you to solve your problem. What will happen is “garbage in, \n",
    "garbage out.” In order to build a powerful machine learning algorithm. We need to explore and understand our data set \n",
    "before we define a predictive task and solve it.\n",
    "\n",
    "Quantitative data can be counted, measured, and expressed using numbers. \n",
    "Qualitative data is descriptive and conceptual. Qualitative data can be categorized based on traits and characteristics."
   ]
  },
  {
   "cell_type": "code",
   "execution_count": null,
   "metadata": {},
   "outputs": [],
   "source": [
    "6. What are the various histogram shapes? What exactly are ‘bins'?\n",
    "Ans:\n",
    "Bell-shaped: A bell-shaped histogram, usually presents a normal distribution. \n",
    "Bimodal: A bimodal shape, has two peaks.\n",
    "Skewed left: Some histograms will show a skewed distribution to the left\n",
    "Skewed right: Some histograms will show a skewed distribution to the right\n",
    "Uniform: A uniform distribution, as shown below, provides little information about the system. An example would be a state\n",
    "        lottery, in which each class has about the same number of elements. It may describe a distribution which has \n",
    "        several modes (peaks).\n",
    "Random: A random distribution, has no apparent pattern. Like the uniform distribution, it may describe a distribution that \n",
    "        has several modes (peaks).\n",
    "\n",
    "Bin: A histogram displays numerical data by grouping data into \"bins\" of equal width. Each bin is plotted as a bar whose\n",
    "height corresponds to how many data points are in that bin. Bins are also sometimes called \"intervals\", \"classes\", or \n",
    "\"buckets\"."
   ]
  },
  {
   "cell_type": "code",
   "execution_count": null,
   "metadata": {},
   "outputs": [],
   "source": [
    "7. How do we deal with data outliers?\n",
    "Ans:\n",
    "5 ways to deal with outliers in data\n",
    "i. Set up a filter in your testing tool. Even though this has a little cost, filtering out outliers is worth it.\n",
    "ii. Remove or change outliers during post-test analysis.\n",
    "iii. Change the value of outliers.\n",
    "iv. Consider the underlying distribution.\n",
    "v. Consider the value of mild outliers."
   ]
  },
  {
   "cell_type": "code",
   "execution_count": null,
   "metadata": {},
   "outputs": [],
   "source": [
    "8. What are the various central inclination measures? Why does mean vary too much from median in certain data sets?\n",
    "Ans:\n",
    "Three of the many ways to measure central tendency are the mean, median and mode.\n",
    "\n",
    "The mean is the sum of all the numbers in the set divided by the amount of numbers in the set.\n",
    "The median is the middle point of a number set, in which half the numbers are above the median and half are below."
   ]
  },
  {
   "cell_type": "code",
   "execution_count": null,
   "metadata": {},
   "outputs": [],
   "source": [
    "9. Describe how a scatter plot can be used to investigate bivariate relationships. Is it possible to find outliers using a\n",
    "scatter plot?\n",
    "Ans:\n",
    "A scatterplot is a type of data display that shows the relationship between two numerical variables. Each member of the\n",
    "dataset gets plotted as a point whose (x, y)(x,y)left parenthesis, x, comma, y, right parenthesis coordinates relates to \n",
    "its values for the two variables.\n",
    "\n",
    "If there is a regression line on a scatter plot, you can identify outliers. An outlier for a scatter plot is the point or \n",
    "points that are farthest from the regression line. If one point of a scatter plot is farther from the regression line than \n",
    "some other points, then the scatter plot has at least one outlier."
   ]
  },
  {
   "cell_type": "code",
   "execution_count": null,
   "metadata": {},
   "outputs": [],
   "source": [
    "10. Describe how cross-tabs can be used to figure out how two variables are related.\n",
    "Ans:\n",
    "To describe the relationship between two categorical variables, we use a special type of table called a cross-tabulation\n",
    "(or \"crosstab\" for short). In a cross-tabulation, the categories of one variable determine the rows of the table, and the \n",
    "categories of the other variable determine the columns"
   ]
  },
  {
   "cell_type": "code",
   "execution_count": null,
   "metadata": {},
   "outputs": [],
   "source": []
  }
 ],
 "metadata": {
  "kernelspec": {
   "display_name": "Python 3",
   "language": "python",
   "name": "python3"
  },
  "language_info": {
   "codemirror_mode": {
    "name": "ipython",
    "version": 3
   },
   "file_extension": ".py",
   "mimetype": "text/x-python",
   "name": "python",
   "nbconvert_exporter": "python",
   "pygments_lexer": "ipython3",
   "version": "3.8.5"
  }
 },
 "nbformat": 4,
 "nbformat_minor": 4
}
