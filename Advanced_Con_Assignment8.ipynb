{
 "cells": [
  {
   "cell_type": "code",
   "execution_count": 1,
   "metadata": {},
   "outputs": [
    {
     "name": "stdout",
     "output_type": "stream",
     "text": [
      "A New Exception occured:  6\n"
     ]
    }
   ],
   "source": [
    "# Q1. What are the two latest user-defined exception constraints in Python 3.X?\n",
    "\n",
    "class MyError(Exception):\n",
    "  \n",
    "    # Constructor or Initializer\n",
    "    def __init__(self, value):\n",
    "        self.value = value\n",
    "  \n",
    "    # __str__ is to print() the value\n",
    "    def __str__(self):\n",
    "        return(repr(self.value))\n",
    "  \n",
    "try:\n",
    "    raise(MyError(3*2))\n",
    "  \n",
    "# Value of Exception is stored in error\n",
    "except MyError as error:\n",
    "    print('A New Exception occured: ',error.value)\n"
   ]
  },
  {
   "cell_type": "code",
   "execution_count": null,
   "metadata": {},
   "outputs": [],
   "source": [
    "Q2. How are class-based exceptions that have been raised matched to handlers?\n",
    "Ans:\n",
    "The exceptions that can be handled are class-based and can be handled between try and except. The associated exception \n",
    "classes are predefined in the system and begin with the prefix CX_SY_, such as CX_SY_ZERODIVIDE. \n",
    "In the ABAP keyword documentation, the exception classes whose exceptions may occur when a corresponding ABAP statement is\n",
    "executed are listed for each keyword. "
   ]
  },
  {
   "cell_type": "code",
   "execution_count": null,
   "metadata": {},
   "outputs": [],
   "source": [
    "Q3. Describe two methods for attaching context information to exception artefacts.\n",
    "Ans:\n",
    "Use docstring to add information about the method.enclose your context like this - '''context'''"
   ]
  },
  {
   "cell_type": "code",
   "execution_count": 7,
   "metadata": {},
   "outputs": [
    {
     "name": "stdout",
     "output_type": "stream",
     "text": [
      "Enter an integer : 0\n",
      "division by zero\n",
      "close this issue \n",
      "Enter an integer : 1\n",
      "person has entered a correct value \n",
      "close this issue \n"
     ]
    }
   ],
   "source": [
    "# Q4. Describe two methods for specifying the text of an exception object's error message.\n",
    "\n",
    "def askforint():\n",
    "    while True:\n",
    "        try:\n",
    "            a = int(input(\"Enter an integer : \"))\n",
    "            c = 8/a\n",
    "        except FileNotFoundError as e:\n",
    "            print(\"this is my error msg\", e)\n",
    "        except IOError as e:\n",
    "            print(e)\n",
    "        except ValueError as e:\n",
    "            print(e)\n",
    "        except ZeroDivisionError as e:\n",
    "            print(e)\n",
    "        except Exception as e:\n",
    "            print(\"this is coming from patent class \", e)\n",
    "        except ArithmeticError as e:\n",
    "            print(\"this is a arithmetic error\",e)\n",
    "        else:\n",
    "            print(\"person has entered a correct value \")\n",
    "            break\n",
    "        finally:\n",
    "            print(\"close this issue \")\n",
    "\n",
    "askforint()"
   ]
  },
  {
   "cell_type": "code",
   "execution_count": null,
   "metadata": {},
   "outputs": [],
   "source": [
    "Q5. Why do you no longer use string-based exceptions?\n",
    "Ans:\n",
    "For user-defined classes, Exception is used. This class is responsible for creating a string representation of the \n",
    "exception using str() using the arguments passed. An empty string is returned if there are no arguments."
   ]
  },
  {
   "cell_type": "code",
   "execution_count": null,
   "metadata": {},
   "outputs": [],
   "source": []
  }
 ],
 "metadata": {
  "kernelspec": {
   "display_name": "Python 3",
   "language": "python",
   "name": "python3"
  },
  "language_info": {
   "codemirror_mode": {
    "name": "ipython",
    "version": 3
   },
   "file_extension": ".py",
   "mimetype": "text/x-python",
   "name": "python",
   "nbconvert_exporter": "python",
   "pygments_lexer": "ipython3",
   "version": "3.8.5"
  }
 },
 "nbformat": 4,
 "nbformat_minor": 4
}
