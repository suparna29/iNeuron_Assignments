{
 "cells": [
  {
   "cell_type": "code",
   "execution_count": null,
   "metadata": {},
   "outputs": [],
   "source": [
    "1. What is the concept of human learning? Please give two examples.\n",
    "Ans:\n",
    "From the childhood, anything we observe and try to aquire is learning. For example- learn to walk without falling down, \n",
    "learn to recognize mother, father, learn to understand fire is hot not to touch etc.."
   ]
  },
  {
   "cell_type": "code",
   "execution_count": null,
   "metadata": {},
   "outputs": [],
   "source": [
    "2. What different forms of human learning are there? Are there any machine learning equivalents?\n",
    "Ans:\n",
    "The three major types of learning described by behavioral psychology are classical conditioning, operant conditioning, \n",
    "and observational learning.\n",
    "all of these techniques we use in machine learning to train a model."
   ]
  },
  {
   "cell_type": "code",
   "execution_count": null,
   "metadata": {},
   "outputs": [],
   "source": [
    "3. What is machine learning, and how does it work? What are the key responsibilities of machine learning?\n",
    "Ans:\n",
    "Machine learning (ML) is a type of artificial intelligence (AI) that allows software applications to become more accurate\n",
    "at predicting outcomes without being explicitly programmed to do so.\n",
    "Machine learning algorithms use historical data as input to predict new output values.\n",
    "\n",
    "Roles and responsibilities of a machine learning engineer:\n",
    "Designing ML systems.\n",
    "Researching and implementing ML algorithms and tools.\n",
    "Selecting appropriate data sets.\n",
    "Picking appropriate data representation methods.\n",
    "Identifying differences in data distribution that affects model performance.\n",
    "Verifying data quality."
   ]
  },
  {
   "cell_type": "code",
   "execution_count": null,
   "metadata": {},
   "outputs": [],
   "source": [
    "4. Define the terms \"penalty\" and \"reward\" in the context of reinforcement learning.\n",
    "Ans:\n",
    "A reinforcement learning algorithm, which may also be referred to as an agent, learns by interacting with its environment.\n",
    "The agent receives rewards by performing correctly and penalties for performing incorrectly. The agent learns without \n",
    "intervention from a human by maximizing its reward and minimizing its penalty."
   ]
  },
  {
   "cell_type": "code",
   "execution_count": null,
   "metadata": {},
   "outputs": [],
   "source": [
    "5. Explain the term \"learning as a search\"?\n",
    "Ans:\n",
    "A Gentle Introduction to Applied Machine Learning as a Search Problem. The application of machine learning is best thought\n",
    "of as search problem for the best mapping of inputs to outputs given the knowledge and resources available to you for a \n",
    "given project."
   ]
  },
  {
   "cell_type": "code",
   "execution_count": null,
   "metadata": {},
   "outputs": [],
   "source": [
    "6. What are the various goals of machine learning? What is the relationship between these and human learning?\n",
    "Ans:\n",
    "The purpose of machine learning is to discover patterns in your data and then make predictions based on often complex \n",
    "patterns to answer business questions, detect and analyse trends and help solve problems."
   ]
  },
  {
   "cell_type": "code",
   "execution_count": null,
   "metadata": {},
   "outputs": [],
   "source": [
    "7. Illustrate the various elements of machine learning using a real-life illustration.\n",
    "Ans:\n",
    "Image Recognition\n",
    "Speech Recognition\n",
    "Medical diagnosis\n",
    "Statistical Arbitrage\n",
    "Learning associations\n",
    "Classification\n",
    "Prediction\n",
    "Extraction\n",
    "Regression\n",
    "Financial Services"
   ]
  },
  {
   "cell_type": "code",
   "execution_count": null,
   "metadata": {},
   "outputs": [],
   "source": [
    "8. Provide an example of the abstraction method.\n",
    "Ans:\n",
    "A method without body (no implementation) is known as abstract method. \n",
    "public abstract int myMethod(int n1, int n2); As you see this has no body."
   ]
  },
  {
   "cell_type": "code",
   "execution_count": null,
   "metadata": {},
   "outputs": [],
   "source": [
    "9. What is the concept of generalization? What function does it play in the machine learning process?\n",
    "Ans:\n",
    "In machine learning, generalization is a definition to demonstrate how well is a trained model to classify or forecast \n",
    "unseen data. Training a generalized machine learning model means, in general, it works for all subset of unseen data. \n",
    "An example is when we train a model to classify between dogs and cats."
   ]
  },
  {
   "cell_type": "code",
   "execution_count": null,
   "metadata": {},
   "outputs": [],
   "source": [
    "10. What is classification, exactly? What are the main distinctions between classification and regression?\n",
    "Ans:\n",
    "Classification is the task of predicting a discrete class label. Regression is the task of predicting a continuous quantity.\n",
    "\n",
    "Classification:\n",
    "Classification is a process of finding a function which helps in dividing the dataset into classes based on different \n",
    "parameters. In Classification, a computer program is trained on the training dataset and based on that training, it \n",
    "categorizes the data into different classes.\n",
    "\n",
    "The task of the classification algorithm is to find the mapping function to map the input(x) to the discrete output(y).\n",
    "\n",
    "Example: The best example to understand the Classification problem is Email Spam Detection. The model is trained on the \n",
    "basis of millions of emails on different parameters, and whenever it receives a new email, it identifies whether the email \n",
    "is spam or not. If the email is spam, then it is moved to the Spam folder.\n",
    "\n",
    "Types of ML Classification Algorithms:\n",
    "Logistic Regression\n",
    "K-Nearest Neighbours\n",
    "Support Vector Machines\n",
    "Kernel SVM\n",
    "Naïve Bayes\n",
    "Decision Tree Classification\n",
    "Random Forest Classification\n"
   ]
  },
  {
   "cell_type": "code",
   "execution_count": null,
   "metadata": {},
   "outputs": [],
   "source": [
    "11. What is regression, and how does it work? Give an example of a real-world problem that was solved using regression.\n",
    "Ans:\n",
    "    \n",
    "Regression:\n",
    "Regression is a process of finding the correlations between dependent and independent variables. It helps in predicting the\n",
    "continuous variables such as prediction of Market Trends, prediction of House prices, etc.\n",
    "\n",
    "The task of the Regression algorithm is to find the mapping function to map the input variable(x) to the continuous output \n",
    "variable(y).\n",
    "\n",
    "Example: Suppose we want to do weather forecasting, so for this, we will use the Regression algorithm. In weather \n",
    "prediction, the model is trained on the past data, and once the training is completed, it can easily predict the weather \n",
    "for future days.\n",
    "\n",
    "Types of Regression Algorithm:\n",
    "Simple Linear Regression\n",
    "Multiple Linear Regression\n",
    "Polynomial Regression\n",
    "Support Vector Regression\n",
    "Decision Tree Regression\n",
    "Random Forest Regression"
   ]
  },
  {
   "cell_type": "code",
   "execution_count": null,
   "metadata": {},
   "outputs": [],
   "source": [
    "12. Describe the clustering mechanism in detail.\n",
    "Ans:\n",
    "Clustering or cluster analysis is a machine learning technique, which groups the unlabelled dataset. It can be defined as\n",
    "a way of grouping the data points into different clusters, consisting of similar data points.\n",
    "\n",
    "Types of Clustering Algorithm:\n",
    "Agglomerative Clustering\n",
    "DBSCAN\n",
    "K-Means\n",
    "Mini-Batch K-Means\n",
    "OPTICS\n",
    "Mixture of Gaussians"
   ]
  },
  {
   "cell_type": "code",
   "execution_count": null,
   "metadata": {},
   "outputs": [],
   "source": [
    "13. Make brief observations on two of the following topics:\n",
    "i. Machine learning algorithms are used \n",
    "ii. Studying under supervision \n",
    "iii. Studying without supervision\n",
    "iv. Reinforcement learning is a form of learning based on positive reinforcement.\n",
    "Ans:\n",
    "    \n",
    "ii.\n",
    "Supervised learning, also known as supervised machine learning, is a subcategory of machine learning and artificial \n",
    "intelligence. It is defined by its use of labeled datasets to train algorithms that to classify data or predict outcomes \n",
    "accurately. As input data is fed into the model, it adjusts its weights until the model has been fitted appropriately, \n",
    "which occurs as part of the cross validation process. Supervised learning helps organizations solve for a variety of \n",
    "real-world problems at scale, such as classifying spam in a separate folder from your inbox.\n",
    "\n",
    "iv. \n",
    "Reinforcement learning is an area of Machine Learning. It is about taking suitable action to maximize reward in a \n",
    "particular situation. It is employed by various software and machines to find the best possible behavior or path it should \n",
    "take in a specific situation. Reinforcement learning differs from the supervised learning in a way that in supervised \n",
    "learning the training data has the answer key with it so the model is trained with the correct answer itself whereas in \n",
    "reinforcement learning, there is no answer but the reinforcement agent decides what to do to perform the given task. In \n",
    "the absence of a training dataset, it is bound to learn from its experience.\n"
   ]
  },
  {
   "cell_type": "code",
   "execution_count": null,
   "metadata": {},
   "outputs": [],
   "source": []
  },
  {
   "cell_type": "code",
   "execution_count": null,
   "metadata": {},
   "outputs": [],
   "source": []
  }
 ],
 "metadata": {
  "kernelspec": {
   "display_name": "Python 3",
   "language": "python",
   "name": "python3"
  },
  "language_info": {
   "codemirror_mode": {
    "name": "ipython",
    "version": 3
   },
   "file_extension": ".py",
   "mimetype": "text/x-python",
   "name": "python",
   "nbconvert_exporter": "python",
   "pygments_lexer": "ipython3",
   "version": "3.8.5"
  }
 },
 "nbformat": 4,
 "nbformat_minor": 4
}
