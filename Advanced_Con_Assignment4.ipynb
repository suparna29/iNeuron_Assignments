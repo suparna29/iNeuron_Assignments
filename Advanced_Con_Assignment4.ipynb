{
 "cells": [
  {
   "cell_type": "code",
   "execution_count": 3,
   "metadata": {},
   "outputs": [
    {
     "name": "stdout",
     "output_type": "stream",
     "text": [
      "2\n",
      "3\n",
      "4\n",
      "5\n",
      "6\n",
      "7\n"
     ]
    }
   ],
   "source": [
    "# Q1. Which two operator overloading methods can you use in your classes to support iteration?\n",
    "\n",
    "class Counter:\n",
    "    def __init__(self, low, high):\n",
    "        self.current = low\n",
    "        self.high = high\n",
    " \n",
    "    def __iter__(self):\n",
    "        return self\n",
    " \n",
    "    def __next__(self):\n",
    "        if self.current > self.high:\n",
    "            raise StopIteration\n",
    "        else:\n",
    "            self.current += 1\n",
    "            return self.current - 1\n",
    " \n",
    " \n",
    "for num in Counter(2, 7):\n",
    "    print(num)"
   ]
  },
  {
   "cell_type": "code",
   "execution_count": 6,
   "metadata": {},
   "outputs": [
    {
     "name": "stdout",
     "output_type": "stream",
     "text": [
      "5\n"
     ]
    }
   ],
   "source": [
    "# Q2. In what contexts do the two operator overloading methods manage printing?\n",
    "\n",
    "class Purchase:\n",
    "    def __init__(self, basket, buyer):\n",
    "        self.basket = list(basket)\n",
    "        self.buyer = buyer\n",
    "\n",
    "    def __len__(self):\n",
    "        return len(self.basket)\n",
    "\n",
    "purchase = Purchase(['pen', 'book', 'pencil', 'pin', 'sharpner'], 'Python')\n",
    "print(len(purchase))"
   ]
  },
  {
   "cell_type": "code",
   "execution_count": 17,
   "metadata": {},
   "outputs": [
    {
     "data": {
      "text/plain": [
       "[1, 2, 3, 4]"
      ]
     },
     "execution_count": 17,
     "metadata": {},
     "output_type": "execute_result"
    }
   ],
   "source": [
    "# Q3. In a class, how do you intercept slice operations?\n",
    "\n",
    "class InterceptedList(list):\n",
    "\n",
    "    def addSave(func):\n",
    "        def newfunc(self, *args):\n",
    "            func(self, *args)\n",
    "            print ('saving')\n",
    "        return newfunc\n",
    "\n",
    "l = InterceptedList()\n",
    "l.extend([1,2,3,4])\n",
    "l"
   ]
  },
  {
   "cell_type": "code",
   "execution_count": 18,
   "metadata": {},
   "outputs": [
    {
     "data": {
      "text/plain": [
       "[1, 2, 3, 10]"
      ]
     },
     "execution_count": 18,
     "metadata": {},
     "output_type": "execute_result"
    }
   ],
   "source": [
    "l[3:] = [10] # note: 'saving' is not printed\n",
    "l"
   ]
  },
  {
   "cell_type": "code",
   "execution_count": 19,
   "metadata": {},
   "outputs": [
    {
     "name": "stdout",
     "output_type": "stream",
     "text": [
      "Value after adding using normal operator : 11\n",
      "Value after adding using Inplace operator : 11\n",
      "Value of first argument using normal operator : 5\n",
      "Value of first argument using Inplace operator : 5\n"
     ]
    }
   ],
   "source": [
    "# Q4. In a class, how do you capture in-place addition?\n",
    "\n",
    "import operator\n",
    "  \n",
    "# Initializing values\n",
    "x = 5\n",
    "y = 6\n",
    "a = 5\n",
    "b = 6\n",
    "  \n",
    "# using add() to add the arguments passed \n",
    "z = operator.add(a,b)\n",
    "  \n",
    "# using iadd() to add the arguments passed \n",
    "p = operator.iadd(x,y)\n",
    "  \n",
    "# printing the modified value\n",
    "print (\"Value after adding using normal operator : \",end=\"\")\n",
    "print (z)\n",
    "  \n",
    "# printing the modified value\n",
    "print (\"Value after adding using Inplace operator : \",end=\"\")\n",
    "print (p)\n",
    "  \n",
    "# printing value of first argument\n",
    "# value is unchanged\n",
    "print (\"Value of first argument using normal operator : \",end=\"\")\n",
    "print (a)\n",
    "  \n",
    "# printing value of first argument\n",
    "# value is unchanged\n",
    "print (\"Value of first argument using Inplace operator : \",end=\"\")\n",
    "print (x)"
   ]
  },
  {
   "cell_type": "code",
   "execution_count": null,
   "metadata": {},
   "outputs": [],
   "source": [
    "Q5. When is it appropriate to use operator overloading?\n",
    "Ans:\n",
    "Operator Overloading means giving extended meaning beyond their predefined operational meaning. For example operator + is \n",
    "used to add two integers as well as join two strings and merge two lists. It is achievable because '+' operator is \n",
    "overloaded by int class and str class."
   ]
  }
 ],
 "metadata": {
  "kernelspec": {
   "display_name": "Python 3",
   "language": "python",
   "name": "python3"
  },
  "language_info": {
   "codemirror_mode": {
    "name": "ipython",
    "version": 3
   },
   "file_extension": ".py",
   "mimetype": "text/x-python",
   "name": "python",
   "nbconvert_exporter": "python",
   "pygments_lexer": "ipython3",
   "version": "3.8.5"
  }
 },
 "nbformat": 4,
 "nbformat_minor": 4
}
