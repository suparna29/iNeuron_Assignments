{
  "nbformat": 4,
  "nbformat_minor": 0,
  "metadata": {
    "colab": {
      "name": "Basic_Programming Assignment_1.ipynb",
      "provenance": [],
      "collapsed_sections": []
    },
    "kernelspec": {
      "name": "python3",
      "display_name": "Python 3"
    },
    "language_info": {
      "name": "python"
    }
  },
  "cells": [
    {
      "cell_type": "code",
      "metadata": {
        "colab": {
          "base_uri": "https://localhost:8080/",
          "height": 35
        },
        "id": "rpk64KE_ggFS",
        "outputId": "34191ca6-1093-44d7-a3e0-de12eb78ef59"
      },
      "source": [
        "# 1. Write a Python program to print \"Hello Python\"?\n",
        "p = \"Hello Python\"\n",
        "p"
      ],
      "execution_count": 12,
      "outputs": [
        {
          "output_type": "execute_result",
          "data": {
            "application/vnd.google.colaboratory.intrinsic+json": {
              "type": "string"
            },
            "text/plain": [
              "'Hello Python'"
            ]
          },
          "metadata": {
            "tags": []
          },
          "execution_count": 12
        }
      ]
    },
    {
      "cell_type": "code",
      "metadata": {
        "colab": {
          "base_uri": "https://localhost:8080/"
        },
        "id": "kVpfSzHNlXHC",
        "outputId": "b2ee2f9c-8cbb-4cff-901c-224089b74144"
      },
      "source": [
        "# 2. Write a Python program to do arithmetical operations addition and division.?\n",
        "a = float(input(\"enter the value of a: \"))\n",
        "b = float(input(\"enter the value of b: \"))\n",
        "c = a+b\n",
        "d = a/b\n"
      ],
      "execution_count": 42,
      "outputs": [
        {
          "output_type": "stream",
          "text": [
            "enter the value of a: 7\n",
            "enter the value of b: 3.5\n"
          ],
          "name": "stdout"
        }
      ]
    },
    {
      "cell_type": "code",
      "metadata": {
        "colab": {
          "base_uri": "https://localhost:8080/"
        },
        "id": "uU9-qLOuoVBJ",
        "outputId": "dca8f2a9-601e-4808-9e68-6d44563b4bac"
      },
      "source": [
        "c"
      ],
      "execution_count": 43,
      "outputs": [
        {
          "output_type": "execute_result",
          "data": {
            "text/plain": [
              "10.5"
            ]
          },
          "metadata": {
            "tags": []
          },
          "execution_count": 43
        }
      ]
    },
    {
      "cell_type": "code",
      "metadata": {
        "colab": {
          "base_uri": "https://localhost:8080/"
        },
        "id": "ERqS3Xc2tM3u",
        "outputId": "d2e2864a-3925-4753-d79f-8d9b9181ef56"
      },
      "source": [
        "d"
      ],
      "execution_count": 44,
      "outputs": [
        {
          "output_type": "execute_result",
          "data": {
            "text/plain": [
              "2.0"
            ]
          },
          "metadata": {
            "tags": []
          },
          "execution_count": 44
        }
      ]
    },
    {
      "cell_type": "code",
      "metadata": {
        "colab": {
          "base_uri": "https://localhost:8080/"
        },
        "id": "jlDRZs52oVDw",
        "outputId": "0fdc17ae-2fa2-4ac8-bff5-18cc9fdca3fb"
      },
      "source": [
        "# 3. Write a Python program to find the area of a triangle?\n",
        "a = float(input(\"Enter first side of the triangle: \"))\n",
        "b = float(input(\"Enter second side of the triangle: \"))\n",
        "c = float(input(\"Enter third side of the triangle: \"))\n",
        "s = (a + b + c) / 2\n",
        "area = (s*(s-a)*(s-b)*(s-c)) ** 0.5  "
      ],
      "execution_count": 50,
      "outputs": [
        {
          "output_type": "stream",
          "text": [
            "Enter first side of the triangle: 74.2\n",
            "Enter second side of the triangle: 52.3\n",
            "Enter third side of the triangle: 12\n"
          ],
          "name": "stdout"
        }
      ]
    },
    {
      "cell_type": "code",
      "metadata": {
        "colab": {
          "base_uri": "https://localhost:8080/"
        },
        "id": "BLYqvoNMoVGh",
        "outputId": "0e5392a5-1d79-4465-8934-e84fe13c77be"
      },
      "source": [
        "s"
      ],
      "execution_count": 53,
      "outputs": [
        {
          "output_type": "execute_result",
          "data": {
            "text/plain": [
              "69.25"
            ]
          },
          "metadata": {
            "tags": []
          },
          "execution_count": 53
        }
      ]
    },
    {
      "cell_type": "code",
      "metadata": {
        "colab": {
          "base_uri": "https://localhost:8080/"
        },
        "id": "p5GcS3P-oVIv",
        "outputId": "d5d9a492-42ee-43c0-cace-f37e47480d71"
      },
      "source": [
        "area"
      ],
      "execution_count": 54,
      "outputs": [
        {
          "output_type": "execute_result",
          "data": {
            "text/plain": [
              "(3.5315547306763294e-14+576.7466559558454j)"
            ]
          },
          "metadata": {
            "tags": []
          },
          "execution_count": 54
        }
      ]
    },
    {
      "cell_type": "code",
      "metadata": {
        "id": "pWQOjn6XoVK-"
      },
      "source": [
        "# 4. Write a Python program to swap two variables?\n",
        "x = 35\n",
        "y = 18\n",
        "temp = x\n",
        "x = y\n",
        "y = temp\n"
      ],
      "execution_count": 59,
      "outputs": []
    },
    {
      "cell_type": "code",
      "metadata": {
        "colab": {
          "base_uri": "https://localhost:8080/"
        },
        "id": "JS-5F73EoVNK",
        "outputId": "79c3290a-4094-4e94-de65-bbc9d5919662"
      },
      "source": [
        "x"
      ],
      "execution_count": 60,
      "outputs": [
        {
          "output_type": "execute_result",
          "data": {
            "text/plain": [
              "18"
            ]
          },
          "metadata": {
            "tags": []
          },
          "execution_count": 60
        }
      ]
    },
    {
      "cell_type": "code",
      "metadata": {
        "colab": {
          "base_uri": "https://localhost:8080/"
        },
        "id": "KIclY14PoVPQ",
        "outputId": "be2bb044-9de9-4272-86b1-3fbf3db84f8b"
      },
      "source": [
        "y"
      ],
      "execution_count": 61,
      "outputs": [
        {
          "output_type": "execute_result",
          "data": {
            "text/plain": [
              "35"
            ]
          },
          "metadata": {
            "tags": []
          },
          "execution_count": 61
        }
      ]
    },
    {
      "cell_type": "code",
      "metadata": {
        "colab": {
          "base_uri": "https://localhost:8080/"
        },
        "id": "MjVOSm4qzGe3",
        "outputId": "b12bba70-d56a-473f-91d4-e40c0c79d0f3"
      },
      "source": [
        "#5. Write a Python program to generate a random number?\n",
        "\n",
        "random.randint(0,1000)\n"
      ],
      "execution_count": 77,
      "outputs": [
        {
          "output_type": "execute_result",
          "data": {
            "text/plain": [
              "753"
            ]
          },
          "metadata": {
            "tags": []
          },
          "execution_count": 77
        }
      ]
    }
  ]
}